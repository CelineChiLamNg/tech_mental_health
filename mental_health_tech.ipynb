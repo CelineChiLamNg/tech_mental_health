{
 "cells": [
  {
   "cell_type": "markdown",
   "source": [
    "# Mental Health in Tech Industry Analysis 2014-2019\n",
    "### *author: Celine Ng*\n",
    "### *April 2024*"
   ],
   "metadata": {
    "collapsed": false
   },
   "id": "69181126df6336d4"
  },
  {
   "cell_type": "markdown",
   "source": [
    "# Table of Contents \n",
    "1. Notebook Preparation\n",
    "    1.1 Libraries Installation\n",
    "    1.2 Data Retrieval\n",
    "    1.3 Initial Data Cleaning\n",
    "2. Dataset 'Answer'\n",
    "    2.1 Overview of the Surveys Over the Years\n",
    "        2.1.1 Insights\n",
    "    2.2 Survey Questions\n",
    "        2.2.1 Insights\n",
    "3. Questions Available In All Surveys\n",
    "    3.1 Prepare Datasets\n",
    "        3.1.1 QuestionID 1\n",
    "        3.1.2 QuestionID 2\n",
    "        3.1.3 QuestionID 3\n",
    "        3.1.4 QuestionID 4\n",
    "        3.1.5 QuestionID 5\n",
    "        3.1.6 QuestionID 6\n",
    "        3.1.7 QuestionID 7\n",
    "        3.1.8 QuestionID 8\n",
    "        3.1.9 QuestionID 9\n",
    "        3.1.10 QuestionID 10\n",
    "        3.1.11 QuestionID 11\n",
    "        3.1.12 QuestionID 12\n",
    "    3.2 Available Data\n",
    "        3.2.1 Insights"
   ],
   "metadata": {
    "collapsed": false
   },
   "id": "681b1ea051fad5c1"
  },
  {
   "cell_type": "markdown",
   "source": [
    "# 1. Notebook preparation\n",
    "## 1.1 Libraries Installation"
   ],
   "metadata": {
    "collapsed": false
   },
   "id": "2cc065289896539a"
  },
  {
   "cell_type": "code",
   "outputs": [
    {
     "name": "stdout",
     "output_type": "stream",
     "text": [
      "Requirement already satisfied: pandas in c:\\users\\acer\\appdata\\local\\programs\\python\\python312\\lib\\site-packages (2.2.2)\n",
      "Requirement already satisfied: numpy>=1.26.0 in c:\\users\\acer\\appdata\\local\\programs\\python\\python312\\lib\\site-packages (from pandas) (1.26.4)\n",
      "Requirement already satisfied: python-dateutil>=2.8.2 in c:\\users\\acer\\appdata\\local\\programs\\python\\python312\\lib\\site-packages (from pandas) (2.9.0.post0)\n",
      "Requirement already satisfied: pytz>=2020.1 in c:\\users\\acer\\appdata\\local\\programs\\python\\python312\\lib\\site-packages (from pandas) (2024.1)\n",
      "Requirement already satisfied: tzdata>=2022.7 in c:\\users\\acer\\appdata\\local\\programs\\python\\python312\\lib\\site-packages (from pandas) (2024.1)\n",
      "Requirement already satisfied: six>=1.5 in c:\\users\\acer\\appdata\\local\\programs\\python\\python312\\lib\\site-packages (from python-dateutil>=2.8.2->pandas) (1.16.0)\n",
      "Requirement already satisfied: matplotlib in c:\\users\\acer\\appdata\\local\\programs\\python\\python312\\lib\\site-packages (3.8.4)\n",
      "Requirement already satisfied: contourpy>=1.0.1 in c:\\users\\acer\\appdata\\local\\programs\\python\\python312\\lib\\site-packages (from matplotlib) (1.2.1)\n",
      "Requirement already satisfied: cycler>=0.10 in c:\\users\\acer\\appdata\\local\\programs\\python\\python312\\lib\\site-packages (from matplotlib) (0.12.1)\n",
      "Requirement already satisfied: fonttools>=4.22.0 in c:\\users\\acer\\appdata\\local\\programs\\python\\python312\\lib\\site-packages (from matplotlib) (4.51.0)\n",
      "Requirement already satisfied: kiwisolver>=1.3.1 in c:\\users\\acer\\appdata\\local\\programs\\python\\python312\\lib\\site-packages (from matplotlib) (1.4.5)\n",
      "Requirement already satisfied: numpy>=1.21 in c:\\users\\acer\\appdata\\local\\programs\\python\\python312\\lib\\site-packages (from matplotlib) (1.26.4)\n",
      "Requirement already satisfied: packaging>=20.0 in c:\\users\\acer\\appdata\\local\\programs\\python\\python312\\lib\\site-packages (from matplotlib) (24.0)\n",
      "Requirement already satisfied: pillow>=8 in c:\\users\\acer\\appdata\\local\\programs\\python\\python312\\lib\\site-packages (from matplotlib) (10.3.0)\n",
      "Requirement already satisfied: pyparsing>=2.3.1 in c:\\users\\acer\\appdata\\local\\programs\\python\\python312\\lib\\site-packages (from matplotlib) (3.1.2)\n",
      "Requirement already satisfied: python-dateutil>=2.7 in c:\\users\\acer\\appdata\\local\\programs\\python\\python312\\lib\\site-packages (from matplotlib) (2.9.0.post0)\n",
      "Requirement already satisfied: six>=1.5 in c:\\users\\acer\\appdata\\local\\programs\\python\\python312\\lib\\site-packages (from python-dateutil>=2.7->matplotlib) (1.16.0)\n",
      "Requirement already satisfied: seaborn in c:\\users\\acer\\appdata\\local\\programs\\python\\python312\\lib\\site-packages (0.13.2)\n",
      "Requirement already satisfied: numpy!=1.24.0,>=1.20 in c:\\users\\acer\\appdata\\local\\programs\\python\\python312\\lib\\site-packages (from seaborn) (1.26.4)\n",
      "Requirement already satisfied: pandas>=1.2 in c:\\users\\acer\\appdata\\local\\programs\\python\\python312\\lib\\site-packages (from seaborn) (2.2.2)\n",
      "Requirement already satisfied: matplotlib!=3.6.1,>=3.4 in c:\\users\\acer\\appdata\\local\\programs\\python\\python312\\lib\\site-packages (from seaborn) (3.8.4)\n",
      "Requirement already satisfied: contourpy>=1.0.1 in c:\\users\\acer\\appdata\\local\\programs\\python\\python312\\lib\\site-packages (from matplotlib!=3.6.1,>=3.4->seaborn) (1.2.1)\n",
      "Requirement already satisfied: cycler>=0.10 in c:\\users\\acer\\appdata\\local\\programs\\python\\python312\\lib\\site-packages (from matplotlib!=3.6.1,>=3.4->seaborn) (0.12.1)\n",
      "Requirement already satisfied: fonttools>=4.22.0 in c:\\users\\acer\\appdata\\local\\programs\\python\\python312\\lib\\site-packages (from matplotlib!=3.6.1,>=3.4->seaborn) (4.51.0)\n",
      "Requirement already satisfied: kiwisolver>=1.3.1 in c:\\users\\acer\\appdata\\local\\programs\\python\\python312\\lib\\site-packages (from matplotlib!=3.6.1,>=3.4->seaborn) (1.4.5)\n",
      "Requirement already satisfied: packaging>=20.0 in c:\\users\\acer\\appdata\\local\\programs\\python\\python312\\lib\\site-packages (from matplotlib!=3.6.1,>=3.4->seaborn) (24.0)\n",
      "Requirement already satisfied: pillow>=8 in c:\\users\\acer\\appdata\\local\\programs\\python\\python312\\lib\\site-packages (from matplotlib!=3.6.1,>=3.4->seaborn) (10.3.0)\n",
      "Requirement already satisfied: pyparsing>=2.3.1 in c:\\users\\acer\\appdata\\local\\programs\\python\\python312\\lib\\site-packages (from matplotlib!=3.6.1,>=3.4->seaborn) (3.1.2)\n",
      "Requirement already satisfied: python-dateutil>=2.7 in c:\\users\\acer\\appdata\\local\\programs\\python\\python312\\lib\\site-packages (from matplotlib!=3.6.1,>=3.4->seaborn) (2.9.0.post0)\n",
      "Requirement already satisfied: pytz>=2020.1 in c:\\users\\acer\\appdata\\local\\programs\\python\\python312\\lib\\site-packages (from pandas>=1.2->seaborn) (2024.1)\n",
      "Requirement already satisfied: tzdata>=2022.7 in c:\\users\\acer\\appdata\\local\\programs\\python\\python312\\lib\\site-packages (from pandas>=1.2->seaborn) (2024.1)\n",
      "Requirement already satisfied: six>=1.5 in c:\\users\\acer\\appdata\\local\\programs\\python\\python312\\lib\\site-packages (from python-dateutil>=2.7->matplotlib!=3.6.1,>=3.4->seaborn) (1.16.0)\n"
     ]
    }
   ],
   "source": [
    "!pip install pandas\n",
    "!pip install matplotlib\n",
    "!pip install seaborn"
   ],
   "metadata": {
    "collapsed": false,
    "ExecuteTime": {
     "end_time": "2024-04-27T13:55:32.131380Z",
     "start_time": "2024-04-27T13:55:04.677283Z"
    }
   },
   "id": "fa4007094670e04e",
   "execution_count": 172
  },
  {
   "cell_type": "code",
   "outputs": [],
   "source": [
    "import pandas as pd\n",
    "import matplotlib.pyplot as plt\n",
    "import seaborn as sns\n",
    "import sqlite3 as sql"
   ],
   "metadata": {
    "collapsed": false,
    "ExecuteTime": {
     "end_time": "2024-04-27T13:55:32.145331Z",
     "start_time": "2024-04-27T13:55:32.137586Z"
    }
   },
   "id": "76fe65a61a98beeb",
   "execution_count": 173
  },
  {
   "cell_type": "markdown",
   "source": [
    "## 1.2 Data Retrieval\n",
    "Objective: Preview datasets and have a general understanding of each of the \n",
    "tables."
   ],
   "metadata": {
    "collapsed": false
   },
   "id": "d5d7a9407607afbb"
  },
  {
   "cell_type": "markdown",
   "source": [
    "Create a relative path to the SQLite database and connect to the SQLite \n",
    "database"
   ],
   "metadata": {
    "collapsed": false
   },
   "id": "290a2a0ad0cb267"
  },
  {
   "cell_type": "code",
   "outputs": [],
   "source": [
    "database_path = 'mental_health.sqlite'\n",
    "conn = sql.connect(database_path)"
   ],
   "metadata": {
    "collapsed": false,
    "ExecuteTime": {
     "end_time": "2024-04-27T13:55:32.158993Z",
     "start_time": "2024-04-27T13:55:32.149312Z"
    }
   },
   "id": "89cb3a937c75d279",
   "execution_count": 174
  },
  {
   "cell_type": "markdown",
   "source": [
    "Check how many tables is in the database and the names of them"
   ],
   "metadata": {
    "collapsed": false
   },
   "id": "7fef294b479dfb5f"
  },
  {
   "cell_type": "code",
   "outputs": [
    {
     "name": "stdout",
     "output_type": "stream",
     "text": [
      "       name\n",
      "0    Answer\n",
      "1  Question\n",
      "2    Survey\n"
     ]
    }
   ],
   "source": [
    "query = 'SELECT name FROM sqlite_master WHERE type=\"table\";'\n",
    "tables = pd.read_sql_query(query, conn)\n",
    "print(tables)"
   ],
   "metadata": {
    "collapsed": false,
    "ExecuteTime": {
     "end_time": "2024-04-27T13:55:32.204815Z",
     "start_time": "2024-04-27T13:55:32.166234Z"
    }
   },
   "id": "cd52b49b32b756d4",
   "execution_count": 175
  },
  {
   "cell_type": "markdown",
   "source": [
    "**Answer**"
   ],
   "metadata": {
    "collapsed": false
   },
   "id": "67fe2e0961898958"
  },
  {
   "cell_type": "code",
   "outputs": [
    {
     "data": {
      "text/plain": "                AnswerText  SurveyID  UserID  QuestionID\n0                       37      2014       1           1\n1                       44      2014       2           1\n2                       32      2014       3           1\n3                       31      2014       4           1\n4                       31      2014       5           1\n...                    ...       ...     ...         ...\n236893               Other      2016    2689         117\n236894             Support      2016    2690         117\n236895  Back-end Developer      2016    2691         117\n236896     DevOps/SysAdmin      2016    2692         117\n236897               Other      2016    2693         117\n\n[236898 rows x 4 columns]",
      "text/html": "<div>\n<style scoped>\n    .dataframe tbody tr th:only-of-type {\n        vertical-align: middle;\n    }\n\n    .dataframe tbody tr th {\n        vertical-align: top;\n    }\n\n    .dataframe thead th {\n        text-align: right;\n    }\n</style>\n<table border=\"1\" class=\"dataframe\">\n  <thead>\n    <tr style=\"text-align: right;\">\n      <th></th>\n      <th>AnswerText</th>\n      <th>SurveyID</th>\n      <th>UserID</th>\n      <th>QuestionID</th>\n    </tr>\n  </thead>\n  <tbody>\n    <tr>\n      <th>0</th>\n      <td>37</td>\n      <td>2014</td>\n      <td>1</td>\n      <td>1</td>\n    </tr>\n    <tr>\n      <th>1</th>\n      <td>44</td>\n      <td>2014</td>\n      <td>2</td>\n      <td>1</td>\n    </tr>\n    <tr>\n      <th>2</th>\n      <td>32</td>\n      <td>2014</td>\n      <td>3</td>\n      <td>1</td>\n    </tr>\n    <tr>\n      <th>3</th>\n      <td>31</td>\n      <td>2014</td>\n      <td>4</td>\n      <td>1</td>\n    </tr>\n    <tr>\n      <th>4</th>\n      <td>31</td>\n      <td>2014</td>\n      <td>5</td>\n      <td>1</td>\n    </tr>\n    <tr>\n      <th>...</th>\n      <td>...</td>\n      <td>...</td>\n      <td>...</td>\n      <td>...</td>\n    </tr>\n    <tr>\n      <th>236893</th>\n      <td>Other</td>\n      <td>2016</td>\n      <td>2689</td>\n      <td>117</td>\n    </tr>\n    <tr>\n      <th>236894</th>\n      <td>Support</td>\n      <td>2016</td>\n      <td>2690</td>\n      <td>117</td>\n    </tr>\n    <tr>\n      <th>236895</th>\n      <td>Back-end Developer</td>\n      <td>2016</td>\n      <td>2691</td>\n      <td>117</td>\n    </tr>\n    <tr>\n      <th>236896</th>\n      <td>DevOps/SysAdmin</td>\n      <td>2016</td>\n      <td>2692</td>\n      <td>117</td>\n    </tr>\n    <tr>\n      <th>236897</th>\n      <td>Other</td>\n      <td>2016</td>\n      <td>2693</td>\n      <td>117</td>\n    </tr>\n  </tbody>\n</table>\n<p>236898 rows × 4 columns</p>\n</div>"
     },
     "execution_count": 176,
     "metadata": {},
     "output_type": "execute_result"
    }
   ],
   "source": [
    "answer_df = pd.read_sql('SELECT * FROM Answer', conn)\n",
    "answer_df"
   ],
   "metadata": {
    "collapsed": false,
    "ExecuteTime": {
     "end_time": "2024-04-27T13:55:33.685080Z",
     "start_time": "2024-04-27T13:55:32.211458Z"
    }
   },
   "id": "3f0aeaead31c2200",
   "execution_count": 176
  },
  {
   "cell_type": "code",
   "outputs": [
    {
     "name": "stdout",
     "output_type": "stream",
     "text": [
      "<class 'pandas.core.frame.DataFrame'>\n",
      "RangeIndex: 236898 entries, 0 to 236897\n",
      "Data columns (total 4 columns):\n",
      " #   Column      Non-Null Count   Dtype \n",
      "---  ------      --------------   ----- \n",
      " 0   AnswerText  236898 non-null  object\n",
      " 1   SurveyID    236898 non-null  int64 \n",
      " 2   UserID      236898 non-null  int64 \n",
      " 3   QuestionID  236898 non-null  int64 \n",
      "dtypes: int64(3), object(1)\n",
      "memory usage: 7.2+ MB\n"
     ]
    }
   ],
   "source": [
    "answer_df.info()"
   ],
   "metadata": {
    "collapsed": false,
    "ExecuteTime": {
     "end_time": "2024-04-27T13:55:33.759619Z",
     "start_time": "2024-04-27T13:55:33.693255Z"
    }
   },
   "id": "1acb1e96f23c73b",
   "execution_count": 177
  },
  {
   "cell_type": "code",
   "outputs": [
    {
     "data": {
      "text/plain": "4218"
     },
     "execution_count": 178,
     "metadata": {},
     "output_type": "execute_result"
    }
   ],
   "source": [
    "answer_df.UserID.nunique()"
   ],
   "metadata": {
    "collapsed": false,
    "ExecuteTime": {
     "end_time": "2024-04-27T13:55:33.800850Z",
     "start_time": "2024-04-27T13:55:33.770599Z"
    }
   },
   "id": "42d5c8f5bf34d691",
   "execution_count": 178
  },
  {
   "cell_type": "markdown",
   "source": [
    "There are 236898 columns in the Answer dataset, with 2 foreign keys, \n",
    "SurveyID and QuestionID. \n",
    "In total, 4218 people answered the survey."
   ],
   "metadata": {
    "collapsed": false
   },
   "id": "71218f268d54cd68"
  },
  {
   "cell_type": "markdown",
   "source": [
    "**Question**"
   ],
   "metadata": {
    "collapsed": false
   },
   "id": "1d6258509922db4f"
  },
  {
   "cell_type": "code",
   "outputs": [
    {
     "data": {
      "text/plain": "                                          questiontext  questionid\n0                                    What is your age?           1\n1                                 What is your gender?           2\n2                         What country do you live in?           3\n3    If you live in the United States, which state ...           4\n4                               Are you self-employed?           5\n..                                                 ...         ...\n100  Do you think that team members/co-workers woul...         114\n101  If yes, what condition(s) have you been diagno...         115\n102  If maybe, what condition(s) do you believe you...         116\n103  Which of the following best describes your wor...         117\n104                              Do you work remotely?         118\n\n[105 rows x 2 columns]",
      "text/html": "<div>\n<style scoped>\n    .dataframe tbody tr th:only-of-type {\n        vertical-align: middle;\n    }\n\n    .dataframe tbody tr th {\n        vertical-align: top;\n    }\n\n    .dataframe thead th {\n        text-align: right;\n    }\n</style>\n<table border=\"1\" class=\"dataframe\">\n  <thead>\n    <tr style=\"text-align: right;\">\n      <th></th>\n      <th>questiontext</th>\n      <th>questionid</th>\n    </tr>\n  </thead>\n  <tbody>\n    <tr>\n      <th>0</th>\n      <td>What is your age?</td>\n      <td>1</td>\n    </tr>\n    <tr>\n      <th>1</th>\n      <td>What is your gender?</td>\n      <td>2</td>\n    </tr>\n    <tr>\n      <th>2</th>\n      <td>What country do you live in?</td>\n      <td>3</td>\n    </tr>\n    <tr>\n      <th>3</th>\n      <td>If you live in the United States, which state ...</td>\n      <td>4</td>\n    </tr>\n    <tr>\n      <th>4</th>\n      <td>Are you self-employed?</td>\n      <td>5</td>\n    </tr>\n    <tr>\n      <th>...</th>\n      <td>...</td>\n      <td>...</td>\n    </tr>\n    <tr>\n      <th>100</th>\n      <td>Do you think that team members/co-workers woul...</td>\n      <td>114</td>\n    </tr>\n    <tr>\n      <th>101</th>\n      <td>If yes, what condition(s) have you been diagno...</td>\n      <td>115</td>\n    </tr>\n    <tr>\n      <th>102</th>\n      <td>If maybe, what condition(s) do you believe you...</td>\n      <td>116</td>\n    </tr>\n    <tr>\n      <th>103</th>\n      <td>Which of the following best describes your wor...</td>\n      <td>117</td>\n    </tr>\n    <tr>\n      <th>104</th>\n      <td>Do you work remotely?</td>\n      <td>118</td>\n    </tr>\n  </tbody>\n</table>\n<p>105 rows × 2 columns</p>\n</div>"
     },
     "execution_count": 179,
     "metadata": {},
     "output_type": "execute_result"
    }
   ],
   "source": [
    "question_df = pd.read_sql('SELECT * FROM Question', conn)\n",
    "question_df"
   ],
   "metadata": {
    "collapsed": false,
    "ExecuteTime": {
     "end_time": "2024-04-27T13:55:33.834558Z",
     "start_time": "2024-04-27T13:55:33.806346Z"
    }
   },
   "id": "a838fb1714466380",
   "execution_count": 179
  },
  {
   "cell_type": "code",
   "outputs": [],
   "source": [
    "question_df.columns = ['questiontext', 'QuestionID']"
   ],
   "metadata": {
    "collapsed": false,
    "ExecuteTime": {
     "end_time": "2024-04-27T13:55:33.854892Z",
     "start_time": "2024-04-27T13:55:33.843485Z"
    }
   },
   "id": "d4de5fa84afbae79",
   "execution_count": 180
  },
  {
   "cell_type": "code",
   "outputs": [
    {
     "name": "stdout",
     "output_type": "stream",
     "text": [
      "<class 'pandas.core.frame.DataFrame'>\n",
      "RangeIndex: 105 entries, 0 to 104\n",
      "Data columns (total 2 columns):\n",
      " #   Column        Non-Null Count  Dtype \n",
      "---  ------        --------------  ----- \n",
      " 0   questiontext  105 non-null    object\n",
      " 1   QuestionID    105 non-null    int64 \n",
      "dtypes: int64(1), object(1)\n",
      "memory usage: 1.8+ KB\n"
     ]
    }
   ],
   "source": [
    "question_df.info()"
   ],
   "metadata": {
    "collapsed": false,
    "ExecuteTime": {
     "end_time": "2024-04-27T13:55:33.908228Z",
     "start_time": "2024-04-27T13:55:33.878594Z"
    }
   },
   "id": "c4783b5af5311bd5",
   "execution_count": 181
  },
  {
   "cell_type": "markdown",
   "source": [
    "There are 105 distinct questions. The dataset includes a primary key,\n",
    "questionID."
   ],
   "metadata": {
    "collapsed": false
   },
   "id": "8a041efd138ea6b"
  },
  {
   "cell_type": "markdown",
   "source": [
    "**Survey**"
   ],
   "metadata": {
    "collapsed": false
   },
   "id": "bf61458f4dc744e9"
  },
  {
   "cell_type": "code",
   "outputs": [
    {
     "data": {
      "text/plain": "   SurveyID                    Description\n0      2014  mental health survey for 2014\n1      2016  mental health survey for 2016\n2      2017  mental health survey for 2017\n3      2018  mental health survey for 2018\n4      2019  mental health survey for 2019",
      "text/html": "<div>\n<style scoped>\n    .dataframe tbody tr th:only-of-type {\n        vertical-align: middle;\n    }\n\n    .dataframe tbody tr th {\n        vertical-align: top;\n    }\n\n    .dataframe thead th {\n        text-align: right;\n    }\n</style>\n<table border=\"1\" class=\"dataframe\">\n  <thead>\n    <tr style=\"text-align: right;\">\n      <th></th>\n      <th>SurveyID</th>\n      <th>Description</th>\n    </tr>\n  </thead>\n  <tbody>\n    <tr>\n      <th>0</th>\n      <td>2014</td>\n      <td>mental health survey for 2014</td>\n    </tr>\n    <tr>\n      <th>1</th>\n      <td>2016</td>\n      <td>mental health survey for 2016</td>\n    </tr>\n    <tr>\n      <th>2</th>\n      <td>2017</td>\n      <td>mental health survey for 2017</td>\n    </tr>\n    <tr>\n      <th>3</th>\n      <td>2018</td>\n      <td>mental health survey for 2018</td>\n    </tr>\n    <tr>\n      <th>4</th>\n      <td>2019</td>\n      <td>mental health survey for 2019</td>\n    </tr>\n  </tbody>\n</table>\n</div>"
     },
     "execution_count": 182,
     "metadata": {},
     "output_type": "execute_result"
    }
   ],
   "source": [
    "survey_df = pd.read_sql('SELECT * FROM Survey', conn)\n",
    "survey_df"
   ],
   "metadata": {
    "collapsed": false,
    "ExecuteTime": {
     "end_time": "2024-04-27T13:55:33.935240Z",
     "start_time": "2024-04-27T13:55:33.911936Z"
    }
   },
   "id": "c58824fde465bf37",
   "execution_count": 182
  },
  {
   "cell_type": "code",
   "outputs": [
    {
     "name": "stdout",
     "output_type": "stream",
     "text": [
      "<class 'pandas.core.frame.DataFrame'>\n",
      "RangeIndex: 5 entries, 0 to 4\n",
      "Data columns (total 2 columns):\n",
      " #   Column       Non-Null Count  Dtype \n",
      "---  ------       --------------  ----- \n",
      " 0   SurveyID     5 non-null      int64 \n",
      " 1   Description  5 non-null      object\n",
      "dtypes: int64(1), object(1)\n",
      "memory usage: 212.0+ bytes\n"
     ]
    }
   ],
   "source": [
    "survey_df.info()"
   ],
   "metadata": {
    "collapsed": false,
    "ExecuteTime": {
     "end_time": "2024-04-27T13:55:33.968138Z",
     "start_time": "2024-04-27T13:55:33.940401Z"
    }
   },
   "id": "beab995b4addd58f",
   "execution_count": 183
  },
  {
   "cell_type": "markdown",
   "source": [
    "We have a missing year 2015. This dataset includes a primary key, SurveyID."
   ],
   "metadata": {
    "collapsed": false
   },
   "id": "9970959b1bbf5020"
  },
  {
   "cell_type": "markdown",
   "source": [
    "## 1.3 Initial Data Cleaning\n",
    "Objective: Check for missing values and duplicates "
   ],
   "metadata": {
    "collapsed": false
   },
   "id": "b7ae43fc340889bc"
  },
  {
   "cell_type": "code",
   "outputs": [],
   "source": [
    "datasets = [answer_df, question_df, survey_df]"
   ],
   "metadata": {
    "collapsed": false,
    "ExecuteTime": {
     "end_time": "2024-04-27T13:55:33.982293Z",
     "start_time": "2024-04-27T13:55:33.974038Z"
    }
   },
   "id": "fa5d487cfaa36cc1",
   "execution_count": 184
  },
  {
   "cell_type": "markdown",
   "source": [
    "1. Check for duplicates in each dataset."
   ],
   "metadata": {
    "collapsed": false
   },
   "id": "4cdd11aff6201c60"
  },
  {
   "cell_type": "code",
   "outputs": [
    {
     "name": "stdout",
     "output_type": "stream",
     "text": [
      "False\n",
      "False\n",
      "False\n"
     ]
    }
   ],
   "source": [
    "for dataset in datasets:\n",
    "    print(dataset.duplicated().any())"
   ],
   "metadata": {
    "collapsed": false,
    "ExecuteTime": {
     "end_time": "2024-04-27T13:55:34.184995Z",
     "start_time": "2024-04-27T13:55:33.990346Z"
    }
   },
   "id": "e4e6aae11267485e",
   "execution_count": 185
  },
  {
   "cell_type": "markdown",
   "source": [
    "2. Check for missing values in each dataset."
   ],
   "metadata": {
    "collapsed": false
   },
   "id": "abd31914a8408dae"
  },
  {
   "cell_type": "code",
   "outputs": [
    {
     "name": "stdout",
     "output_type": "stream",
     "text": [
      "False\n",
      "False\n",
      "False\n"
     ]
    }
   ],
   "source": [
    "for dataset in datasets:\n",
    "    print(dataset.isna().any().any())"
   ],
   "metadata": {
    "collapsed": false,
    "ExecuteTime": {
     "end_time": "2024-04-27T13:55:34.257227Z",
     "start_time": "2024-04-27T13:55:34.192354Z"
    }
   },
   "id": "7a352a362f29fd97",
   "execution_count": 186
  },
  {
   "cell_type": "markdown",
   "source": [
    "There is no missing values or duplicated rows in all 3 datasets."
   ],
   "metadata": {
    "collapsed": false
   },
   "id": "4db1ec8910dd9257"
  },
  {
   "cell_type": "markdown",
   "source": [
    "# 2. Dataset 'Answer'\n",
    "## 2.1 Overview of the Surveys Over the Years\n",
    "\n",
    "Objective: \n",
    "Have a better understanding of how the surveys were constructed over the \n",
    "years."
   ],
   "metadata": {
    "collapsed": false
   },
   "id": "aa0065a69a708953"
  },
  {
   "cell_type": "markdown",
   "source": [
    "1. How many total replies have there been over time?"
   ],
   "metadata": {
    "collapsed": false
   },
   "id": "7e182e0db4d14a0b"
  },
  {
   "cell_type": "code",
   "outputs": [
    {
     "data": {
      "text/plain": "   SurveyID  TotalAnswers\n0      2014         32760\n1      2016         88238\n2      2017         57456\n3      2018         31692\n4      2019         26752",
      "text/html": "<div>\n<style scoped>\n    .dataframe tbody tr th:only-of-type {\n        vertical-align: middle;\n    }\n\n    .dataframe tbody tr th {\n        vertical-align: top;\n    }\n\n    .dataframe thead th {\n        text-align: right;\n    }\n</style>\n<table border=\"1\" class=\"dataframe\">\n  <thead>\n    <tr style=\"text-align: right;\">\n      <th></th>\n      <th>SurveyID</th>\n      <th>TotalAnswers</th>\n    </tr>\n  </thead>\n  <tbody>\n    <tr>\n      <th>0</th>\n      <td>2014</td>\n      <td>32760</td>\n    </tr>\n    <tr>\n      <th>1</th>\n      <td>2016</td>\n      <td>88238</td>\n    </tr>\n    <tr>\n      <th>2</th>\n      <td>2017</td>\n      <td>57456</td>\n    </tr>\n    <tr>\n      <th>3</th>\n      <td>2018</td>\n      <td>31692</td>\n    </tr>\n    <tr>\n      <th>4</th>\n      <td>2019</td>\n      <td>26752</td>\n    </tr>\n  </tbody>\n</table>\n</div>"
     },
     "execution_count": 187,
     "metadata": {},
     "output_type": "execute_result"
    }
   ],
   "source": [
    "query = '''SELECT SurveyID, COUNT(1) AS TotalAnswers\n",
    " FROM Answer \n",
    " GROUP BY SurveyID;\n",
    " ''' \n",
    "\n",
    "answers_over_time = pd.read_sql_query(query, conn)\n",
    "answers_over_time"
   ],
   "metadata": {
    "collapsed": false,
    "ExecuteTime": {
     "end_time": "2024-04-27T13:55:34.621573Z",
     "start_time": "2024-04-27T13:55:34.265498Z"
    }
   },
   "id": "bdb827cc1044dfd0",
   "execution_count": 187
  },
  {
   "cell_type": "code",
   "outputs": [
    {
     "data": {
      "text/plain": "<Axes: xlabel='SurveyID', ylabel='TotalAnswers'>"
     },
     "execution_count": 188,
     "metadata": {},
     "output_type": "execute_result"
    },
    {
     "data": {
      "text/plain": "<Figure size 500x400 with 1 Axes>",
      "image/png": "[encoded data removed]"
     },
     "metadata": {},
     "output_type": "display_data"
    }
   ],
   "source": [
    "plt.figure(figsize=(5, 4))\n",
    "sns.set_style(style='whitegrid')\n",
    "sns.barplot(data=answers_over_time, x='SurveyID', y='TotalAnswers')"
   ],
   "metadata": {
    "collapsed": false,
    "ExecuteTime": {
     "end_time": "2024-04-27T13:55:35.419531Z",
     "start_time": "2024-04-27T13:55:34.627003Z"
    }
   },
   "id": "c804ff8f6c53ef2c",
   "execution_count": 188
  },
  {
   "cell_type": "markdown",
   "source": [
    "The number of replies started at 32760 in 2014, then at 2016, it reached its\n",
    " highest at 88238. The replies since then, have decreased reaching its \n",
    " lowest in 2019. \n",
    " Let's investigate what is happening with the number of replies. Is it the \n",
    " number of users going  down? Is it the number of questions per survey going \n",
    " down?"
   ],
   "metadata": {
    "collapsed": false
   },
   "id": "1625d40218e6aecf"
  },
  {
   "cell_type": "markdown",
   "source": [
    "2. How many users have replied for each survey? "
   ],
   "metadata": {
    "collapsed": false
   },
   "id": "ee4f8a9620575db1"
  },
  {
   "cell_type": "code",
   "outputs": [
    {
     "data": {
      "text/plain": "   SurveyID  TotalUsers\n0      2014        1260\n1      2016        1433\n2      2017         756\n3      2018         417\n4      2019         352",
      "text/html": "<div>\n<style scoped>\n    .dataframe tbody tr th:only-of-type {\n        vertical-align: middle;\n    }\n\n    .dataframe tbody tr th {\n        vertical-align: top;\n    }\n\n    .dataframe thead th {\n        text-align: right;\n    }\n</style>\n<table border=\"1\" class=\"dataframe\">\n  <thead>\n    <tr style=\"text-align: right;\">\n      <th></th>\n      <th>SurveyID</th>\n      <th>TotalUsers</th>\n    </tr>\n  </thead>\n  <tbody>\n    <tr>\n      <th>0</th>\n      <td>2014</td>\n      <td>1260</td>\n    </tr>\n    <tr>\n      <th>1</th>\n      <td>2016</td>\n      <td>1433</td>\n    </tr>\n    <tr>\n      <th>2</th>\n      <td>2017</td>\n      <td>756</td>\n    </tr>\n    <tr>\n      <th>3</th>\n      <td>2018</td>\n      <td>417</td>\n    </tr>\n    <tr>\n      <th>4</th>\n      <td>2019</td>\n      <td>352</td>\n    </tr>\n  </tbody>\n</table>\n</div>"
     },
     "execution_count": 189,
     "metadata": {},
     "output_type": "execute_result"
    }
   ],
   "source": [
    "query = '''SELECT SurveyID, COUNT(DISTINCT UserID) AS TotalUsers\n",
    " FROM Answer \n",
    " GROUP BY SurveyID;\n",
    " ''' \n",
    "\n",
    "users_over_time = pd.read_sql_query(query, conn)\n",
    "users_over_time"
   ],
   "metadata": {
    "collapsed": false,
    "ExecuteTime": {
     "end_time": "2024-04-27T13:55:35.841425Z",
     "start_time": "2024-04-27T13:55:35.424126Z"
    }
   },
   "id": "5bbbbaa85126ac0d",
   "execution_count": 189
  },
  {
   "cell_type": "code",
   "outputs": [
    {
     "data": {
      "text/plain": "<Axes: xlabel='SurveyID', ylabel='TotalUsers'>"
     },
     "execution_count": 190,
     "metadata": {},
     "output_type": "execute_result"
    },
    {
     "data": {
      "text/plain": "<Figure size 500x400 with 1 Axes>",
      "image/png": "[encoded data removed]"
     },
     "metadata": {},
     "output_type": "display_data"
    }
   ],
   "source": [
    "plt.figure(figsize=(5, 4))\n",
    "sns.set_style(style='whitegrid')\n",
    "sns.barplot(data=users_over_time, x='SurveyID', y='TotalUsers')"
   ],
   "metadata": {
    "collapsed": false,
    "ExecuteTime": {
     "end_time": "2024-04-27T13:55:36.692960Z",
     "start_time": "2024-04-27T13:55:35.847364Z"
    }
   },
   "id": "7d416df4a5ae78a6",
   "execution_count": 190
  },
  {
   "cell_type": "markdown",
   "source": [
    "The number of users (people that replied to the survey) are highest in 2016,\n",
    " 1433 users, and interestingly the second highest in 2014, with 2019 being the \n",
    " lowest with 352 users. \n",
    " The evolution of the number of users and number of replies is more consistent \n",
    " between 2016-2019. 2014 is an outlier."
   ],
   "metadata": {
    "collapsed": false
   },
   "id": "dd5c715c9bccc8d5"
  },
  {
   "cell_type": "markdown",
   "source": [
    "3. Did all the surveys have the same questions? And how many replies did \n",
    "each get?"
   ],
   "metadata": {
    "collapsed": false
   },
   "id": "97385fb633b20b20"
  },
  {
   "cell_type": "code",
   "outputs": [
    {
     "data": {
      "text/plain": "     SurveyID  QuestionID  TotalReplies\n0        2014           1          1260\n1        2014           2          1260\n2        2014           3          1260\n3        2014           4          1260\n4        2014           5          1260\n..        ...         ...           ...\n309      2019          85           352\n310      2019          86           352\n311      2019          87           352\n312      2019          88           352\n313      2019          89           352\n\n[314 rows x 3 columns]",
      "text/html": "<div>\n<style scoped>\n    .dataframe tbody tr th:only-of-type {\n        vertical-align: middle;\n    }\n\n    .dataframe tbody tr th {\n        vertical-align: top;\n    }\n\n    .dataframe thead th {\n        text-align: right;\n    }\n</style>\n<table border=\"1\" class=\"dataframe\">\n  <thead>\n    <tr style=\"text-align: right;\">\n      <th></th>\n      <th>SurveyID</th>\n      <th>QuestionID</th>\n      <th>TotalReplies</th>\n    </tr>\n  </thead>\n  <tbody>\n    <tr>\n      <th>0</th>\n      <td>2014</td>\n      <td>1</td>\n      <td>1260</td>\n    </tr>\n    <tr>\n      <th>1</th>\n      <td>2014</td>\n      <td>2</td>\n      <td>1260</td>\n    </tr>\n    <tr>\n      <th>2</th>\n      <td>2014</td>\n      <td>3</td>\n      <td>1260</td>\n    </tr>\n    <tr>\n      <th>3</th>\n      <td>2014</td>\n      <td>4</td>\n      <td>1260</td>\n    </tr>\n    <tr>\n      <th>4</th>\n      <td>2014</td>\n      <td>5</td>\n      <td>1260</td>\n    </tr>\n    <tr>\n      <th>...</th>\n      <td>...</td>\n      <td>...</td>\n      <td>...</td>\n    </tr>\n    <tr>\n      <th>309</th>\n      <td>2019</td>\n      <td>85</td>\n      <td>352</td>\n    </tr>\n    <tr>\n      <th>310</th>\n      <td>2019</td>\n      <td>86</td>\n      <td>352</td>\n    </tr>\n    <tr>\n      <th>311</th>\n      <td>2019</td>\n      <td>87</td>\n      <td>352</td>\n    </tr>\n    <tr>\n      <th>312</th>\n      <td>2019</td>\n      <td>88</td>\n      <td>352</td>\n    </tr>\n    <tr>\n      <th>313</th>\n      <td>2019</td>\n      <td>89</td>\n      <td>352</td>\n    </tr>\n  </tbody>\n</table>\n<p>314 rows × 3 columns</p>\n</div>"
     },
     "execution_count": 191,
     "metadata": {},
     "output_type": "execute_result"
    }
   ],
   "source": [
    "query = '''SELECT SurveyID, QuestionID, COUNT(1) AS TotalReplies\n",
    "FROM Answer\n",
    "GROUP BY SurveyID, QuestionID;\n",
    "'''\n",
    "\n",
    "questions_for_each_survey = pd.read_sql_query(query, conn)\n",
    "questions_for_each_survey"
   ],
   "metadata": {
    "collapsed": false,
    "ExecuteTime": {
     "end_time": "2024-04-27T13:55:37.113921Z",
     "start_time": "2024-04-27T13:55:36.695918Z"
    }
   },
   "id": "1fb8da0030d589a9",
   "execution_count": 191
  },
  {
   "cell_type": "markdown",
   "source": [
    "The Surveys do not all have the same questions, although some are in common."
   ],
   "metadata": {
    "collapsed": false
   },
   "id": "6b02a6645b3adfa0"
  },
  {
   "cell_type": "markdown",
   "source": [
    "4. Check if all questions had the same amount of replies as the number of \n",
    "users."
   ],
   "metadata": {
    "collapsed": false
   },
   "id": "38f0716804d2c9d6"
  },
  {
   "cell_type": "code",
   "outputs": [
    {
     "data": {
      "text/plain": "    SurveyID  QuestionID  TotalReplies  TotalUsers\n82      2016         115          2072        1433\n83      2016         116          1793        1433\n84      2016         117          2692        1433",
      "text/html": "<div>\n<style scoped>\n    .dataframe tbody tr th:only-of-type {\n        vertical-align: middle;\n    }\n\n    .dataframe tbody tr th {\n        vertical-align: top;\n    }\n\n    .dataframe thead th {\n        text-align: right;\n    }\n</style>\n<table border=\"1\" class=\"dataframe\">\n  <thead>\n    <tr style=\"text-align: right;\">\n      <th></th>\n      <th>SurveyID</th>\n      <th>QuestionID</th>\n      <th>TotalReplies</th>\n      <th>TotalUsers</th>\n    </tr>\n  </thead>\n  <tbody>\n    <tr>\n      <th>82</th>\n      <td>2016</td>\n      <td>115</td>\n      <td>2072</td>\n      <td>1433</td>\n    </tr>\n    <tr>\n      <th>83</th>\n      <td>2016</td>\n      <td>116</td>\n      <td>1793</td>\n      <td>1433</td>\n    </tr>\n    <tr>\n      <th>84</th>\n      <td>2016</td>\n      <td>117</td>\n      <td>2692</td>\n      <td>1433</td>\n    </tr>\n  </tbody>\n</table>\n</div>"
     },
     "execution_count": 192,
     "metadata": {},
     "output_type": "execute_result"
    }
   ],
   "source": [
    "merged_df = questions_for_each_survey.merge(users_over_time, on='SurveyID')\n",
    "odd_number_of_replies = merged_df[merged_df.TotalUsers != merged_df\n",
    ".TotalReplies]\n",
    "odd_number_of_replies"
   ],
   "metadata": {
    "collapsed": false,
    "ExecuteTime": {
     "end_time": "2024-04-27T13:55:37.162226Z",
     "start_time": "2024-04-27T13:55:37.120246Z"
    }
   },
   "id": "b36babc0126aa971",
   "execution_count": 192
  },
  {
   "cell_type": "code",
   "outputs": [
    {
     "data": {
      "text/plain": "                                             AnswerText  SurveyID  UserID  \\\n0                                                    -1      2016    1261   \n1     Anxiety Disorder (Generalized, Social, Phobia,...      2016    1262   \n2     Mood Disorder (Depression, Bipolar Disorder, etc)      2016    1262   \n3                                                    -1      2016    1263   \n4     Anxiety Disorder (Generalized, Social, Phobia,...      2016    1264   \n...                                                 ...       ...     ...   \n6552                                              Other      2016    2689   \n6553                                            Support      2016    2690   \n6554                                 Back-end Developer      2016    2691   \n6555                                    DevOps/SysAdmin      2016    2692   \n6556                                              Other      2016    2693   \n\n      QuestionID  \n0            115  \n1            115  \n2            115  \n3            115  \n4            115  \n...          ...  \n6552         117  \n6553         117  \n6554         117  \n6555         117  \n6556         117  \n\n[6557 rows x 4 columns]",
      "text/html": "<div>\n<style scoped>\n    .dataframe tbody tr th:only-of-type {\n        vertical-align: middle;\n    }\n\n    .dataframe tbody tr th {\n        vertical-align: top;\n    }\n\n    .dataframe thead th {\n        text-align: right;\n    }\n</style>\n<table border=\"1\" class=\"dataframe\">\n  <thead>\n    <tr style=\"text-align: right;\">\n      <th></th>\n      <th>AnswerText</th>\n      <th>SurveyID</th>\n      <th>UserID</th>\n      <th>QuestionID</th>\n    </tr>\n  </thead>\n  <tbody>\n    <tr>\n      <th>0</th>\n      <td>-1</td>\n      <td>2016</td>\n      <td>1261</td>\n      <td>115</td>\n    </tr>\n    <tr>\n      <th>1</th>\n      <td>Anxiety Disorder (Generalized, Social, Phobia,...</td>\n      <td>2016</td>\n      <td>1262</td>\n      <td>115</td>\n    </tr>\n    <tr>\n      <th>2</th>\n      <td>Mood Disorder (Depression, Bipolar Disorder, etc)</td>\n      <td>2016</td>\n      <td>1262</td>\n      <td>115</td>\n    </tr>\n    <tr>\n      <th>3</th>\n      <td>-1</td>\n      <td>2016</td>\n      <td>1263</td>\n      <td>115</td>\n    </tr>\n    <tr>\n      <th>4</th>\n      <td>Anxiety Disorder (Generalized, Social, Phobia,...</td>\n      <td>2016</td>\n      <td>1264</td>\n      <td>115</td>\n    </tr>\n    <tr>\n      <th>...</th>\n      <td>...</td>\n      <td>...</td>\n      <td>...</td>\n      <td>...</td>\n    </tr>\n    <tr>\n      <th>6552</th>\n      <td>Other</td>\n      <td>2016</td>\n      <td>2689</td>\n      <td>117</td>\n    </tr>\n    <tr>\n      <th>6553</th>\n      <td>Support</td>\n      <td>2016</td>\n      <td>2690</td>\n      <td>117</td>\n    </tr>\n    <tr>\n      <th>6554</th>\n      <td>Back-end Developer</td>\n      <td>2016</td>\n      <td>2691</td>\n      <td>117</td>\n    </tr>\n    <tr>\n      <th>6555</th>\n      <td>DevOps/SysAdmin</td>\n      <td>2016</td>\n      <td>2692</td>\n      <td>117</td>\n    </tr>\n    <tr>\n      <th>6556</th>\n      <td>Other</td>\n      <td>2016</td>\n      <td>2693</td>\n      <td>117</td>\n    </tr>\n  </tbody>\n</table>\n<p>6557 rows × 4 columns</p>\n</div>"
     },
     "execution_count": 193,
     "metadata": {},
     "output_type": "execute_result"
    }
   ],
   "source": [
    "query = '''SELECT *\n",
    "FROM Answer\n",
    "WHERE SurveyID=2016 AND QuestionID BETWEEN 115 AND 117;\n",
    "'''\n",
    "\n",
    "pd.read_sql_query(query, conn)"
   ],
   "metadata": {
    "collapsed": false,
    "ExecuteTime": {
     "end_time": "2024-04-27T13:55:37.310970Z",
     "start_time": "2024-04-27T13:55:37.173692Z"
    }
   },
   "id": "5c15d78e221b446",
   "execution_count": 193
  },
  {
   "cell_type": "markdown",
   "source": [
    "In the questions 115-117 from year 2016, several users answered more than \n",
    "one times."
   ],
   "metadata": {
    "collapsed": false
   },
   "id": "1371debfca81d4d8"
  },
  {
   "cell_type": "markdown",
   "source": [
    "5. How many questions did each survey have?"
   ],
   "metadata": {
    "collapsed": false
   },
   "id": "4b4e776c332a7240"
  },
  {
   "cell_type": "code",
   "outputs": [
    {
     "data": {
      "text/plain": "   SurveyID  count\n0      2014     26\n1      2016     60\n2      2017     76\n3      2018     76\n4      2019     76",
      "text/html": "<div>\n<style scoped>\n    .dataframe tbody tr th:only-of-type {\n        vertical-align: middle;\n    }\n\n    .dataframe tbody tr th {\n        vertical-align: top;\n    }\n\n    .dataframe thead th {\n        text-align: right;\n    }\n</style>\n<table border=\"1\" class=\"dataframe\">\n  <thead>\n    <tr style=\"text-align: right;\">\n      <th></th>\n      <th>SurveyID</th>\n      <th>count</th>\n    </tr>\n  </thead>\n  <tbody>\n    <tr>\n      <th>0</th>\n      <td>2014</td>\n      <td>26</td>\n    </tr>\n    <tr>\n      <th>1</th>\n      <td>2016</td>\n      <td>60</td>\n    </tr>\n    <tr>\n      <th>2</th>\n      <td>2017</td>\n      <td>76</td>\n    </tr>\n    <tr>\n      <th>3</th>\n      <td>2018</td>\n      <td>76</td>\n    </tr>\n    <tr>\n      <th>4</th>\n      <td>2019</td>\n      <td>76</td>\n    </tr>\n  </tbody>\n</table>\n</div>"
     },
     "execution_count": 194,
     "metadata": {},
     "output_type": "execute_result"
    }
   ],
   "source": [
    "questions_per_survey = questions_for_each_survey.groupby(by='SurveyID').size()\n",
    "questions_per_survey = questions_per_survey.reset_index()\n",
    "questions_per_survey.columns = ['SurveyID', 'count']\n",
    "questions_per_survey"
   ],
   "metadata": {
    "collapsed": false,
    "ExecuteTime": {
     "end_time": "2024-04-27T13:55:37.343428Z",
     "start_time": "2024-04-27T13:55:37.317673Z"
    }
   },
   "id": "9991a7fc3abaeab4",
   "execution_count": 194
  },
  {
   "cell_type": "code",
   "outputs": [
    {
     "data": {
      "text/plain": "<Axes: xlabel='SurveyID', ylabel='count'>"
     },
     "execution_count": 195,
     "metadata": {},
     "output_type": "execute_result"
    },
    {
     "data": {
      "text/plain": "<Figure size 500x400 with 1 Axes>",
      "image/png": "[encoded data removed]"
     },
     "metadata": {},
     "output_type": "display_data"
    }
   ],
   "source": [
    "plt.figure(figsize=(5, 4))\n",
    "sns.set_style(style='whitegrid')\n",
    "sns.barplot(data=questions_per_survey, x='SurveyID', y='count')"
   ],
   "metadata": {
    "collapsed": false,
    "ExecuteTime": {
     "end_time": "2024-04-27T13:55:38.024011Z",
     "start_time": "2024-04-27T13:55:37.348029Z"
    }
   },
   "id": "5a116e8c2cec0d17",
   "execution_count": 195
  },
  {
   "cell_type": "markdown",
   "source": [
    "2014 and 2016 both have less questions than the rest. \n",
    "Even though, 2014 had many users, it only had around 34% of number of questions \n",
    "compared to the surveys 2017-2019, which significantly decreased the amount of\n",
    "replies it was getting."
   ],
   "metadata": {
    "collapsed": false
   },
   "id": "73fd0d960d64960c"
  },
  {
   "cell_type": "markdown",
   "source": [
    "6. Any users replied to several surveys ?"
   ],
   "metadata": {
    "collapsed": false
   },
   "id": "d847cdd3c11d2aa8"
  },
  {
   "cell_type": "code",
   "outputs": [
    {
     "data": {
      "text/plain": "Empty DataFrame\nColumns: [UserID, NumberOfSurveys]\nIndex: []",
      "text/html": "<div>\n<style scoped>\n    .dataframe tbody tr th:only-of-type {\n        vertical-align: middle;\n    }\n\n    .dataframe tbody tr th {\n        vertical-align: top;\n    }\n\n    .dataframe thead th {\n        text-align: right;\n    }\n</style>\n<table border=\"1\" class=\"dataframe\">\n  <thead>\n    <tr style=\"text-align: right;\">\n      <th></th>\n      <th>UserID</th>\n      <th>NumberOfSurveys</th>\n    </tr>\n  </thead>\n  <tbody>\n  </tbody>\n</table>\n</div>"
     },
     "execution_count": 196,
     "metadata": {},
     "output_type": "execute_result"
    }
   ],
   "source": [
    "query = '''SELECT UserID, COUNT(DISTINCT SurveyID) AS NumberOfSurveys\n",
    "FROM Answer\n",
    "GROUP BY UserID\n",
    "HAVING NumberOfSurveys>1;\n",
    "'''\n",
    "\n",
    "pd.read_sql_query(query, conn)"
   ],
   "metadata": {
    "collapsed": false,
    "ExecuteTime": {
     "end_time": "2024-04-27T13:55:38.421956Z",
     "start_time": "2024-04-27T13:55:38.029711Z"
    }
   },
   "id": "773b3d8a7b1d1558",
   "execution_count": 196
  },
  {
   "cell_type": "markdown",
   "source": [
    "No, all users only appear in one survey."
   ],
   "metadata": {
    "collapsed": false
   },
   "id": "a1e1fdddb5fff595"
  },
  {
   "cell_type": "markdown",
   "source": [
    "### 2.1.1 Insights\n",
    "The surveys are not the same over the years and the sampling population is \n",
    "also not the same. \n",
    "To analyze the survey replies changes throughout the years, prioritizing our \n",
    "analysis to survey questions that were repeatedly asked will help its \n",
    "accuracy."
   ],
   "metadata": {
    "collapsed": false
   },
   "id": "d595753a4a6d9e94"
  },
  {
   "cell_type": "markdown",
   "source": [
    "## 2.2 Survey Questions\n",
    "Objective: \n",
    "Find questions that were asked repeatedly in different surveys."
   ],
   "metadata": {
    "collapsed": false
   },
   "id": "23a7d30454c09932"
  },
  {
   "cell_type": "markdown",
   "source": [
    "1. Join the table Answer with Question."
   ],
   "metadata": {
    "collapsed": false
   },
   "id": "76e0c21df9f2fc5"
  },
  {
   "cell_type": "code",
   "outputs": [
    {
     "data": {
      "text/plain": "                AnswerText  SurveyID  UserID  QuestionID  \\\n0                       37      2014       1           1   \n1                       44      2014       2           1   \n2                       32      2014       3           1   \n3                       31      2014       4           1   \n4                       31      2014       5           1   \n...                    ...       ...     ...         ...   \n236893               Other      2016    2689         117   \n236894             Support      2016    2690         117   \n236895  Back-end Developer      2016    2691         117   \n236896     DevOps/SysAdmin      2016    2692         117   \n236897               Other      2016    2693         117   \n\n                                             questiontext  questionid  \n0                                       What is your age?           1  \n1                                       What is your age?           1  \n2                                       What is your age?           1  \n3                                       What is your age?           1  \n4                                       What is your age?           1  \n...                                                   ...         ...  \n236893  Which of the following best describes your wor...         117  \n236894  Which of the following best describes your wor...         117  \n236895  Which of the following best describes your wor...         117  \n236896  Which of the following best describes your wor...         117  \n236897  Which of the following best describes your wor...         117  \n\n[236898 rows x 6 columns]",
      "text/html": "<div>\n<style scoped>\n    .dataframe tbody tr th:only-of-type {\n        vertical-align: middle;\n    }\n\n    .dataframe tbody tr th {\n        vertical-align: top;\n    }\n\n    .dataframe thead th {\n        text-align: right;\n    }\n</style>\n<table border=\"1\" class=\"dataframe\">\n  <thead>\n    <tr style=\"text-align: right;\">\n      <th></th>\n      <th>AnswerText</th>\n      <th>SurveyID</th>\n      <th>UserID</th>\n      <th>QuestionID</th>\n      <th>questiontext</th>\n      <th>questionid</th>\n    </tr>\n  </thead>\n  <tbody>\n    <tr>\n      <th>0</th>\n      <td>37</td>\n      <td>2014</td>\n      <td>1</td>\n      <td>1</td>\n      <td>What is your age?</td>\n      <td>1</td>\n    </tr>\n    <tr>\n      <th>1</th>\n      <td>44</td>\n      <td>2014</td>\n      <td>2</td>\n      <td>1</td>\n      <td>What is your age?</td>\n      <td>1</td>\n    </tr>\n    <tr>\n      <th>2</th>\n      <td>32</td>\n      <td>2014</td>\n      <td>3</td>\n      <td>1</td>\n      <td>What is your age?</td>\n      <td>1</td>\n    </tr>\n    <tr>\n      <th>3</th>\n      <td>31</td>\n      <td>2014</td>\n      <td>4</td>\n      <td>1</td>\n      <td>What is your age?</td>\n      <td>1</td>\n    </tr>\n    <tr>\n      <th>4</th>\n      <td>31</td>\n      <td>2014</td>\n      <td>5</td>\n      <td>1</td>\n      <td>What is your age?</td>\n      <td>1</td>\n    </tr>\n    <tr>\n      <th>...</th>\n      <td>...</td>\n      <td>...</td>\n      <td>...</td>\n      <td>...</td>\n      <td>...</td>\n      <td>...</td>\n    </tr>\n    <tr>\n      <th>236893</th>\n      <td>Other</td>\n      <td>2016</td>\n      <td>2689</td>\n      <td>117</td>\n      <td>Which of the following best describes your wor...</td>\n      <td>117</td>\n    </tr>\n    <tr>\n      <th>236894</th>\n      <td>Support</td>\n      <td>2016</td>\n      <td>2690</td>\n      <td>117</td>\n      <td>Which of the following best describes your wor...</td>\n      <td>117</td>\n    </tr>\n    <tr>\n      <th>236895</th>\n      <td>Back-end Developer</td>\n      <td>2016</td>\n      <td>2691</td>\n      <td>117</td>\n      <td>Which of the following best describes your wor...</td>\n      <td>117</td>\n    </tr>\n    <tr>\n      <th>236896</th>\n      <td>DevOps/SysAdmin</td>\n      <td>2016</td>\n      <td>2692</td>\n      <td>117</td>\n      <td>Which of the following best describes your wor...</td>\n      <td>117</td>\n    </tr>\n    <tr>\n      <th>236897</th>\n      <td>Other</td>\n      <td>2016</td>\n      <td>2693</td>\n      <td>117</td>\n      <td>Which of the following best describes your wor...</td>\n      <td>117</td>\n    </tr>\n  </tbody>\n</table>\n<p>236898 rows × 6 columns</p>\n</div>"
     },
     "execution_count": 197,
     "metadata": {},
     "output_type": "execute_result"
    }
   ],
   "source": [
    "query = '''SELECT *\n",
    "FROM Answer\n",
    "JOIN Question ON Answer.QuestionID = Question.questionid;\n",
    "'''\n",
    "\n",
    "answer_question_merged = pd.read_sql_query(query, conn)\n",
    "answer_question_merged"
   ],
   "metadata": {
    "collapsed": false,
    "ExecuteTime": {
     "end_time": "2024-04-27T13:55:40.844353Z",
     "start_time": "2024-04-27T13:55:38.431875Z"
    }
   },
   "id": "d4e253947335ed24",
   "execution_count": 197
  },
  {
   "cell_type": "markdown",
   "source": [
    "2. Which questions were repeated in the surveys throughout the years ?"
   ],
   "metadata": {
    "collapsed": false
   },
   "id": "63ae1ffbf2036ab3"
  },
  {
   "cell_type": "code",
   "outputs": [
    {
     "data": {
      "text/plain": "     QuestionID  RepeatedQuestions\n0             1                  5\n1             2                  5\n2             3                  5\n3             4                  5\n4             5                  5\n..          ...                ...\n100         114                  1\n101         115                  1\n102         116                  1\n103         117                  1\n104         118                  1\n\n[105 rows x 2 columns]",
      "text/html": "<div>\n<style scoped>\n    .dataframe tbody tr th:only-of-type {\n        vertical-align: middle;\n    }\n\n    .dataframe tbody tr th {\n        vertical-align: top;\n    }\n\n    .dataframe thead th {\n        text-align: right;\n    }\n</style>\n<table border=\"1\" class=\"dataframe\">\n  <thead>\n    <tr style=\"text-align: right;\">\n      <th></th>\n      <th>QuestionID</th>\n      <th>RepeatedQuestions</th>\n    </tr>\n  </thead>\n  <tbody>\n    <tr>\n      <th>0</th>\n      <td>1</td>\n      <td>5</td>\n    </tr>\n    <tr>\n      <th>1</th>\n      <td>2</td>\n      <td>5</td>\n    </tr>\n    <tr>\n      <th>2</th>\n      <td>3</td>\n      <td>5</td>\n    </tr>\n    <tr>\n      <th>3</th>\n      <td>4</td>\n      <td>5</td>\n    </tr>\n    <tr>\n      <th>4</th>\n      <td>5</td>\n      <td>5</td>\n    </tr>\n    <tr>\n      <th>...</th>\n      <td>...</td>\n      <td>...</td>\n    </tr>\n    <tr>\n      <th>100</th>\n      <td>114</td>\n      <td>1</td>\n    </tr>\n    <tr>\n      <th>101</th>\n      <td>115</td>\n      <td>1</td>\n    </tr>\n    <tr>\n      <th>102</th>\n      <td>116</td>\n      <td>1</td>\n    </tr>\n    <tr>\n      <th>103</th>\n      <td>117</td>\n      <td>1</td>\n    </tr>\n    <tr>\n      <th>104</th>\n      <td>118</td>\n      <td>1</td>\n    </tr>\n  </tbody>\n</table>\n<p>105 rows × 2 columns</p>\n</div>"
     },
     "execution_count": 198,
     "metadata": {},
     "output_type": "execute_result"
    }
   ],
   "source": [
    "query = '''SELECT QuestionID, COUNT(DISTINCT SurveyID) AS \n",
    "RepeatedQuestions\n",
    "FROM Answer\n",
    "GROUP BY QuestionID;\n",
    "'''\n",
    "\n",
    "repeated_questions = pd.read_sql_query(query, conn)\n",
    "repeated_questions"
   ],
   "metadata": {
    "collapsed": false,
    "ExecuteTime": {
     "end_time": "2024-04-27T13:55:41.191278Z",
     "start_time": "2024-04-27T13:55:40.848991Z"
    }
   },
   "id": "50525ec0fbfc1f67",
   "execution_count": 198
  },
  {
   "cell_type": "code",
   "outputs": [
    {
     "data": {
      "text/plain": "<Axes: xlabel='RepeatedQuestions', ylabel='count'>"
     },
     "execution_count": 199,
     "metadata": {},
     "output_type": "execute_result"
    },
    {
     "data": {
      "text/plain": "<Figure size 500x400 with 1 Axes>",
      "image/png": "[encoded data removed]"
     },
     "metadata": {},
     "output_type": "display_data"
    }
   ],
   "source": [
    "plt.figure(figsize=(5, 4))\n",
    "sns.set_style(style='whitegrid')\n",
    "sns.countplot(data=repeated_questions, x='RepeatedQuestions')"
   ],
   "metadata": {
    "collapsed": false,
    "ExecuteTime": {
     "end_time": "2024-04-27T13:55:42.001033Z",
     "start_time": "2024-04-27T13:55:41.209881Z"
    }
   },
   "id": "a4ba99dde99516b9",
   "execution_count": 199
  },
  {
   "cell_type": "markdown",
   "source": [
    "3. Which survey did these questions belong to?"
   ],
   "metadata": {
    "collapsed": false
   },
   "id": "e0faa99e45f2ee70"
  },
  {
   "cell_type": "code",
   "outputs": [
    {
     "data": {
      "text/plain": "    SurveyID  QuestionID  TotalReplies\n14      2014          92          1260\n15      2014          93          1260\n16      2014          94          1260\n17      2014          95          1260\n18      2014          96          1260\n19      2014          97          1260\n20      2014          98          1260\n21      2014          99          1260\n22      2014         100          1260\n23      2014         101          1260\n24      2014         102          1260\n25      2014         103          1260\n71      2016         104          1433\n72      2016         105          1433\n73      2016         106          1433\n74      2016         107          1433\n75      2016         108          1433\n76      2016         109          1433\n77      2016         110          1433\n78      2016         111          1433\n79      2016         112          1433\n80      2016         113          1433\n81      2016         114          1433\n82      2016         115          2072\n83      2016         116          1793\n84      2016         117          2692\n85      2016         118          1433",
      "text/html": "<div>\n<style scoped>\n    .dataframe tbody tr th:only-of-type {\n        vertical-align: middle;\n    }\n\n    .dataframe tbody tr th {\n        vertical-align: top;\n    }\n\n    .dataframe thead th {\n        text-align: right;\n    }\n</style>\n<table border=\"1\" class=\"dataframe\">\n  <thead>\n    <tr style=\"text-align: right;\">\n      <th></th>\n      <th>SurveyID</th>\n      <th>QuestionID</th>\n      <th>TotalReplies</th>\n    </tr>\n  </thead>\n  <tbody>\n    <tr>\n      <th>14</th>\n      <td>2014</td>\n      <td>92</td>\n      <td>1260</td>\n    </tr>\n    <tr>\n      <th>15</th>\n      <td>2014</td>\n      <td>93</td>\n      <td>1260</td>\n    </tr>\n    <tr>\n      <th>16</th>\n      <td>2014</td>\n      <td>94</td>\n      <td>1260</td>\n    </tr>\n    <tr>\n      <th>17</th>\n      <td>2014</td>\n      <td>95</td>\n      <td>1260</td>\n    </tr>\n    <tr>\n      <th>18</th>\n      <td>2014</td>\n      <td>96</td>\n      <td>1260</td>\n    </tr>\n    <tr>\n      <th>19</th>\n      <td>2014</td>\n      <td>97</td>\n      <td>1260</td>\n    </tr>\n    <tr>\n      <th>20</th>\n      <td>2014</td>\n      <td>98</td>\n      <td>1260</td>\n    </tr>\n    <tr>\n      <th>21</th>\n      <td>2014</td>\n      <td>99</td>\n      <td>1260</td>\n    </tr>\n    <tr>\n      <th>22</th>\n      <td>2014</td>\n      <td>100</td>\n      <td>1260</td>\n    </tr>\n    <tr>\n      <th>23</th>\n      <td>2014</td>\n      <td>101</td>\n      <td>1260</td>\n    </tr>\n    <tr>\n      <th>24</th>\n      <td>2014</td>\n      <td>102</td>\n      <td>1260</td>\n    </tr>\n    <tr>\n      <th>25</th>\n      <td>2014</td>\n      <td>103</td>\n      <td>1260</td>\n    </tr>\n    <tr>\n      <th>71</th>\n      <td>2016</td>\n      <td>104</td>\n      <td>1433</td>\n    </tr>\n    <tr>\n      <th>72</th>\n      <td>2016</td>\n      <td>105</td>\n      <td>1433</td>\n    </tr>\n    <tr>\n      <th>73</th>\n      <td>2016</td>\n      <td>106</td>\n      <td>1433</td>\n    </tr>\n    <tr>\n      <th>74</th>\n      <td>2016</td>\n      <td>107</td>\n      <td>1433</td>\n    </tr>\n    <tr>\n      <th>75</th>\n      <td>2016</td>\n      <td>108</td>\n      <td>1433</td>\n    </tr>\n    <tr>\n      <th>76</th>\n      <td>2016</td>\n      <td>109</td>\n      <td>1433</td>\n    </tr>\n    <tr>\n      <th>77</th>\n      <td>2016</td>\n      <td>110</td>\n      <td>1433</td>\n    </tr>\n    <tr>\n      <th>78</th>\n      <td>2016</td>\n      <td>111</td>\n      <td>1433</td>\n    </tr>\n    <tr>\n      <th>79</th>\n      <td>2016</td>\n      <td>112</td>\n      <td>1433</td>\n    </tr>\n    <tr>\n      <th>80</th>\n      <td>2016</td>\n      <td>113</td>\n      <td>1433</td>\n    </tr>\n    <tr>\n      <th>81</th>\n      <td>2016</td>\n      <td>114</td>\n      <td>1433</td>\n    </tr>\n    <tr>\n      <th>82</th>\n      <td>2016</td>\n      <td>115</td>\n      <td>2072</td>\n    </tr>\n    <tr>\n      <th>83</th>\n      <td>2016</td>\n      <td>116</td>\n      <td>1793</td>\n    </tr>\n    <tr>\n      <th>84</th>\n      <td>2016</td>\n      <td>117</td>\n      <td>2692</td>\n    </tr>\n    <tr>\n      <th>85</th>\n      <td>2016</td>\n      <td>118</td>\n      <td>1433</td>\n    </tr>\n  </tbody>\n</table>\n</div>"
     },
     "execution_count": 200,
     "metadata": {},
     "output_type": "execute_result"
    }
   ],
   "source": [
    "questions_for_each_survey[questions_for_each_survey.QuestionID>91]"
   ],
   "metadata": {
    "collapsed": false,
    "ExecuteTime": {
     "end_time": "2024-04-27T13:55:42.049484Z",
     "start_time": "2024-04-27T13:55:42.013507Z"
    }
   },
   "id": "3b2c82a6e86494ab",
   "execution_count": 200
  },
  {
   "cell_type": "code",
   "outputs": [
    {
     "data": {
      "text/plain": "array([2014, 2016], dtype=int64)"
     },
     "execution_count": 201,
     "metadata": {},
     "output_type": "execute_result"
    }
   ],
   "source": [
    "questions_for_each_survey.SurveyID[(questions_for_each_survey.QuestionID==90)|\n",
    "(questions_for_each_survey.QuestionID==91)].unique()"
   ],
   "metadata": {
    "collapsed": false,
    "ExecuteTime": {
     "end_time": "2024-04-27T13:55:42.074580Z",
     "start_time": "2024-04-27T13:55:42.054499Z"
    }
   },
   "id": "2d19e83ed1cff20",
   "execution_count": 201
  },
  {
   "cell_type": "code",
   "outputs": [
    {
     "data": {
      "text/plain": "array([2017, 2018, 2019], dtype=int64)"
     },
     "execution_count": 202,
     "metadata": {},
     "output_type": "execute_result"
    }
   ],
   "source": [
    "questions_for_each_survey.SurveyID[(questions_for_each_survey.QuestionID>=57)&\n",
    "(questions_for_each_survey.QuestionID<=89)].unique()"
   ],
   "metadata": {
    "collapsed": false,
    "ExecuteTime": {
     "end_time": "2024-04-27T13:55:42.098161Z",
     "start_time": "2024-04-27T13:55:42.080591Z"
    }
   },
   "id": "b961a4c113a640ba",
   "execution_count": 202
  },
  {
   "cell_type": "code",
   "outputs": [
    {
     "data": {
      "text/plain": "array([2016, 2017, 2018, 2019], dtype=int64)"
     },
     "execution_count": 203,
     "metadata": {},
     "output_type": "execute_result"
    }
   ],
   "source": [
    "questions_for_each_survey.SurveyID[(questions_for_each_survey.QuestionID>=13)&\n",
    "(questions_for_each_survey.QuestionID<=56)].unique()"
   ],
   "metadata": {
    "collapsed": false,
    "ExecuteTime": {
     "end_time": "2024-04-27T13:55:42.127097Z",
     "start_time": "2024-04-27T13:55:42.103211Z"
    }
   },
   "id": "4d28fcc26bdf9579",
   "execution_count": 203
  },
  {
   "cell_type": "markdown",
   "source": [
    "Some questions from 2014 lasted until the 2019 survey.\n",
    "However, a lot from 2014 and 2016 were removed or replaced by new questions. \n",
    "2017, 2018 and 2019 share a lot of same questions, let's see if they are the \n",
    "same."
   ],
   "metadata": {
    "collapsed": false
   },
   "id": "7c7c9193ebde9918"
  },
  {
   "cell_type": "markdown",
   "source": [
    "4. Did the last 3 surveys have exactly the same questions?"
   ],
   "metadata": {
    "collapsed": false
   },
   "id": "e7f8d1300ff2a053"
  },
  {
   "cell_type": "code",
   "outputs": [
    {
     "name": "stdout",
     "output_type": "stream",
     "text": [
      "Does 2017 have the same questions as 2018?: True\n",
      "Does 2017 have the same questions as 2018?: True\n"
     ]
    }
   ],
   "source": [
    "questions_2017 = questions_for_each_survey[questions_for_each_survey['SurveyID'] == \n",
    "                    2017]['QuestionID']\n",
    "questions_2018 = questions_for_each_survey[questions_for_each_survey['SurveyID'] == 2018]['QuestionID']\n",
    "questions_2019 = questions_for_each_survey[questions_for_each_survey['SurveyID'] == 2019]['QuestionID']\n",
    "\n",
    "\n",
    "same_questions1718 = set(questions_2017) == set(questions_2018)\n",
    "same_questions1719 = set(questions_2017) == set(questions_2019)\n",
    "\n",
    "\n",
    "print(\"Does 2017 have the same questions as 2018?:\", same_questions1718)\n",
    "print(\"Does 2017 have the same questions as 2018?:\", same_questions1719)"
   ],
   "metadata": {
    "collapsed": false,
    "ExecuteTime": {
     "end_time": "2024-04-27T13:55:42.151735Z",
     "start_time": "2024-04-27T13:55:42.131933Z"
    }
   },
   "id": "ae876d33367cfefd",
   "execution_count": 204
  },
  {
   "cell_type": "markdown",
   "source": [
    "The surveys are the same. This will help analysis."
   ],
   "metadata": {
    "collapsed": false
   },
   "id": "fc76cdb70b488894"
  },
  {
   "cell_type": "markdown",
   "source": [
    "### 2.2.1 Insights\n",
    "We have located the questions that were repeated in all surveys and the \n",
    "surveys 2017, 2018, 2019 are the same. The focus of our analysis will be \n",
    "these questions."
   ],
   "metadata": {
    "collapsed": false
   },
   "id": "37896241273e87ee"
  },
  {
   "cell_type": "markdown",
   "source": [
    "# 3. Questions Available In All Surveys - Data Cleaning"
   ],
   "metadata": {
    "collapsed": false
   },
   "id": "29fa09f80db934f9"
  },
  {
   "cell_type": "code",
   "outputs": [
    {
     "data": {
      "text/plain": "     QuestionID  RepeatedQuestions  \\\n0             1                  5   \n1             2                  5   \n2             3                  5   \n3             4                  5   \n4             5                  5   \n..          ...                ...   \n100         114                  1   \n101         115                  1   \n102         116                  1   \n103         117                  1   \n104         118                  1   \n\n                                          questiontext  \n0                                    What is your age?  \n1                                 What is your gender?  \n2                         What country do you live in?  \n3    If you live in the United States, which state ...  \n4                               Are you self-employed?  \n..                                                 ...  \n100  Do you think that team members/co-workers woul...  \n101  If yes, what condition(s) have you been diagno...  \n102  If maybe, what condition(s) do you believe you...  \n103  Which of the following best describes your wor...  \n104                              Do you work remotely?  \n\n[105 rows x 3 columns]",
      "text/html": "<div>\n<style scoped>\n    .dataframe tbody tr th:only-of-type {\n        vertical-align: middle;\n    }\n\n    .dataframe tbody tr th {\n        vertical-align: top;\n    }\n\n    .dataframe thead th {\n        text-align: right;\n    }\n</style>\n<table border=\"1\" class=\"dataframe\">\n  <thead>\n    <tr style=\"text-align: right;\">\n      <th></th>\n      <th>QuestionID</th>\n      <th>RepeatedQuestions</th>\n      <th>questiontext</th>\n    </tr>\n  </thead>\n  <tbody>\n    <tr>\n      <th>0</th>\n      <td>1</td>\n      <td>5</td>\n      <td>What is your age?</td>\n    </tr>\n    <tr>\n      <th>1</th>\n      <td>2</td>\n      <td>5</td>\n      <td>What is your gender?</td>\n    </tr>\n    <tr>\n      <th>2</th>\n      <td>3</td>\n      <td>5</td>\n      <td>What country do you live in?</td>\n    </tr>\n    <tr>\n      <th>3</th>\n      <td>4</td>\n      <td>5</td>\n      <td>If you live in the United States, which state ...</td>\n    </tr>\n    <tr>\n      <th>4</th>\n      <td>5</td>\n      <td>5</td>\n      <td>Are you self-employed?</td>\n    </tr>\n    <tr>\n      <th>...</th>\n      <td>...</td>\n      <td>...</td>\n      <td>...</td>\n    </tr>\n    <tr>\n      <th>100</th>\n      <td>114</td>\n      <td>1</td>\n      <td>Do you think that team members/co-workers woul...</td>\n    </tr>\n    <tr>\n      <th>101</th>\n      <td>115</td>\n      <td>1</td>\n      <td>If yes, what condition(s) have you been diagno...</td>\n    </tr>\n    <tr>\n      <th>102</th>\n      <td>116</td>\n      <td>1</td>\n      <td>If maybe, what condition(s) do you believe you...</td>\n    </tr>\n    <tr>\n      <th>103</th>\n      <td>117</td>\n      <td>1</td>\n      <td>Which of the following best describes your wor...</td>\n    </tr>\n    <tr>\n      <th>104</th>\n      <td>118</td>\n      <td>1</td>\n      <td>Do you work remotely?</td>\n    </tr>\n  </tbody>\n</table>\n<p>105 rows × 3 columns</p>\n</div>"
     },
     "execution_count": 205,
     "metadata": {},
     "output_type": "execute_result"
    }
   ],
   "source": [
    "combined_df = repeated_questions.merge(question_df, on='QuestionID')\n",
    "combined_df"
   ],
   "metadata": {
    "collapsed": false,
    "ExecuteTime": {
     "end_time": "2024-04-27T13:55:42.190510Z",
     "start_time": "2024-04-27T13:55:42.158120Z"
    }
   },
   "id": "57f4a476f6236da5",
   "execution_count": 205
  },
  {
   "cell_type": "code",
   "outputs": [
    {
     "data": {
      "text/plain": "    QuestionID  RepeatedQuestions  \\\n0            1                  5   \n1            2                  5   \n2            3                  5   \n3            4                  5   \n4            5                  5   \n5            6                  5   \n6            7                  5   \n7            8                  5   \n8            9                  5   \n9           10                  5   \n10          11                  5   \n11          12                  5   \n\n                                         questiontext  \n0                                   What is your age?  \n1                                What is your gender?  \n2                        What country do you live in?  \n3   If you live in the United States, which state ...  \n4                              Are you self-employed?  \n5     Do you have a family history of mental illness?  \n6   Have you ever sought treatment for a mental he...  \n7   How many employees does your company or organi...  \n8   Is your employer primarily a tech company/orga...  \n9   Does your employer provide mental health benef...  \n10  Is your anonymity protected if you choose to t...  \n11  Would you bring up a mental health issue with ...  ",
      "text/html": "<div>\n<style scoped>\n    .dataframe tbody tr th:only-of-type {\n        vertical-align: middle;\n    }\n\n    .dataframe tbody tr th {\n        vertical-align: top;\n    }\n\n    .dataframe thead th {\n        text-align: right;\n    }\n</style>\n<table border=\"1\" class=\"dataframe\">\n  <thead>\n    <tr style=\"text-align: right;\">\n      <th></th>\n      <th>QuestionID</th>\n      <th>RepeatedQuestions</th>\n      <th>questiontext</th>\n    </tr>\n  </thead>\n  <tbody>\n    <tr>\n      <th>0</th>\n      <td>1</td>\n      <td>5</td>\n      <td>What is your age?</td>\n    </tr>\n    <tr>\n      <th>1</th>\n      <td>2</td>\n      <td>5</td>\n      <td>What is your gender?</td>\n    </tr>\n    <tr>\n      <th>2</th>\n      <td>3</td>\n      <td>5</td>\n      <td>What country do you live in?</td>\n    </tr>\n    <tr>\n      <th>3</th>\n      <td>4</td>\n      <td>5</td>\n      <td>If you live in the United States, which state ...</td>\n    </tr>\n    <tr>\n      <th>4</th>\n      <td>5</td>\n      <td>5</td>\n      <td>Are you self-employed?</td>\n    </tr>\n    <tr>\n      <th>5</th>\n      <td>6</td>\n      <td>5</td>\n      <td>Do you have a family history of mental illness?</td>\n    </tr>\n    <tr>\n      <th>6</th>\n      <td>7</td>\n      <td>5</td>\n      <td>Have you ever sought treatment for a mental he...</td>\n    </tr>\n    <tr>\n      <th>7</th>\n      <td>8</td>\n      <td>5</td>\n      <td>How many employees does your company or organi...</td>\n    </tr>\n    <tr>\n      <th>8</th>\n      <td>9</td>\n      <td>5</td>\n      <td>Is your employer primarily a tech company/orga...</td>\n    </tr>\n    <tr>\n      <th>9</th>\n      <td>10</td>\n      <td>5</td>\n      <td>Does your employer provide mental health benef...</td>\n    </tr>\n    <tr>\n      <th>10</th>\n      <td>11</td>\n      <td>5</td>\n      <td>Is your anonymity protected if you choose to t...</td>\n    </tr>\n    <tr>\n      <th>11</th>\n      <td>12</td>\n      <td>5</td>\n      <td>Would you bring up a mental health issue with ...</td>\n    </tr>\n  </tbody>\n</table>\n</div>"
     },
     "execution_count": 206,
     "metadata": {},
     "output_type": "execute_result"
    }
   ],
   "source": [
    "questions_in_all_surveys = combined_df[combined_df.RepeatedQuestions==5]\n",
    "questions_in_all_surveys"
   ],
   "metadata": {
    "collapsed": false,
    "ExecuteTime": {
     "end_time": "2024-04-27T13:55:42.233348Z",
     "start_time": "2024-04-27T13:55:42.195275Z"
    }
   },
   "id": "61cf2ad2dcaa4c6b",
   "execution_count": 206
  },
  {
   "cell_type": "code",
   "outputs": [
    {
     "data": {
      "text/plain": "         AnswerText  SurveyID  UserID  QuestionID\n0                37      2014       1           1\n1                44      2014       2           1\n2                32      2014       3           1\n3                31      2014       4           1\n4                31      2014       5           1\n...             ...       ...     ...         ...\n46393  I don't know      2019    4214          11\n46394            -1      2019    4215          11\n46395            -1      2019    4216          11\n46396           Yes      2019    4217          11\n46397           Yes      2019    4218          11\n\n[46398 rows x 4 columns]",
      "text/html": "<div>\n<style scoped>\n    .dataframe tbody tr th:only-of-type {\n        vertical-align: middle;\n    }\n\n    .dataframe tbody tr th {\n        vertical-align: top;\n    }\n\n    .dataframe thead th {\n        text-align: right;\n    }\n</style>\n<table border=\"1\" class=\"dataframe\">\n  <thead>\n    <tr style=\"text-align: right;\">\n      <th></th>\n      <th>AnswerText</th>\n      <th>SurveyID</th>\n      <th>UserID</th>\n      <th>QuestionID</th>\n    </tr>\n  </thead>\n  <tbody>\n    <tr>\n      <th>0</th>\n      <td>37</td>\n      <td>2014</td>\n      <td>1</td>\n      <td>1</td>\n    </tr>\n    <tr>\n      <th>1</th>\n      <td>44</td>\n      <td>2014</td>\n      <td>2</td>\n      <td>1</td>\n    </tr>\n    <tr>\n      <th>2</th>\n      <td>32</td>\n      <td>2014</td>\n      <td>3</td>\n      <td>1</td>\n    </tr>\n    <tr>\n      <th>3</th>\n      <td>31</td>\n      <td>2014</td>\n      <td>4</td>\n      <td>1</td>\n    </tr>\n    <tr>\n      <th>4</th>\n      <td>31</td>\n      <td>2014</td>\n      <td>5</td>\n      <td>1</td>\n    </tr>\n    <tr>\n      <th>...</th>\n      <td>...</td>\n      <td>...</td>\n      <td>...</td>\n      <td>...</td>\n    </tr>\n    <tr>\n      <th>46393</th>\n      <td>I don't know</td>\n      <td>2019</td>\n      <td>4214</td>\n      <td>11</td>\n    </tr>\n    <tr>\n      <th>46394</th>\n      <td>-1</td>\n      <td>2019</td>\n      <td>4215</td>\n      <td>11</td>\n    </tr>\n    <tr>\n      <th>46395</th>\n      <td>-1</td>\n      <td>2019</td>\n      <td>4216</td>\n      <td>11</td>\n    </tr>\n    <tr>\n      <th>46396</th>\n      <td>Yes</td>\n      <td>2019</td>\n      <td>4217</td>\n      <td>11</td>\n    </tr>\n    <tr>\n      <th>46397</th>\n      <td>Yes</td>\n      <td>2019</td>\n      <td>4218</td>\n      <td>11</td>\n    </tr>\n  </tbody>\n</table>\n<p>46398 rows × 4 columns</p>\n</div>"
     },
     "execution_count": 207,
     "metadata": {},
     "output_type": "execute_result"
    }
   ],
   "source": [
    "query = '''SELECT *\n",
    "FROM Answer\n",
    "WHERE QuestionID<12;\n",
    "'''\n",
    "\n",
    "answer_df_questions_all_survey = pd.read_sql_query(query, conn)\n",
    "answer_df_questions_all_survey"
   ],
   "metadata": {
    "collapsed": false,
    "ExecuteTime": {
     "end_time": "2024-04-27T13:55:42.686636Z",
     "start_time": "2024-04-27T13:55:42.240804Z"
    }
   },
   "id": "366f0c7e3360059d",
   "execution_count": 207
  },
  {
   "cell_type": "markdown",
   "source": [
    "## 3.1 Prepare Datasets\n",
    "Objective:\n",
    "Separate the data into one dataset per survey question.\n",
    "Adjust data of each dataset depending on the type of AnswerText."
   ],
   "metadata": {
    "collapsed": false
   },
   "id": "ccc5697242e2aa8d"
  },
  {
   "cell_type": "markdown",
   "source": [
    "Our analysis is focused on the Tech industry, all users that do not work in \n",
    "Tech will be filtered out for this part."
   ],
   "metadata": {
    "collapsed": false
   },
   "id": "c6e24d72f75d2f5e"
  },
  {
   "cell_type": "code",
   "outputs": [],
   "source": [
    "respondents_query = '''\n",
    "SELECT UserID\n",
    "FROM Answer\n",
    "WHERE QuestionID=9 AND AnswerText='1';\n",
    "'''\n",
    "respondents = pd.read_sql_query(respondents_query, conn)\n",
    "\n",
    "respondent_user_ids = respondents['UserID'].tolist()"
   ],
   "metadata": {
    "collapsed": false,
    "ExecuteTime": {
     "end_time": "2024-04-27T13:55:42.801540Z",
     "start_time": "2024-04-27T13:55:42.693676Z"
    }
   },
   "id": "607b3a9219b25129",
   "execution_count": 208
  },
  {
   "cell_type": "markdown",
   "source": [
    "Create separate dataframes for each question, so each can be separately \n",
    "treated."
   ],
   "metadata": {
    "collapsed": false
   },
   "id": "e4e15d2137a52665"
  },
  {
   "cell_type": "code",
   "outputs": [],
   "source": [
    "questions = []\n",
    "\n",
    "for i in range(questions_in_all_surveys.QuestionID.size):\n",
    "    placeholders = ', '.join(['?'] * len(respondent_user_ids))                               \n",
    "    query = f'''\n",
    "    SELECT *\n",
    "    FROM Answer\n",
    "    WHERE QuestionID={i+1} AND UserID IN ({placeholders});\n",
    "    '''\n",
    "    question = pd.read_sql_query(query, conn, params=respondent_user_ids)\n",
    "    questions.append(question)"
   ],
   "metadata": {
    "collapsed": false,
    "ExecuteTime": {
     "end_time": "2024-04-27T13:55:43.980262Z",
     "start_time": "2024-04-27T13:55:42.807196Z"
    }
   },
   "id": "45ef5d74b0da0a00",
   "execution_count": 209
  },
  {
   "cell_type": "markdown",
   "source": [
    "### 3.1.1 QuestionID 1"
   ],
   "metadata": {
    "collapsed": false
   },
   "id": "174c9e66863c7fa8"
  },
  {
   "cell_type": "markdown",
   "source": [
    "Question 1 answers are numbers but are typed as object. Let's change it to \n",
    "numeric."
   ],
   "metadata": {
    "collapsed": false
   },
   "id": "2e0f7ba569a4c8b6"
  },
  {
   "cell_type": "code",
   "outputs": [],
   "source": [
    "questions[0]['AnswerText'] = pd.to_numeric(questions[0]['AnswerText'], \n",
    "                                            errors='coerce')"
   ],
   "metadata": {
    "collapsed": false,
    "ExecuteTime": {
     "end_time": "2024-04-27T13:55:43.992950Z",
     "start_time": "2024-04-27T13:55:43.982849Z"
    }
   },
   "id": "4f4b19114156d493",
   "execution_count": 210
  },
  {
   "cell_type": "markdown",
   "source": [
    "The age range is huge, with meaningless min and max values."
   ],
   "metadata": {
    "collapsed": false
   },
   "id": "e4261d7289fdda7e"
  },
  {
   "cell_type": "code",
   "outputs": [
    {
     "data": {
      "text/plain": "        AnswerText     SurveyID       UserID  QuestionID\ncount  2888.000000  2888.000000  2888.000000      2888.0\nmean     33.174861  2015.858726  1976.809903         1.0\nstd      10.898987     1.611179  1245.388226         0.0\nmin      -1.000000  2014.000000     1.000000         1.0\n25%      28.000000  2014.000000   866.750000         1.0\n50%      32.000000  2016.000000  1870.500000         1.0\n75%      37.000000  2017.000000  3081.000000         1.0\nmax     329.000000  2019.000000  4218.000000         1.0",
      "text/html": "<div>\n<style scoped>\n    .dataframe tbody tr th:only-of-type {\n        vertical-align: middle;\n    }\n\n    .dataframe tbody tr th {\n        vertical-align: top;\n    }\n\n    .dataframe thead th {\n        text-align: right;\n    }\n</style>\n<table border=\"1\" class=\"dataframe\">\n  <thead>\n    <tr style=\"text-align: right;\">\n      <th></th>\n      <th>AnswerText</th>\n      <th>SurveyID</th>\n      <th>UserID</th>\n      <th>QuestionID</th>\n    </tr>\n  </thead>\n  <tbody>\n    <tr>\n      <th>count</th>\n      <td>2888.000000</td>\n      <td>2888.000000</td>\n      <td>2888.000000</td>\n      <td>2888.0</td>\n    </tr>\n    <tr>\n      <th>mean</th>\n      <td>33.174861</td>\n      <td>2015.858726</td>\n      <td>1976.809903</td>\n      <td>1.0</td>\n    </tr>\n    <tr>\n      <th>std</th>\n      <td>10.898987</td>\n      <td>1.611179</td>\n      <td>1245.388226</td>\n      <td>0.0</td>\n    </tr>\n    <tr>\n      <th>min</th>\n      <td>-1.000000</td>\n      <td>2014.000000</td>\n      <td>1.000000</td>\n      <td>1.0</td>\n    </tr>\n    <tr>\n      <th>25%</th>\n      <td>28.000000</td>\n      <td>2014.000000</td>\n      <td>866.750000</td>\n      <td>1.0</td>\n    </tr>\n    <tr>\n      <th>50%</th>\n      <td>32.000000</td>\n      <td>2016.000000</td>\n      <td>1870.500000</td>\n      <td>1.0</td>\n    </tr>\n    <tr>\n      <th>75%</th>\n      <td>37.000000</td>\n      <td>2017.000000</td>\n      <td>3081.000000</td>\n      <td>1.0</td>\n    </tr>\n    <tr>\n      <th>max</th>\n      <td>329.000000</td>\n      <td>2019.000000</td>\n      <td>4218.000000</td>\n      <td>1.0</td>\n    </tr>\n  </tbody>\n</table>\n</div>"
     },
     "execution_count": 211,
     "metadata": {},
     "output_type": "execute_result"
    }
   ],
   "source": [
    "questions[0].describe()"
   ],
   "metadata": {
    "collapsed": false,
    "ExecuteTime": {
     "end_time": "2024-04-27T13:55:44.045262Z",
     "start_time": "2024-04-27T13:55:43.995373Z"
    }
   },
   "id": "2b682df24b15bbce",
   "execution_count": 211
  },
  {
   "cell_type": "markdown",
   "source": [
    "Since many countries worldwide allow only 14 or above years olds to work, \n",
    "any answers under 14 and over 85 are most likely typo or users refusing to \n",
    "reveal their age. Therefor are considered None. "
   ],
   "metadata": {
    "collapsed": false
   },
   "id": "915d95f32dfac223"
  },
  {
   "cell_type": "code",
   "outputs": [],
   "source": [
    "questions[0]['AnswerText'] = (questions[0]['AnswerText']\n",
    "                                      .apply(lambda x: x if 14<=x<=85 else \n",
    "None))"
   ],
   "metadata": {
    "collapsed": false,
    "ExecuteTime": {
     "end_time": "2024-04-27T13:55:44.060033Z",
     "start_time": "2024-04-27T13:55:44.048860Z"
    }
   },
   "id": "b41b8e961735a512",
   "execution_count": 212
  },
  {
   "cell_type": "markdown",
   "source": [
    "### 3.1.2 QuestionID 2"
   ],
   "metadata": {
    "collapsed": false
   },
   "id": "8fdd8b6aeeac8d8c"
  },
  {
   "cell_type": "markdown",
   "source": [
    "Answers for this question include 'female', 'male', '-1' and a variety of \n",
    "genders. \n",
    "Due to the wide range of different answers, '-1' is considered *None*\n",
    " and any other than 'female' and 'male' are 'other'."
   ],
   "metadata": {
    "collapsed": false
   },
   "id": "2614a94af6d7e2f7"
  },
  {
   "cell_type": "code",
   "outputs": [],
   "source": [
    "questions[1]['AnswerText'] = questions[1]['AnswerText'].str.lower()\n",
    "questions[1]['AnswerText'] = questions[1]['AnswerText'].apply(lambda x: None\n",
    "if x=='-1' else (x if x in ['female', 'male'] else 'other'))"
   ],
   "metadata": {
    "collapsed": false,
    "ExecuteTime": {
     "end_time": "2024-04-27T13:55:44.077020Z",
     "start_time": "2024-04-27T13:55:44.063481Z"
    }
   },
   "id": "19915b50a04baab",
   "execution_count": 213
  },
  {
   "cell_type": "markdown",
   "source": [
    "### 3.1.3 QuestionID 3"
   ],
   "metadata": {
    "collapsed": false
   },
   "id": "1067cbf1b1e0026a"
  },
  {
   "cell_type": "markdown",
   "source": [
    "Replaced repeated country name written in different formats and considered \n",
    "'-1' values as 'None'"
   ],
   "metadata": {
    "collapsed": false
   },
   "id": "4d81c0933989afcd"
  },
  {
   "cell_type": "code",
   "outputs": [],
   "source": [
    "questions[2]['AnswerText'] = questions[2]['AnswerText'].replace('-1', None)\n",
    "questions[2]['AnswerText'] = questions[2]['AnswerText'].replace('United '\n",
    "                                                                'States', 'United States of America')"
   ],
   "metadata": {
    "collapsed": false,
    "ExecuteTime": {
     "end_time": "2024-04-27T13:55:44.104868Z",
     "start_time": "2024-04-27T13:55:44.080609Z"
    }
   },
   "id": "5704b0fc8dd0e4ba",
   "execution_count": 214
  },
  {
   "cell_type": "markdown",
   "source": [
    "### 3.1.4 QuestionID 4"
   ],
   "metadata": {
    "collapsed": false
   },
   "id": "e425c3bf0a1d3ee5"
  },
  {
   "cell_type": "markdown",
   "source": [
    "Replaced repeated state names written in different formats and considered \n",
    "'-1' values as 'None'"
   ],
   "metadata": {
    "collapsed": false
   },
   "id": "4c6ad5a82e5269b1"
  },
  {
   "cell_type": "code",
   "outputs": [],
   "source": [
    "questions[3]['AnswerText'] = questions[3]['AnswerText'].replace('-1', None)\n",
    "questions[3]['AnswerText'] = questions[3]['AnswerText'].replace('DC', \n",
    "                                                                'District of Columbia')"
   ],
   "metadata": {
    "collapsed": false,
    "ExecuteTime": {
     "end_time": "2024-04-27T13:55:44.121813Z",
     "start_time": "2024-04-27T13:55:44.108418Z"
    }
   },
   "id": "d0e9626ad6cf6f43",
   "execution_count": 215
  },
  {
   "cell_type": "markdown",
   "source": [
    "### 3.1.5 QuestionID 5"
   ],
   "metadata": {
    "collapsed": false
   },
   "id": "57ef79fe69b1668e"
  },
  {
   "cell_type": "markdown",
   "source": [
    "Consider\n",
    "-1: None\n",
    "1: True\n",
    "0: False"
   ],
   "metadata": {
    "collapsed": false
   },
   "id": "3c672a2adb63ad81"
  },
  {
   "cell_type": "code",
   "outputs": [],
   "source": [
    "def to_boolean_none(x):\n",
    "    if x == -1:\n",
    "        return None \n",
    "    elif x == 1:\n",
    "        return True\n",
    "    elif x == 0:\n",
    "        return False\n",
    "    else:\n",
    "        return x\n",
    "\n",
    "questions[4]['AnswerText'] = pd.to_numeric(questions[4]['AnswerText'], \n",
    "                                            errors='coerce')\n",
    "questions[4]['AnswerText'] = (questions[4]['AnswerText'].apply\n",
    "                              (to_boolean_none))"
   ],
   "metadata": {
    "collapsed": false,
    "ExecuteTime": {
     "end_time": "2024-04-27T13:55:44.143215Z",
     "start_time": "2024-04-27T13:55:44.125325Z"
    }
   },
   "id": "9c4c56cf897332ad",
   "execution_count": 216
  },
  {
   "cell_type": "markdown",
   "source": [
    "### 3.1.6 QuestionID 6"
   ],
   "metadata": {
    "collapsed": false
   },
   "id": "cf783b6e28054ef2"
  },
  {
   "cell_type": "markdown",
   "source": [
    "Consider\n",
    "-1: None\n",
    "Yes: True\n",
    "No: False"
   ],
   "metadata": {
    "collapsed": false
   },
   "id": "1d2357d7c4144c02"
  },
  {
   "cell_type": "code",
   "outputs": [],
   "source": [
    "def yes_no_to_boolean(x):\n",
    "    if x == '-1':\n",
    "        return None \n",
    "    elif x == 'Yes':\n",
    "        return True\n",
    "    elif x == 'No':\n",
    "        return False\n",
    "    else:\n",
    "        return x\n",
    "    \n",
    "questions[5]['AnswerText'] = (questions[5]['AnswerText'].apply\n",
    "                              (yes_no_to_boolean))"
   ],
   "metadata": {
    "collapsed": false,
    "ExecuteTime": {
     "end_time": "2024-04-27T13:55:44.162559Z",
     "start_time": "2024-04-27T13:55:44.146680Z"
    }
   },
   "id": "9c9070f6a3b983fd",
   "execution_count": 217
  },
  {
   "cell_type": "markdown",
   "source": [
    "### 3.1.7 QuestionID 7"
   ],
   "metadata": {
    "collapsed": false
   },
   "id": "bd854e35b79da6de"
  },
  {
   "cell_type": "markdown",
   "source": [
    "Consider\n",
    "-1: None\n",
    "1: True\n",
    "0: False"
   ],
   "metadata": {
    "collapsed": false
   },
   "id": "79f1d8df273da197"
  },
  {
   "cell_type": "code",
   "outputs": [],
   "source": [
    "questions[6]['AnswerText'] = pd.to_numeric(questions[6]['AnswerText'], \n",
    "                                            errors='coerce')\n",
    "questions[6]['AnswerText'] = (questions[6]['AnswerText'].apply\n",
    "                              (to_boolean_none))"
   ],
   "metadata": {
    "collapsed": false,
    "ExecuteTime": {
     "end_time": "2024-04-27T13:55:44.181196Z",
     "start_time": "2024-04-27T13:55:44.166370Z"
    }
   },
   "id": "3694cc643372a743",
   "execution_count": 218
  },
  {
   "cell_type": "markdown",
   "source": [
    "### 3.1.8 QuestionID 8"
   ],
   "metadata": {
    "collapsed": false
   },
   "id": "88e0ac31f31aa797"
  },
  {
   "cell_type": "code",
   "outputs": [],
   "source": [
    "questions[7]['AnswerText'] = questions[7]['AnswerText'].replace('-1', None)"
   ],
   "metadata": {
    "collapsed": false,
    "ExecuteTime": {
     "end_time": "2024-04-27T13:55:44.193189Z",
     "start_time": "2024-04-27T13:55:44.184782Z"
    }
   },
   "id": "56efd258661a06d5",
   "execution_count": 219
  },
  {
   "cell_type": "markdown",
   "source": [
    "### 3.1.9 QuestionID 9"
   ],
   "metadata": {
    "collapsed": false
   },
   "id": "8d92a8873653a632"
  },
  {
   "cell_type": "markdown",
   "source": [
    "Consider\n",
    "-1: None\n",
    "1: True\n",
    "0: False"
   ],
   "metadata": {
    "collapsed": false
   },
   "id": "75fe8e48ad37a49f"
  },
  {
   "cell_type": "code",
   "outputs": [],
   "source": [
    "questions[8]['AnswerText'] = pd.to_numeric(questions[8]['AnswerText'], \n",
    "                                            errors='coerce')\n",
    "questions[8]['AnswerText'] = (questions[8]['AnswerText'].apply\n",
    "                              (to_boolean_none))"
   ],
   "metadata": {
    "collapsed": false,
    "ExecuteTime": {
     "end_time": "2024-04-27T13:55:44.218322Z",
     "start_time": "2024-04-27T13:55:44.196654Z"
    }
   },
   "id": "7cede1758a6faf0e",
   "execution_count": 220
  },
  {
   "cell_type": "markdown",
   "source": [
    "### 3.1.10 QuestionID 10"
   ],
   "metadata": {
    "collapsed": false
   },
   "id": "98b0054172e1ba8"
  },
  {
   "cell_type": "markdown",
   "source": [
    "Consider\n",
    "-1: None\n",
    "Yes: True\n",
    "No: False"
   ],
   "metadata": {
    "collapsed": false
   },
   "id": "487295c19282b286"
  },
  {
   "cell_type": "code",
   "outputs": [],
   "source": [
    "questions[9]['AnswerText'] = questions[9]['AnswerText'].replace(\"Don't \"\n",
    "                                                                \"know\", \"I don't know\")\n",
    "questions[9]['AnswerText'] = (questions[9]['AnswerText'].apply\n",
    "                              (yes_no_to_boolean))"
   ],
   "metadata": {
    "collapsed": false,
    "ExecuteTime": {
     "end_time": "2024-04-27T13:55:44.249475Z",
     "start_time": "2024-04-27T13:55:44.228842Z"
    }
   },
   "id": "4769e19244828c5b",
   "execution_count": 221
  },
  {
   "cell_type": "markdown",
   "source": [
    "### 3.1.11 QuestionID 11"
   ],
   "metadata": {
    "collapsed": false
   },
   "id": "4d9317f49ea22a6f"
  },
  {
   "cell_type": "markdown",
   "source": [
    "Consider\n",
    "-1: None\n",
    "Yes: True\n",
    "No: False"
   ],
   "metadata": {
    "collapsed": false
   },
   "id": "3cfe6d533676c620"
  },
  {
   "cell_type": "code",
   "outputs": [],
   "source": [
    "questions[10]['AnswerText'] = (questions[10]['AnswerText'].apply\n",
    "                              (yes_no_to_boolean))\n",
    "questions[10]['AnswerText'] = questions[10]['AnswerText'].replace(\"Don't \"\n",
    "                                                                \"know\", \"I don't know\")"
   ],
   "metadata": {
    "collapsed": false,
    "ExecuteTime": {
     "end_time": "2024-04-27T13:55:44.275136Z",
     "start_time": "2024-04-27T13:55:44.255565Z"
    }
   },
   "id": "4bb3764701037b07",
   "execution_count": 222
  },
  {
   "cell_type": "markdown",
   "source": [
    "### 3.1.12 QuestionID 12"
   ],
   "metadata": {
    "collapsed": false
   },
   "id": "93afdaa9a33e8fb1"
  },
  {
   "cell_type": "markdown",
   "source": [
    "Consider\n",
    "-1: None\n",
    "Yes: True\n",
    "No: False"
   ],
   "metadata": {
    "collapsed": false
   },
   "id": "14e72cdb57ce0ec5"
  },
  {
   "cell_type": "code",
   "outputs": [],
   "source": [
    "questions[11]['AnswerText'] = (questions[11]['AnswerText'].apply\n",
    "                              (yes_no_to_boolean))"
   ],
   "metadata": {
    "collapsed": false,
    "ExecuteTime": {
     "end_time": "2024-04-27T13:55:44.301851Z",
     "start_time": "2024-04-27T13:55:44.281536Z"
    }
   },
   "id": "cc27ae114fb49228",
   "execution_count": 223
  },
  {
   "cell_type": "markdown",
   "source": [
    "## 3.2 Available Data\n",
    "Objective: Calculate, visualize and understand available data for each \n",
    "question."
   ],
   "metadata": {
    "collapsed": false
   },
   "id": "61652400af82a9f3"
  },
  {
   "cell_type": "markdown",
   "source": [
    "Calculate available data(answers) for each question."
   ],
   "metadata": {
    "collapsed": false
   },
   "id": "f712601790ff5f47"
  },
  {
   "cell_type": "code",
   "outputs": [
    {
     "data": {
      "text/plain": "   QuestionID  Available Data (%)\n0           1           99.688366\n1           2           99.619114\n2           3          100.000000\n3           4           63.088643\n4           5           99.445983\n5           6          100.000000\n6           7          100.000000\n7           8          100.000000\n8           9          100.000000\n9          10          100.000000\n10         11          100.000000\n11         12          100.000000",
      "text/html": "<div>\n<style scoped>\n    .dataframe tbody tr th:only-of-type {\n        vertical-align: middle;\n    }\n\n    .dataframe tbody tr th {\n        vertical-align: top;\n    }\n\n    .dataframe thead th {\n        text-align: right;\n    }\n</style>\n<table border=\"1\" class=\"dataframe\">\n  <thead>\n    <tr style=\"text-align: right;\">\n      <th></th>\n      <th>QuestionID</th>\n      <th>Available Data (%)</th>\n    </tr>\n  </thead>\n  <tbody>\n    <tr>\n      <th>0</th>\n      <td>1</td>\n      <td>99.688366</td>\n    </tr>\n    <tr>\n      <th>1</th>\n      <td>2</td>\n      <td>99.619114</td>\n    </tr>\n    <tr>\n      <th>2</th>\n      <td>3</td>\n      <td>100.000000</td>\n    </tr>\n    <tr>\n      <th>3</th>\n      <td>4</td>\n      <td>63.088643</td>\n    </tr>\n    <tr>\n      <th>4</th>\n      <td>5</td>\n      <td>99.445983</td>\n    </tr>\n    <tr>\n      <th>5</th>\n      <td>6</td>\n      <td>100.000000</td>\n    </tr>\n    <tr>\n      <th>6</th>\n      <td>7</td>\n      <td>100.000000</td>\n    </tr>\n    <tr>\n      <th>7</th>\n      <td>8</td>\n      <td>100.000000</td>\n    </tr>\n    <tr>\n      <th>8</th>\n      <td>9</td>\n      <td>100.000000</td>\n    </tr>\n    <tr>\n      <th>9</th>\n      <td>10</td>\n      <td>100.000000</td>\n    </tr>\n    <tr>\n      <th>10</th>\n      <td>11</td>\n      <td>100.000000</td>\n    </tr>\n    <tr>\n      <th>11</th>\n      <td>12</td>\n      <td>100.000000</td>\n    </tr>\n  </tbody>\n</table>\n</div>"
     },
     "execution_count": 224,
     "metadata": {},
     "output_type": "execute_result"
    }
   ],
   "source": [
    "available_data = [(1 - questions[i]['AnswerText'].isnull().mean()) * 100 for i in range(len(questions))]\n",
    "\n",
    "QuestionID = [f'{i+1}' for i in range(len(questions))]\n",
    "\n",
    "available_data_df = pd.DataFrame({\n",
    "    'QuestionID': QuestionID,\n",
    "    'Available Data (%)': available_data\n",
    "})\n",
    "available_data_df"
   ],
   "metadata": {
    "collapsed": false,
    "ExecuteTime": {
     "end_time": "2024-04-27T13:55:44.345132Z",
     "start_time": "2024-04-27T13:55:44.307813Z"
    }
   },
   "id": "389ae1c00caad9f2",
   "execution_count": 224
  },
  {
   "cell_type": "markdown",
   "source": [
    "Plot available data"
   ],
   "metadata": {
    "collapsed": false
   },
   "id": "16495ad5a129c558"
  },
  {
   "cell_type": "code",
   "outputs": [
    {
     "data": {
      "text/plain": "<Axes: xlabel='Available Data (%)', ylabel='QuestionID'>"
     },
     "execution_count": 225,
     "metadata": {},
     "output_type": "execute_result"
    },
    {
     "data": {
      "text/plain": "<Figure size 500x400 with 1 Axes>",
      "image/png": "[encoded data removed]"
     },
     "metadata": {},
     "output_type": "display_data"
    }
   ],
   "source": [
    "plt.figure(figsize=(5, 4))\n",
    "sns.set_style(style='whitegrid')\n",
    "sns.barplot(data=available_data_df, x='Available Data (%)', \n",
    "            y='QuestionID')"
   ],
   "metadata": {
    "collapsed": false,
    "ExecuteTime": {
     "end_time": "2024-04-27T13:55:45.454398Z",
     "start_time": "2024-04-27T13:55:44.349811Z"
    }
   },
   "id": "16ef6cb75486ba7",
   "execution_count": 225
  },
  {
   "cell_type": "markdown",
   "source": [
    "### 3.2.1 Insights"
   ],
   "metadata": {
    "collapsed": false
   },
   "id": "b69774d27059236c"
  },
  {
   "cell_type": "markdown",
   "source": [
    "QuestionID 4 has the most missing data, which is possible due to the nature \n",
    "of the question 'If you live in the United States, which state or territory \n",
    "do you live in?'. Users who do not live in the US, would have avoided the \n",
    "question. \n",
    "For the purpose of exploratory data analysis and to avoid bias, missing data\n",
    "will be preserved in our dataset."
   ],
   "metadata": {
    "collapsed": false
   },
   "id": "317ee24857c231ec"
  },
  {
   "cell_type": "markdown",
   "source": [
    "## 3.3 User Description\n",
    "Objective: \n",
    "Understand who is answering these surveys, the background of our \n",
    "users, from questions ID 1-8. \n",
    "*All normalized data does not take missing data into consideration. For \n",
    "example, if the proportion value is 0.3, it is 30% of available data only.*"
   ],
   "metadata": {
    "collapsed": false
   },
   "id": "ba46382779eb6bd1"
  },
  {
   "cell_type": "markdown",
   "source": [
    "**QuestionID 1: What is your age?**"
   ],
   "metadata": {
    "collapsed": false
   },
   "id": "ca14845162d50864"
  },
  {
   "cell_type": "code",
   "outputs": [
    {
     "data": {
      "text/plain": "        AnswerText     SurveyID       UserID  QuestionID\ncount  2879.000000  2888.000000  2888.000000      2888.0\nmean     33.009031  2015.858726  1976.809903         1.0\nstd       7.499172     1.611179  1245.388226         0.0\nmin      17.000000  2014.000000     1.000000         1.0\n25%      28.000000  2014.000000   866.750000         1.0\n50%      32.000000  2016.000000  1870.500000         1.0\n75%      37.000000  2017.000000  3081.000000         1.0\nmax      70.000000  2019.000000  4218.000000         1.0",
      "text/html": "<div>\n<style scoped>\n    .dataframe tbody tr th:only-of-type {\n        vertical-align: middle;\n    }\n\n    .dataframe tbody tr th {\n        vertical-align: top;\n    }\n\n    .dataframe thead th {\n        text-align: right;\n    }\n</style>\n<table border=\"1\" class=\"dataframe\">\n  <thead>\n    <tr style=\"text-align: right;\">\n      <th></th>\n      <th>AnswerText</th>\n      <th>SurveyID</th>\n      <th>UserID</th>\n      <th>QuestionID</th>\n    </tr>\n  </thead>\n  <tbody>\n    <tr>\n      <th>count</th>\n      <td>2879.000000</td>\n      <td>2888.000000</td>\n      <td>2888.000000</td>\n      <td>2888.0</td>\n    </tr>\n    <tr>\n      <th>mean</th>\n      <td>33.009031</td>\n      <td>2015.858726</td>\n      <td>1976.809903</td>\n      <td>1.0</td>\n    </tr>\n    <tr>\n      <th>std</th>\n      <td>7.499172</td>\n      <td>1.611179</td>\n      <td>1245.388226</td>\n      <td>0.0</td>\n    </tr>\n    <tr>\n      <th>min</th>\n      <td>17.000000</td>\n      <td>2014.000000</td>\n      <td>1.000000</td>\n      <td>1.0</td>\n    </tr>\n    <tr>\n      <th>25%</th>\n      <td>28.000000</td>\n      <td>2014.000000</td>\n      <td>866.750000</td>\n      <td>1.0</td>\n    </tr>\n    <tr>\n      <th>50%</th>\n      <td>32.000000</td>\n      <td>2016.000000</td>\n      <td>1870.500000</td>\n      <td>1.0</td>\n    </tr>\n    <tr>\n      <th>75%</th>\n      <td>37.000000</td>\n      <td>2017.000000</td>\n      <td>3081.000000</td>\n      <td>1.0</td>\n    </tr>\n    <tr>\n      <th>max</th>\n      <td>70.000000</td>\n      <td>2019.000000</td>\n      <td>4218.000000</td>\n      <td>1.0</td>\n    </tr>\n  </tbody>\n</table>\n</div>"
     },
     "execution_count": 226,
     "metadata": {},
     "output_type": "execute_result"
    }
   ],
   "source": [
    "questions[0].describe()"
   ],
   "metadata": {
    "collapsed": false,
    "ExecuteTime": {
     "end_time": "2024-04-27T13:55:45.505425Z",
     "start_time": "2024-04-27T13:55:45.457911Z"
    }
   },
   "id": "93131f326b44c415",
   "execution_count": 226
  },
  {
   "cell_type": "markdown",
   "source": [
    "Visualize the age of our Users in a normalized histogram. Making the shape \n",
    "easier to compare between different surveys."
   ],
   "metadata": {
    "collapsed": false
   },
   "id": "a4cb06c9bbb4233a"
  },
  {
   "cell_type": "code",
   "outputs": [
    {
     "data": {
      "text/plain": "<Axes: xlabel='AnswerText', ylabel='Density'>"
     },
     "execution_count": 227,
     "metadata": {},
     "output_type": "execute_result"
    },
    {
     "data": {
      "text/plain": "<Figure size 500x400 with 1 Axes>",
      "image/png": "[encoded data removed]"
     },
     "metadata": {},
     "output_type": "display_data"
    }
   ],
   "source": [
    "plt.figure(figsize=(5, 4))\n",
    "sns.set_style(style='whitegrid')\n",
    "palette = sns.color_palette('deep', n_colors=len(questions[0]['SurveyID']\n",
    "                                              .unique()))\n",
    "sns.histplot(data=questions[0], x='AnswerText', hue='SurveyID', \n",
    "             palette=palette, element='step', stat='density', common_norm=False)"
   ],
   "metadata": {
    "collapsed": false,
    "ExecuteTime": {
     "end_time": "2024-04-27T13:55:46.487182Z",
     "start_time": "2024-04-27T13:55:45.508958Z"
    }
   },
   "id": "2528db478ee2a882",
   "execution_count": 227
  },
  {
   "cell_type": "markdown",
   "source": [
    "General distribution are similar across different surveys, with median \n",
    "around 32 years old."
   ],
   "metadata": {
    "collapsed": false
   },
   "id": "dc68b81a834e7b5"
  },
  {
   "cell_type": "markdown",
   "source": [
    "**QuestionID 2: What is your gender?**"
   ],
   "metadata": {
    "collapsed": false
   },
   "id": "5644a5faf85515ed"
  },
  {
   "cell_type": "code",
   "outputs": [],
   "source": [
    "def normalized_category(data: pd.DataFrame) -> pd.DataFrame:\n",
    "    category_counts = (data.groupby(by=['SurveyID', 'AnswerText']).size()\n",
    "                          .reset_index(name='Counts'))\n",
    "    total_counts = category_counts.groupby(by='SurveyID')['Counts'].transform('sum')\n",
    "    category_counts['Proportion'] = category_counts['Counts']/total_counts\n",
    "    return category_counts\n",
    "    \n",
    "def normalized_category_barplot(data: pd.DataFrame, order=None) -> plt.figure:\n",
    "    category_counts = normalized_category(data)\n",
    "    fig, ax =  plt.subplots(figsize=(5, 4))\n",
    "    sns.set_style(style='whitegrid')\n",
    "    palette = sns.color_palette('deep', n_colors=data['SurveyID']\n",
    "                                                     .nunique())\n",
    "    if order is not None: \n",
    "        sns.barplot(data=category_counts, x='AnswerText', y='Proportion', \n",
    "                    hue='SurveyID', palette=palette, ax=ax, order=order)\n",
    "    else:\n",
    "        sns.barplot(data=category_counts, x='AnswerText', y='Proportion', \n",
    "                    hue='SurveyID', palette=palette, ax=ax)\n",
    "    return fig\n",
    "    "
   ],
   "metadata": {
    "collapsed": false,
    "ExecuteTime": {
     "end_time": "2024-04-27T13:55:46.508021Z",
     "start_time": "2024-04-27T13:55:46.491748Z"
    }
   },
   "id": "1bac482976e9a9e0",
   "execution_count": 228
  },
  {
   "cell_type": "markdown",
   "source": [
    "Normalize data by 'SurveyID'"
   ],
   "metadata": {
    "collapsed": false
   },
   "id": "aca7f0af6d071f55"
  },
  {
   "cell_type": "markdown",
   "source": [
    "Plot normalized data"
   ],
   "metadata": {
    "collapsed": false
   },
   "id": "ed49fe8a79c0181f"
  },
  {
   "cell_type": "code",
   "outputs": [
    {
     "data": {
      "text/plain": "<Figure size 500x400 with 1 Axes>",
      "image/png": "[encoded data removed]"
     },
     "metadata": {},
     "output_type": "display_data"
    }
   ],
   "source": [
    "fig_q2 = normalized_category_barplot(data=questions[1])"
   ],
   "metadata": {
    "collapsed": false,
    "ExecuteTime": {
     "end_time": "2024-04-27T13:55:47.749753Z",
     "start_time": "2024-04-27T13:55:46.513010Z"
    }
   },
   "id": "cbed39595dd46c8f",
   "execution_count": 229
  },
  {
   "cell_type": "markdown",
   "source": [
    "Given the data we have, without considering the missing values, our sampling\n",
    "population majority is male in all surveys. There is, however, a consistent \n",
    "decrease of male and increase of female and other gender types."
   ],
   "metadata": {
    "collapsed": false
   },
   "id": "d39d370349cfa4d7"
  },
  {
   "cell_type": "markdown",
   "source": [
    "**QuestionID 3: What country do you live in?**"
   ],
   "metadata": {
    "collapsed": false
   },
   "id": "720e5a4c329bc5ca"
  },
  {
   "cell_type": "code",
   "outputs": [
    {
     "data": {
      "text/plain": "     SurveyID                AnswerText  Counts  Proportion\n0        2014                 Australia      17    0.016489\n1        2014                   Austria       3    0.002910\n2        2014              Bahamas, The       1    0.000970\n3        2014                   Belgium       3    0.002910\n4        2014    Bosnia and Herzegovina       1    0.000970\n..        ...                       ...     ...         ...\n173      2019                     Spain       2    0.009662\n174      2019               Switzerland       3    0.014493\n175      2019                    Turkey       1    0.004831\n176      2019            United Kingdom      14    0.067633\n177      2019  United States of America     126    0.608696\n\n[178 rows x 4 columns]",
      "text/html": "<div>\n<style scoped>\n    .dataframe tbody tr th:only-of-type {\n        vertical-align: middle;\n    }\n\n    .dataframe tbody tr th {\n        vertical-align: top;\n    }\n\n    .dataframe thead th {\n        text-align: right;\n    }\n</style>\n<table border=\"1\" class=\"dataframe\">\n  <thead>\n    <tr style=\"text-align: right;\">\n      <th></th>\n      <th>SurveyID</th>\n      <th>AnswerText</th>\n      <th>Counts</th>\n      <th>Proportion</th>\n    </tr>\n  </thead>\n  <tbody>\n    <tr>\n      <th>0</th>\n      <td>2014</td>\n      <td>Australia</td>\n      <td>17</td>\n      <td>0.016489</td>\n    </tr>\n    <tr>\n      <th>1</th>\n      <td>2014</td>\n      <td>Austria</td>\n      <td>3</td>\n      <td>0.002910</td>\n    </tr>\n    <tr>\n      <th>2</th>\n      <td>2014</td>\n      <td>Bahamas, The</td>\n      <td>1</td>\n      <td>0.000970</td>\n    </tr>\n    <tr>\n      <th>3</th>\n      <td>2014</td>\n      <td>Belgium</td>\n      <td>3</td>\n      <td>0.002910</td>\n    </tr>\n    <tr>\n      <th>4</th>\n      <td>2014</td>\n      <td>Bosnia and Herzegovina</td>\n      <td>1</td>\n      <td>0.000970</td>\n    </tr>\n    <tr>\n      <th>...</th>\n      <td>...</td>\n      <td>...</td>\n      <td>...</td>\n      <td>...</td>\n    </tr>\n    <tr>\n      <th>173</th>\n      <td>2019</td>\n      <td>Spain</td>\n      <td>2</td>\n      <td>0.009662</td>\n    </tr>\n    <tr>\n      <th>174</th>\n      <td>2019</td>\n      <td>Switzerland</td>\n      <td>3</td>\n      <td>0.014493</td>\n    </tr>\n    <tr>\n      <th>175</th>\n      <td>2019</td>\n      <td>Turkey</td>\n      <td>1</td>\n      <td>0.004831</td>\n    </tr>\n    <tr>\n      <th>176</th>\n      <td>2019</td>\n      <td>United Kingdom</td>\n      <td>14</td>\n      <td>0.067633</td>\n    </tr>\n    <tr>\n      <th>177</th>\n      <td>2019</td>\n      <td>United States of America</td>\n      <td>126</td>\n      <td>0.608696</td>\n    </tr>\n  </tbody>\n</table>\n<p>178 rows × 4 columns</p>\n</div>"
     },
     "execution_count": 230,
     "metadata": {},
     "output_type": "execute_result"
    }
   ],
   "source": [
    "normalized_q3 = normalized_category(data=questions[2])\n",
    "normalized_q3"
   ],
   "metadata": {
    "collapsed": false,
    "ExecuteTime": {
     "end_time": "2024-04-27T13:55:47.822036Z",
     "start_time": "2024-04-27T13:55:47.759182Z"
    }
   },
   "id": "b05d32eead73790a",
   "execution_count": 230
  },
  {
   "cell_type": "markdown",
   "source": [
    "**QuestionID 4: If you live in the United States, which state or territory \n",
    "do you live in?**"
   ],
   "metadata": {
    "collapsed": false
   },
   "id": "7a825d5dc1a9cfc4"
  },
  {
   "cell_type": "code",
   "outputs": [
    {
     "data": {
      "text/plain": "     SurveyID   AnswerText  Counts  Proportion\n0        2014      Alabama       5    0.008264\n1        2014      Arizona       6    0.009917\n2        2014   California     130    0.214876\n3        2014     Colorado       9    0.014876\n4        2014  Connecticut       3    0.004959\n..        ...          ...     ...         ...\n187      2019         Utah       3    0.023810\n188      2019      Vermont       1    0.007937\n189      2019     Virginia       4    0.031746\n190      2019   Washington       9    0.071429\n191      2019    Wisconsin       1    0.007937\n\n[192 rows x 4 columns]",
      "text/html": "<div>\n<style scoped>\n    .dataframe tbody tr th:only-of-type {\n        vertical-align: middle;\n    }\n\n    .dataframe tbody tr th {\n        vertical-align: top;\n    }\n\n    .dataframe thead th {\n        text-align: right;\n    }\n</style>\n<table border=\"1\" class=\"dataframe\">\n  <thead>\n    <tr style=\"text-align: right;\">\n      <th></th>\n      <th>SurveyID</th>\n      <th>AnswerText</th>\n      <th>Counts</th>\n      <th>Proportion</th>\n    </tr>\n  </thead>\n  <tbody>\n    <tr>\n      <th>0</th>\n      <td>2014</td>\n      <td>Alabama</td>\n      <td>5</td>\n      <td>0.008264</td>\n    </tr>\n    <tr>\n      <th>1</th>\n      <td>2014</td>\n      <td>Arizona</td>\n      <td>6</td>\n      <td>0.009917</td>\n    </tr>\n    <tr>\n      <th>2</th>\n      <td>2014</td>\n      <td>California</td>\n      <td>130</td>\n      <td>0.214876</td>\n    </tr>\n    <tr>\n      <th>3</th>\n      <td>2014</td>\n      <td>Colorado</td>\n      <td>9</td>\n      <td>0.014876</td>\n    </tr>\n    <tr>\n      <th>4</th>\n      <td>2014</td>\n      <td>Connecticut</td>\n      <td>3</td>\n      <td>0.004959</td>\n    </tr>\n    <tr>\n      <th>...</th>\n      <td>...</td>\n      <td>...</td>\n      <td>...</td>\n      <td>...</td>\n    </tr>\n    <tr>\n      <th>187</th>\n      <td>2019</td>\n      <td>Utah</td>\n      <td>3</td>\n      <td>0.023810</td>\n    </tr>\n    <tr>\n      <th>188</th>\n      <td>2019</td>\n      <td>Vermont</td>\n      <td>1</td>\n      <td>0.007937</td>\n    </tr>\n    <tr>\n      <th>189</th>\n      <td>2019</td>\n      <td>Virginia</td>\n      <td>4</td>\n      <td>0.031746</td>\n    </tr>\n    <tr>\n      <th>190</th>\n      <td>2019</td>\n      <td>Washington</td>\n      <td>9</td>\n      <td>0.071429</td>\n    </tr>\n    <tr>\n      <th>191</th>\n      <td>2019</td>\n      <td>Wisconsin</td>\n      <td>1</td>\n      <td>0.007937</td>\n    </tr>\n  </tbody>\n</table>\n<p>192 rows × 4 columns</p>\n</div>"
     },
     "execution_count": 231,
     "metadata": {},
     "output_type": "execute_result"
    }
   ],
   "source": [
    "normalized_q4 = normalized_category(questions[3])\n",
    "normalized_q4"
   ],
   "metadata": {
    "collapsed": false,
    "ExecuteTime": {
     "end_time": "2024-04-27T13:55:47.878907Z",
     "start_time": "2024-04-27T13:55:47.829703Z"
    }
   },
   "id": "970ec6937e576cc3",
   "execution_count": 231
  },
  {
   "cell_type": "markdown",
   "source": [
    "**QuestionID 5: Are you self-employed?**"
   ],
   "metadata": {
    "collapsed": false
   },
   "id": "7debacf22a034227"
  },
  {
   "cell_type": "code",
   "outputs": [
    {
     "data": {
      "text/plain": "<Figure size 500x400 with 1 Axes>",
      "image/png": "[encoded data removed]"
     },
     "metadata": {},
     "output_type": "display_data"
    }
   ],
   "source": [
    "fig_q5 = normalized_category_barplot(questions[4])"
   ],
   "metadata": {
    "collapsed": false,
    "ExecuteTime": {
     "end_time": "2024-04-27T13:55:49.071360Z",
     "start_time": "2024-04-27T13:55:47.887531Z"
    }
   },
   "id": "4e117c3952ef53a1",
   "execution_count": 232
  },
  {
   "cell_type": "markdown",
   "source": [
    "In general, most of our users are not self-employed. This remains \n",
    "consistent over the surveys."
   ],
   "metadata": {
    "collapsed": false
   },
   "id": "b4da2441f7e9879a"
  },
  {
   "cell_type": "markdown",
   "source": [
    "**QuestionID 6: Do you have a family history of mental illness?**"
   ],
   "metadata": {
    "collapsed": false
   },
   "id": "b42e64a933f01b35"
  },
  {
   "cell_type": "code",
   "outputs": [
    {
     "data": {
      "text/plain": "<Figure size 500x400 with 1 Axes>",
      "image/png": "[encoded data removed]"
     },
     "metadata": {},
     "output_type": "display_data"
    }
   ],
   "source": [
    "fig_q6 = normalized_category_barplot(questions[5])"
   ],
   "metadata": {
    "collapsed": false,
    "ExecuteTime": {
     "end_time": "2024-04-27T13:55:50.187680Z",
     "start_time": "2024-04-27T13:55:49.076117Z"
    }
   },
   "id": "6ba97d531fa992ea",
   "execution_count": 233
  },
  {
   "cell_type": "markdown",
   "source": [
    "There was no reply 'I don't know' from 2014, which probably was an option \n",
    "only added in year 2016. This could justify the unusually high ratio of \n",
    "'False' in the same year. \n",
    "However, year by year, there is a visible upwards trend of 'True' and 'I \n",
    "don't know', and downwards for 'False'. An increase of awareness in the \n",
    "general population on mental health topics might be the reason behind."
   ],
   "metadata": {
    "collapsed": false
   },
   "id": "f2da78cef9f62aa1"
  },
  {
   "cell_type": "markdown",
   "source": [
    "**QuestionID 7: Have you ever sought treatment for a mental health disorder \n",
    "from a mental health professional?**"
   ],
   "metadata": {
    "collapsed": false
   },
   "id": "dda617442a4cbada"
  },
  {
   "cell_type": "code",
   "outputs": [
    {
     "data": {
      "text/plain": "<Figure size 500x400 with 1 Axes>",
      "image/png": "[encoded data removed]"
     },
     "metadata": {},
     "output_type": "display_data"
    }
   ],
   "source": [
    "fig_q7 = normalized_category_barplot(questions[6])"
   ],
   "metadata": {
    "collapsed": false,
    "ExecuteTime": {
     "end_time": "2024-04-27T13:55:51.592513Z",
     "start_time": "2024-04-27T13:55:50.195090Z"
    }
   },
   "id": "371ff7ecdfbdb2c3",
   "execution_count": 234
  },
  {
   "cell_type": "markdown",
   "source": [
    "There is an upswing tendency of people who have sought help from a mental \n",
    "health professional. This is similar to the situation in question 6. "
   ],
   "metadata": {
    "collapsed": false
   },
   "id": "39002f1209052f30"
  },
  {
   "cell_type": "markdown",
   "source": [
    "**QuestionID 8: How many employees does your company or organization have?**"
   ],
   "metadata": {
    "collapsed": false
   },
   "id": "66e45cea65425703"
  },
  {
   "cell_type": "code",
   "outputs": [
    {
     "data": {
      "text/plain": "([0, 1, 2, 3, 4, 5],\n [Text(0, 0, '1-5'),\n  Text(1, 0, '6-25'),\n  Text(2, 0, '26-100'),\n  Text(3, 0, '100-500'),\n  Text(4, 0, '500-1000'),\n  Text(5, 0, 'More than 1000')])"
     },
     "execution_count": 235,
     "metadata": {},
     "output_type": "execute_result"
    },
    {
     "data": {
      "text/plain": "<Figure size 500x400 with 1 Axes>",
      "image/png": "[encoded data removed]"
     },
     "metadata": {},
     "output_type": "display_data"
    }
   ],
   "source": [
    "desired_order = ['1-5', '6-25', '26-100', '100-500', '500-1000', 'More than 1000']\n",
    "\n",
    "category_counts = normalized_category(questions[7])\n",
    "fig, ax =  plt.subplots(figsize=(5, 4))\n",
    "sns.set_style(style='whitegrid')\n",
    "palette = sns.color_palette('deep', n_colors=questions[7]['SurveyID'].nunique())\n",
    "sns.barplot(data=category_counts, x='AnswerText', y='Proportion', \n",
    "            hue='SurveyID', palette=palette, ax=ax, order=desired_order)\n",
    "plt.xticks(rotation=45)\n"
   ],
   "metadata": {
    "collapsed": false,
    "ExecuteTime": {
     "end_time": "2024-04-27T13:55:53.483700Z",
     "start_time": "2024-04-27T13:55:51.598650Z"
    }
   },
   "id": "b9060fa095d00809",
   "execution_count": 235
  },
  {
   "cell_type": "markdown",
   "source": [
    "Our sampling population captures more and more users working in bigger sized\n",
    " companies."
   ],
   "metadata": {
    "collapsed": false
   },
   "id": "26a5acfa425bde5d"
  },
  {
   "cell_type": "markdown",
   "source": [
    "**QuestionID 10: Does your employer provide mental health benefits as part \n",
    "of healthcare coverage?**"
   ],
   "metadata": {
    "collapsed": false
   },
   "id": "23032843c2efe8dc"
  },
  {
   "cell_type": "markdown",
   "source": [
    "**QuestionID 11: Is your anonymity protected if you choose to take advantage\n",
    " of mental health or substance abuse treatment resources provided by your \n",
    " employer?**"
   ],
   "metadata": {
    "collapsed": false
   },
   "id": "6be168dc45b7f993"
  },
  {
   "cell_type": "markdown",
   "source": [
    "**QuestionID 12: Would you bring up a mental health issue with a potential \n",
    "employer in an interview?**"
   ],
   "metadata": {
    "collapsed": false
   },
   "id": "45a613020c938321"
  },
  {
   "cell_type": "markdown",
   "source": [
    "## 3.4 Mental Health in Companies\n",
    "Objective:\n",
    "1. Mental health policies in companies.\n",
    "2. Understand the general population's perception of their company's stance on \n",
    "mental health related topics."
   ],
   "metadata": {
    "collapsed": false
   },
   "id": "ed464d7c0026c378"
  },
  {
   "cell_type": "markdown",
   "source": [
    "**QuestionID 1. 'What is your age?'**"
   ],
   "metadata": {
    "collapsed": false
   },
   "id": "e37ec08d8a6a3aa"
  },
  {
   "cell_type": "code",
   "outputs": [
    {
     "ename": "NameError",
     "evalue": "name 'answer_to_question_1' is not defined",
     "output_type": "error",
     "traceback": [
      "\u001B[1;31m---------------------------------------------------------------------------\u001B[0m",
      "\u001B[1;31mNameError\u001B[0m                                 Traceback (most recent call last)",
      "Cell \u001B[1;32mIn[237], line 1\u001B[0m\n\u001B[1;32m----> 1\u001B[0m \u001B[43manswer_to_question_1\u001B[49m\u001B[38;5;241m.\u001B[39mdescribe()\n",
      "\u001B[1;31mNameError\u001B[0m: name 'answer_to_question_1' is not defined"
     ]
    }
   ],
   "source": [
    "answer_to_question_1.describe()"
   ],
   "metadata": {
    "collapsed": false,
    "ExecuteTime": {
     "end_time": "2024-04-27T13:55:54.403094Z",
     "start_time": "2024-04-27T13:55:54.353218Z"
    }
   },
   "id": "ce1f42d1d4418244",
   "execution_count": 237
  },
  {
   "cell_type": "markdown",
   "source": [
    "1. Data Cleaning - treating outliers"
   ],
   "metadata": {
    "collapsed": false
   },
   "id": "7a3939aac920560b"
  },
  {
   "cell_type": "code",
   "outputs": [],
   "source": [
    "answer_to_question_1['AnswerText'] = (answer_to_question_1['AnswerText']\n",
    "                                      .apply(lambda x: x if 14<=x<=100 else \n",
    "pd.NA))"
   ],
   "metadata": {
    "collapsed": false,
    "ExecuteTime": {
     "end_time": "2024-04-27T13:55:54.406641Z",
     "start_time": "2024-04-27T13:55:54.406641Z"
    }
   },
   "id": "f5cf5491b6adecbb",
   "execution_count": null
  },
  {
   "cell_type": "code",
   "outputs": [],
   "source": [
    "available_data = (1-answer_to_question_1.isna().mean())*100"
   ],
   "metadata": {
    "collapsed": false
   },
   "id": "29ca3d915964c2a6",
   "execution_count": null
  },
  {
   "cell_type": "code",
   "outputs": [],
   "source": [
    "available_data = (1-answer_to_question_1.isna().mean())*100\n",
    "plt.figure(figsize=(5, 4))\n",
    "sns.set_style(style='whitegrid')\n",
    "sns.barplot(x=available_data.index, y=available_data\n",
    "            .values)"
   ],
   "metadata": {
    "collapsed": false
   },
   "id": "bb8341cdc56ee97e",
   "execution_count": null
  },
  {
   "cell_type": "code",
   "outputs": [],
   "source": [
    "plt.figure(figsize=(8, 5))\n",
    "sns.set_style(style='whitegrid')\n",
    "sns.histplot(data=answer_to_question_1, x='AnswerText', hue='SurveyID',  element='step', stat='count', common_norm=False)"
   ],
   "metadata": {
    "collapsed": false
   },
   "id": "d9fbc3c3bfddc7c6",
   "execution_count": null
  },
  {
   "cell_type": "code",
   "outputs": [],
   "source": [],
   "metadata": {
    "collapsed": false,
    "ExecuteTime": {
     "start_time": "2024-04-27T13:55:54.421661Z"
    }
   },
   "id": "7708b75bfcb47e3d",
   "execution_count": null
  }
 ],
 "metadata": {
  "kernelspec": {
   "display_name": "Python 3",
   "language": "python",
   "name": "python3"
  },
  "language_info": {
   "codemirror_mode": {
    "name": "ipython",
    "version": 2
   },
   "file_extension": ".py",
   "mimetype": "text/x-python",
   "name": "python",
   "nbconvert_exporter": "python",
   "pygments_lexer": "ipython2",
   "version": "2.7.6"
  }
 },
 "nbformat": 4,
 "nbformat_minor": 5
}
