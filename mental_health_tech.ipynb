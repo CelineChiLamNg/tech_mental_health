{
 "cells": [
  {
   "cell_type": "markdown",
   "source": [
    "# Mental Health in Tech Industry Analysis 2014-2019\n",
    "### *author: Celine Ng*\n",
    "### *April 2024*"
   ],
   "metadata": {
    "collapsed": false
   },
   "id": "69181126df6336d4"
  },
  {
   "cell_type": "markdown",
   "source": [
    "# Table of Contents \n",
    "1. Notebook Preparation\n",
    "    1.1 Libraries Installation\n",
    "    1.2 Data Retrieval\n",
    "    1.3 Initial Data Cleaning\n",
    "2. Dataset 'Answer'\n",
    "    2.1 Overview of the Surveys Over the Years\n",
    "        2.1.1 Insights\n",
    "    2.2 "
   ],
   "metadata": {
    "collapsed": false
   },
   "id": "681b1ea051fad5c1"
  },
  {
   "cell_type": "markdown",
   "source": [
    "# 1. Notebook preparation\n",
    "## 1.1 Libraries Installation"
   ],
   "metadata": {
    "collapsed": false
   },
   "id": "2cc065289896539a"
  },
  {
   "cell_type": "code",
   "outputs": [
    {
     "name": "stdout",
     "output_type": "stream",
     "text": [
      "Requirement already satisfied: pandas in c:\\users\\acer\\appdata\\local\\programs\\python\\python312\\lib\\site-packages (2.2.2)\n",
      "Requirement already satisfied: numpy>=1.26.0 in c:\\users\\acer\\appdata\\local\\programs\\python\\python312\\lib\\site-packages (from pandas) (1.26.4)\n",
      "Requirement already satisfied: python-dateutil>=2.8.2 in c:\\users\\acer\\appdata\\local\\programs\\python\\python312\\lib\\site-packages (from pandas) (2.9.0.post0)\n",
      "Requirement already satisfied: pytz>=2020.1 in c:\\users\\acer\\appdata\\local\\programs\\python\\python312\\lib\\site-packages (from pandas) (2024.1)\n",
      "Requirement already satisfied: tzdata>=2022.7 in c:\\users\\acer\\appdata\\local\\programs\\python\\python312\\lib\\site-packages (from pandas) (2024.1)\n",
      "Requirement already satisfied: six>=1.5 in c:\\users\\acer\\appdata\\local\\programs\\python\\python312\\lib\\site-packages (from python-dateutil>=2.8.2->pandas) (1.16.0)\n",
      "Requirement already satisfied: matplotlib in c:\\users\\acer\\appdata\\local\\programs\\python\\python312\\lib\\site-packages (3.8.4)\n",
      "Requirement already satisfied: contourpy>=1.0.1 in c:\\users\\acer\\appdata\\local\\programs\\python\\python312\\lib\\site-packages (from matplotlib) (1.2.1)\n",
      "Requirement already satisfied: cycler>=0.10 in c:\\users\\acer\\appdata\\local\\programs\\python\\python312\\lib\\site-packages (from matplotlib) (0.12.1)\n",
      "Requirement already satisfied: fonttools>=4.22.0 in c:\\users\\acer\\appdata\\local\\programs\\python\\python312\\lib\\site-packages (from matplotlib) (4.51.0)\n",
      "Requirement already satisfied: kiwisolver>=1.3.1 in c:\\users\\acer\\appdata\\local\\programs\\python\\python312\\lib\\site-packages (from matplotlib) (1.4.5)\n",
      "Requirement already satisfied: numpy>=1.21 in c:\\users\\acer\\appdata\\local\\programs\\python\\python312\\lib\\site-packages (from matplotlib) (1.26.4)\n",
      "Requirement already satisfied: packaging>=20.0 in c:\\users\\acer\\appdata\\local\\programs\\python\\python312\\lib\\site-packages (from matplotlib) (24.0)\n",
      "Requirement already satisfied: pillow>=8 in c:\\users\\acer\\appdata\\local\\programs\\python\\python312\\lib\\site-packages (from matplotlib) (10.3.0)\n",
      "Requirement already satisfied: pyparsing>=2.3.1 in c:\\users\\acer\\appdata\\local\\programs\\python\\python312\\lib\\site-packages (from matplotlib) (3.1.2)\n",
      "Requirement already satisfied: python-dateutil>=2.7 in c:\\users\\acer\\appdata\\local\\programs\\python\\python312\\lib\\site-packages (from matplotlib) (2.9.0.post0)\n",
      "Requirement already satisfied: six>=1.5 in c:\\users\\acer\\appdata\\local\\programs\\python\\python312\\lib\\site-packages (from python-dateutil>=2.7->matplotlib) (1.16.0)\n",
      "Requirement already satisfied: seaborn in c:\\users\\acer\\appdata\\local\\programs\\python\\python312\\lib\\site-packages (0.13.2)\n",
      "Requirement already satisfied: numpy!=1.24.0,>=1.20 in c:\\users\\acer\\appdata\\local\\programs\\python\\python312\\lib\\site-packages (from seaborn) (1.26.4)\n",
      "Requirement already satisfied: pandas>=1.2 in c:\\users\\acer\\appdata\\local\\programs\\python\\python312\\lib\\site-packages (from seaborn) (2.2.2)\n",
      "Requirement already satisfied: matplotlib!=3.6.1,>=3.4 in c:\\users\\acer\\appdata\\local\\programs\\python\\python312\\lib\\site-packages (from seaborn) (3.8.4)\n",
      "Requirement already satisfied: contourpy>=1.0.1 in c:\\users\\acer\\appdata\\local\\programs\\python\\python312\\lib\\site-packages (from matplotlib!=3.6.1,>=3.4->seaborn) (1.2.1)\n",
      "Requirement already satisfied: cycler>=0.10 in c:\\users\\acer\\appdata\\local\\programs\\python\\python312\\lib\\site-packages (from matplotlib!=3.6.1,>=3.4->seaborn) (0.12.1)\n",
      "Requirement already satisfied: fonttools>=4.22.0 in c:\\users\\acer\\appdata\\local\\programs\\python\\python312\\lib\\site-packages (from matplotlib!=3.6.1,>=3.4->seaborn) (4.51.0)\n",
      "Requirement already satisfied: kiwisolver>=1.3.1 in c:\\users\\acer\\appdata\\local\\programs\\python\\python312\\lib\\site-packages (from matplotlib!=3.6.1,>=3.4->seaborn) (1.4.5)\n",
      "Requirement already satisfied: packaging>=20.0 in c:\\users\\acer\\appdata\\local\\programs\\python\\python312\\lib\\site-packages (from matplotlib!=3.6.1,>=3.4->seaborn) (24.0)\n",
      "Requirement already satisfied: pillow>=8 in c:\\users\\acer\\appdata\\local\\programs\\python\\python312\\lib\\site-packages (from matplotlib!=3.6.1,>=3.4->seaborn) (10.3.0)\n",
      "Requirement already satisfied: pyparsing>=2.3.1 in c:\\users\\acer\\appdata\\local\\programs\\python\\python312\\lib\\site-packages (from matplotlib!=3.6.1,>=3.4->seaborn) (3.1.2)\n",
      "Requirement already satisfied: python-dateutil>=2.7 in c:\\users\\acer\\appdata\\local\\programs\\python\\python312\\lib\\site-packages (from matplotlib!=3.6.1,>=3.4->seaborn) (2.9.0.post0)\n",
      "Requirement already satisfied: pytz>=2020.1 in c:\\users\\acer\\appdata\\local\\programs\\python\\python312\\lib\\site-packages (from pandas>=1.2->seaborn) (2024.1)\n",
      "Requirement already satisfied: tzdata>=2022.7 in c:\\users\\acer\\appdata\\local\\programs\\python\\python312\\lib\\site-packages (from pandas>=1.2->seaborn) (2024.1)\n",
      "Requirement already satisfied: six>=1.5 in c:\\users\\acer\\appdata\\local\\programs\\python\\python312\\lib\\site-packages (from python-dateutil>=2.7->matplotlib!=3.6.1,>=3.4->seaborn) (1.16.0)\n"
     ]
    }
   ],
   "source": [
    "!pip install pandas\n",
    "!pip install matplotlib\n",
    "!pip install seaborn"
   ],
   "metadata": {
    "collapsed": false,
    "ExecuteTime": {
     "end_time": "2024-04-22T19:21:50.790831Z",
     "start_time": "2024-04-22T19:21:13.140664Z"
    }
   },
   "id": "fa4007094670e04e",
   "execution_count": 185
  },
  {
   "cell_type": "code",
   "outputs": [],
   "source": [
    "import pandas as pd\n",
    "import matplotlib.pyplot as plt\n",
    "import seaborn as sns\n",
    "import sqlite3 as sql"
   ],
   "metadata": {
    "collapsed": false,
    "ExecuteTime": {
     "end_time": "2024-04-22T19:21:50.807366Z",
     "start_time": "2024-04-22T19:21:50.790831Z"
    }
   },
   "id": "76fe65a61a98beeb",
   "execution_count": 186
  },
  {
   "cell_type": "markdown",
   "source": [
    "## 1.2 Data Retrieval\n",
    "Objective: Preview datasets and have a general understanding of each of the \n",
    "tables."
   ],
   "metadata": {
    "collapsed": false
   },
   "id": "d5d7a9407607afbb"
  },
  {
   "cell_type": "markdown",
   "source": [
    "Create a relative path to the SQLite database and connect to the SQLite \n",
    "database"
   ],
   "metadata": {
    "collapsed": false
   },
   "id": "290a2a0ad0cb267"
  },
  {
   "cell_type": "code",
   "outputs": [],
   "source": [
    "database_path = 'mental_health.sqlite'\n",
    "conn = sql.connect(database_path)"
   ],
   "metadata": {
    "collapsed": false,
    "ExecuteTime": {
     "end_time": "2024-04-22T19:21:50.830932Z",
     "start_time": "2024-04-22T19:21:50.811281Z"
    }
   },
   "id": "89cb3a937c75d279",
   "execution_count": 187
  },
  {
   "cell_type": "markdown",
   "source": [
    "Check how many tables is in the database and the names of them"
   ],
   "metadata": {
    "collapsed": false
   },
   "id": "7fef294b479dfb5f"
  },
  {
   "cell_type": "code",
   "outputs": [
    {
     "name": "stdout",
     "output_type": "stream",
     "text": [
      "       name\n",
      "0    Answer\n",
      "1  Question\n",
      "2    Survey\n"
     ]
    }
   ],
   "source": [
    "query = 'SELECT name FROM sqlite_master WHERE type=\"table\";'\n",
    "tables = pd.read_sql_query(query, conn)\n",
    "print(tables)"
   ],
   "metadata": {
    "collapsed": false,
    "ExecuteTime": {
     "end_time": "2024-04-22T19:21:50.860227Z",
     "start_time": "2024-04-22T19:21:50.838158Z"
    }
   },
   "id": "cd52b49b32b756d4",
   "execution_count": 188
  },
  {
   "cell_type": "markdown",
   "source": [
    "**Answer**"
   ],
   "metadata": {
    "collapsed": false
   },
   "id": "67fe2e0961898958"
  },
  {
   "cell_type": "code",
   "outputs": [
    {
     "data": {
      "text/plain": "                AnswerText  SurveyID  UserID  QuestionID\n0                       37      2014       1           1\n1                       44      2014       2           1\n2                       32      2014       3           1\n3                       31      2014       4           1\n4                       31      2014       5           1\n...                    ...       ...     ...         ...\n236893               Other      2016    2689         117\n236894             Support      2016    2690         117\n236895  Back-end Developer      2016    2691         117\n236896     DevOps/SysAdmin      2016    2692         117\n236897               Other      2016    2693         117\n\n[236898 rows x 4 columns]",
      "text/html": "<div>\n<style scoped>\n    .dataframe tbody tr th:only-of-type {\n        vertical-align: middle;\n    }\n\n    .dataframe tbody tr th {\n        vertical-align: top;\n    }\n\n    .dataframe thead th {\n        text-align: right;\n    }\n</style>\n<table border=\"1\" class=\"dataframe\">\n  <thead>\n    <tr style=\"text-align: right;\">\n      <th></th>\n      <th>AnswerText</th>\n      <th>SurveyID</th>\n      <th>UserID</th>\n      <th>QuestionID</th>\n    </tr>\n  </thead>\n  <tbody>\n    <tr>\n      <th>0</th>\n      <td>37</td>\n      <td>2014</td>\n      <td>1</td>\n      <td>1</td>\n    </tr>\n    <tr>\n      <th>1</th>\n      <td>44</td>\n      <td>2014</td>\n      <td>2</td>\n      <td>1</td>\n    </tr>\n    <tr>\n      <th>2</th>\n      <td>32</td>\n      <td>2014</td>\n      <td>3</td>\n      <td>1</td>\n    </tr>\n    <tr>\n      <th>3</th>\n      <td>31</td>\n      <td>2014</td>\n      <td>4</td>\n      <td>1</td>\n    </tr>\n    <tr>\n      <th>4</th>\n      <td>31</td>\n      <td>2014</td>\n      <td>5</td>\n      <td>1</td>\n    </tr>\n    <tr>\n      <th>...</th>\n      <td>...</td>\n      <td>...</td>\n      <td>...</td>\n      <td>...</td>\n    </tr>\n    <tr>\n      <th>236893</th>\n      <td>Other</td>\n      <td>2016</td>\n      <td>2689</td>\n      <td>117</td>\n    </tr>\n    <tr>\n      <th>236894</th>\n      <td>Support</td>\n      <td>2016</td>\n      <td>2690</td>\n      <td>117</td>\n    </tr>\n    <tr>\n      <th>236895</th>\n      <td>Back-end Developer</td>\n      <td>2016</td>\n      <td>2691</td>\n      <td>117</td>\n    </tr>\n    <tr>\n      <th>236896</th>\n      <td>DevOps/SysAdmin</td>\n      <td>2016</td>\n      <td>2692</td>\n      <td>117</td>\n    </tr>\n    <tr>\n      <th>236897</th>\n      <td>Other</td>\n      <td>2016</td>\n      <td>2693</td>\n      <td>117</td>\n    </tr>\n  </tbody>\n</table>\n<p>236898 rows × 4 columns</p>\n</div>"
     },
     "execution_count": 189,
     "metadata": {},
     "output_type": "execute_result"
    }
   ],
   "source": [
    "answer_df = pd.read_sql('SELECT * FROM Answer', conn)\n",
    "answer_df"
   ],
   "metadata": {
    "collapsed": false,
    "ExecuteTime": {
     "end_time": "2024-04-22T19:21:52.876672Z",
     "start_time": "2024-04-22T19:21:50.866769Z"
    }
   },
   "id": "3f0aeaead31c2200",
   "execution_count": 189
  },
  {
   "cell_type": "code",
   "outputs": [
    {
     "name": "stdout",
     "output_type": "stream",
     "text": [
      "<class 'pandas.core.frame.DataFrame'>\n",
      "RangeIndex: 236898 entries, 0 to 236897\n",
      "Data columns (total 4 columns):\n",
      " #   Column      Non-Null Count   Dtype \n",
      "---  ------      --------------   ----- \n",
      " 0   AnswerText  236898 non-null  object\n",
      " 1   SurveyID    236898 non-null  int64 \n",
      " 2   UserID      236898 non-null  int64 \n",
      " 3   QuestionID  236898 non-null  int64 \n",
      "dtypes: int64(3), object(1)\n",
      "memory usage: 7.2+ MB\n"
     ]
    }
   ],
   "source": [
    "answer_df.info()"
   ],
   "metadata": {
    "collapsed": false,
    "ExecuteTime": {
     "end_time": "2024-04-22T19:21:52.975920Z",
     "start_time": "2024-04-22T19:21:52.880148Z"
    }
   },
   "id": "1acb1e96f23c73b",
   "execution_count": 190
  },
  {
   "cell_type": "code",
   "outputs": [
    {
     "data": {
      "text/plain": "4218"
     },
     "execution_count": 191,
     "metadata": {},
     "output_type": "execute_result"
    }
   ],
   "source": [
    "answer_df.UserID.nunique()"
   ],
   "metadata": {
    "collapsed": false,
    "ExecuteTime": {
     "end_time": "2024-04-22T19:21:53.005888Z",
     "start_time": "2024-04-22T19:21:52.979808Z"
    }
   },
   "id": "42d5c8f5bf34d691",
   "execution_count": 191
  },
  {
   "cell_type": "markdown",
   "source": [
    "There are 236898 columns in the Answer dataset, with 2 foreign keys, \n",
    "SurveyID and QuestionID. \n",
    "In total, 4218 people answered the survey."
   ],
   "metadata": {
    "collapsed": false
   },
   "id": "71218f268d54cd68"
  },
  {
   "cell_type": "markdown",
   "source": [
    "**Question**"
   ],
   "metadata": {
    "collapsed": false
   },
   "id": "1d6258509922db4f"
  },
  {
   "cell_type": "code",
   "outputs": [
    {
     "data": {
      "text/plain": "                                          questiontext  questionid\n0                                    What is your age?           1\n1                                 What is your gender?           2\n2                         What country do you live in?           3\n3    If you live in the United States, which state ...           4\n4                               Are you self-employed?           5\n..                                                 ...         ...\n100  Do you think that team members/co-workers woul...         114\n101  If yes, what condition(s) have you been diagno...         115\n102  If maybe, what condition(s) do you believe you...         116\n103  Which of the following best describes your wor...         117\n104                              Do you work remotely?         118\n\n[105 rows x 2 columns]",
      "text/html": "<div>\n<style scoped>\n    .dataframe tbody tr th:only-of-type {\n        vertical-align: middle;\n    }\n\n    .dataframe tbody tr th {\n        vertical-align: top;\n    }\n\n    .dataframe thead th {\n        text-align: right;\n    }\n</style>\n<table border=\"1\" class=\"dataframe\">\n  <thead>\n    <tr style=\"text-align: right;\">\n      <th></th>\n      <th>questiontext</th>\n      <th>questionid</th>\n    </tr>\n  </thead>\n  <tbody>\n    <tr>\n      <th>0</th>\n      <td>What is your age?</td>\n      <td>1</td>\n    </tr>\n    <tr>\n      <th>1</th>\n      <td>What is your gender?</td>\n      <td>2</td>\n    </tr>\n    <tr>\n      <th>2</th>\n      <td>What country do you live in?</td>\n      <td>3</td>\n    </tr>\n    <tr>\n      <th>3</th>\n      <td>If you live in the United States, which state ...</td>\n      <td>4</td>\n    </tr>\n    <tr>\n      <th>4</th>\n      <td>Are you self-employed?</td>\n      <td>5</td>\n    </tr>\n    <tr>\n      <th>...</th>\n      <td>...</td>\n      <td>...</td>\n    </tr>\n    <tr>\n      <th>100</th>\n      <td>Do you think that team members/co-workers woul...</td>\n      <td>114</td>\n    </tr>\n    <tr>\n      <th>101</th>\n      <td>If yes, what condition(s) have you been diagno...</td>\n      <td>115</td>\n    </tr>\n    <tr>\n      <th>102</th>\n      <td>If maybe, what condition(s) do you believe you...</td>\n      <td>116</td>\n    </tr>\n    <tr>\n      <th>103</th>\n      <td>Which of the following best describes your wor...</td>\n      <td>117</td>\n    </tr>\n    <tr>\n      <th>104</th>\n      <td>Do you work remotely?</td>\n      <td>118</td>\n    </tr>\n  </tbody>\n</table>\n<p>105 rows × 2 columns</p>\n</div>"
     },
     "execution_count": 192,
     "metadata": {},
     "output_type": "execute_result"
    }
   ],
   "source": [
    "question_df = pd.read_sql('SELECT * FROM Question', conn)\n",
    "question_df"
   ],
   "metadata": {
    "collapsed": false,
    "ExecuteTime": {
     "end_time": "2024-04-22T19:21:53.054673Z",
     "start_time": "2024-04-22T19:21:53.013627Z"
    }
   },
   "id": "a838fb1714466380",
   "execution_count": 192
  },
  {
   "cell_type": "code",
   "outputs": [
    {
     "name": "stdout",
     "output_type": "stream",
     "text": [
      "<class 'pandas.core.frame.DataFrame'>\n",
      "RangeIndex: 105 entries, 0 to 104\n",
      "Data columns (total 2 columns):\n",
      " #   Column        Non-Null Count  Dtype \n",
      "---  ------        --------------  ----- \n",
      " 0   questiontext  105 non-null    object\n",
      " 1   questionid    105 non-null    int64 \n",
      "dtypes: int64(1), object(1)\n",
      "memory usage: 1.8+ KB\n"
     ]
    }
   ],
   "source": [
    "question_df.info()"
   ],
   "metadata": {
    "collapsed": false,
    "ExecuteTime": {
     "end_time": "2024-04-22T19:21:53.088360Z",
     "start_time": "2024-04-22T19:21:53.065976Z"
    }
   },
   "id": "c4783b5af5311bd5",
   "execution_count": 193
  },
  {
   "cell_type": "markdown",
   "source": [
    "There are 105 distinct questions. The dataset includes a primary key,\n",
    "questionID."
   ],
   "metadata": {
    "collapsed": false
   },
   "id": "8a041efd138ea6b"
  },
  {
   "cell_type": "markdown",
   "source": [
    "**Survey**"
   ],
   "metadata": {
    "collapsed": false
   },
   "id": "bf61458f4dc744e9"
  },
  {
   "cell_type": "code",
   "outputs": [
    {
     "data": {
      "text/plain": "   SurveyID                    Description\n0      2014  mental health survey for 2014\n1      2016  mental health survey for 2016\n2      2017  mental health survey for 2017\n3      2018  mental health survey for 2018\n4      2019  mental health survey for 2019",
      "text/html": "<div>\n<style scoped>\n    .dataframe tbody tr th:only-of-type {\n        vertical-align: middle;\n    }\n\n    .dataframe tbody tr th {\n        vertical-align: top;\n    }\n\n    .dataframe thead th {\n        text-align: right;\n    }\n</style>\n<table border=\"1\" class=\"dataframe\">\n  <thead>\n    <tr style=\"text-align: right;\">\n      <th></th>\n      <th>SurveyID</th>\n      <th>Description</th>\n    </tr>\n  </thead>\n  <tbody>\n    <tr>\n      <th>0</th>\n      <td>2014</td>\n      <td>mental health survey for 2014</td>\n    </tr>\n    <tr>\n      <th>1</th>\n      <td>2016</td>\n      <td>mental health survey for 2016</td>\n    </tr>\n    <tr>\n      <th>2</th>\n      <td>2017</td>\n      <td>mental health survey for 2017</td>\n    </tr>\n    <tr>\n      <th>3</th>\n      <td>2018</td>\n      <td>mental health survey for 2018</td>\n    </tr>\n    <tr>\n      <th>4</th>\n      <td>2019</td>\n      <td>mental health survey for 2019</td>\n    </tr>\n  </tbody>\n</table>\n</div>"
     },
     "execution_count": 194,
     "metadata": {},
     "output_type": "execute_result"
    }
   ],
   "source": [
    "survey_df = pd.read_sql('SELECT * FROM Survey', conn)\n",
    "survey_df"
   ],
   "metadata": {
    "collapsed": false,
    "ExecuteTime": {
     "end_time": "2024-04-22T19:21:53.133706Z",
     "start_time": "2024-04-22T19:21:53.097562Z"
    }
   },
   "id": "c58824fde465bf37",
   "execution_count": 194
  },
  {
   "cell_type": "code",
   "outputs": [
    {
     "name": "stdout",
     "output_type": "stream",
     "text": [
      "<class 'pandas.core.frame.DataFrame'>\n",
      "RangeIndex: 5 entries, 0 to 4\n",
      "Data columns (total 2 columns):\n",
      " #   Column       Non-Null Count  Dtype \n",
      "---  ------       --------------  ----- \n",
      " 0   SurveyID     5 non-null      int64 \n",
      " 1   Description  5 non-null      object\n",
      "dtypes: int64(1), object(1)\n",
      "memory usage: 212.0+ bytes\n"
     ]
    }
   ],
   "source": [
    "survey_df.info()"
   ],
   "metadata": {
    "collapsed": false,
    "ExecuteTime": {
     "end_time": "2024-04-22T19:21:53.182700Z",
     "start_time": "2024-04-22T19:21:53.143732Z"
    }
   },
   "id": "beab995b4addd58f",
   "execution_count": 195
  },
  {
   "cell_type": "markdown",
   "source": [
    "We have a missing year 2015. This dataset includes a primary key, SurveyID."
   ],
   "metadata": {
    "collapsed": false
   },
   "id": "9970959b1bbf5020"
  },
  {
   "cell_type": "markdown",
   "source": [
    "## 1.3 Initial Data Cleaning\n",
    "Objective: Check for missing values and duplicates "
   ],
   "metadata": {
    "collapsed": false
   },
   "id": "b7ae43fc340889bc"
  },
  {
   "cell_type": "code",
   "outputs": [],
   "source": [
    "datasets = [answer_df, question_df, survey_df]"
   ],
   "metadata": {
    "collapsed": false,
    "ExecuteTime": {
     "end_time": "2024-04-22T19:21:53.202846Z",
     "start_time": "2024-04-22T19:21:53.190737Z"
    }
   },
   "id": "fa5d487cfaa36cc1",
   "execution_count": 196
  },
  {
   "cell_type": "markdown",
   "source": [
    "1. Check for duplicates in each dataset."
   ],
   "metadata": {
    "collapsed": false
   },
   "id": "4cdd11aff6201c60"
  },
  {
   "cell_type": "code",
   "outputs": [
    {
     "name": "stdout",
     "output_type": "stream",
     "text": [
      "False\n",
      "False\n",
      "False\n"
     ]
    }
   ],
   "source": [
    "for dataset in datasets:\n",
    "    print(dataset.duplicated().any())"
   ],
   "metadata": {
    "collapsed": false,
    "ExecuteTime": {
     "end_time": "2024-04-22T19:21:53.387534Z",
     "start_time": "2024-04-22T19:21:53.206564Z"
    }
   },
   "id": "e4e6aae11267485e",
   "execution_count": 197
  },
  {
   "cell_type": "markdown",
   "source": [
    "2. Check for missing values in each dataset."
   ],
   "metadata": {
    "collapsed": false
   },
   "id": "abd31914a8408dae"
  },
  {
   "cell_type": "code",
   "outputs": [
    {
     "name": "stdout",
     "output_type": "stream",
     "text": [
      "False\n",
      "False\n",
      "False\n"
     ]
    }
   ],
   "source": [
    "for dataset in datasets:\n",
    "    print(dataset.isna().any().any())"
   ],
   "metadata": {
    "collapsed": false,
    "ExecuteTime": {
     "end_time": "2024-04-22T19:21:53.478410Z",
     "start_time": "2024-04-22T19:21:53.391238Z"
    }
   },
   "id": "7a352a362f29fd97",
   "execution_count": 198
  },
  {
   "cell_type": "markdown",
   "source": [
    "There is no missing values or duplicated rows in all 3 datasets."
   ],
   "metadata": {
    "collapsed": false
   },
   "id": "4db1ec8910dd9257"
  },
  {
   "cell_type": "markdown",
   "source": [
    "# 2. Dataset 'Answer'\n",
    "## 2.1 Overview of the Surveys Over the Years\n",
    "\n",
    "Objective: \n",
    "1. Have a better understanding of how the surveys were constructed over the \n",
    "years. \n",
    "2. Due to the large size of our dataset, select questions to be further \n",
    "analyzed."
   ],
   "metadata": {
    "collapsed": false
   },
   "id": "aa0065a69a708953"
  },
  {
   "cell_type": "markdown",
   "source": [
    "1. How many total replies have there been over time?"
   ],
   "metadata": {
    "collapsed": false
   },
   "id": "7e182e0db4d14a0b"
  },
  {
   "cell_type": "code",
   "outputs": [
    {
     "data": {
      "text/plain": "   SurveyID  TotalAnswers\n0      2014         32760\n1      2016         88238\n2      2017         57456\n3      2018         31692\n4      2019         26752",
      "text/html": "<div>\n<style scoped>\n    .dataframe tbody tr th:only-of-type {\n        vertical-align: middle;\n    }\n\n    .dataframe tbody tr th {\n        vertical-align: top;\n    }\n\n    .dataframe thead th {\n        text-align: right;\n    }\n</style>\n<table border=\"1\" class=\"dataframe\">\n  <thead>\n    <tr style=\"text-align: right;\">\n      <th></th>\n      <th>SurveyID</th>\n      <th>TotalAnswers</th>\n    </tr>\n  </thead>\n  <tbody>\n    <tr>\n      <th>0</th>\n      <td>2014</td>\n      <td>32760</td>\n    </tr>\n    <tr>\n      <th>1</th>\n      <td>2016</td>\n      <td>88238</td>\n    </tr>\n    <tr>\n      <th>2</th>\n      <td>2017</td>\n      <td>57456</td>\n    </tr>\n    <tr>\n      <th>3</th>\n      <td>2018</td>\n      <td>31692</td>\n    </tr>\n    <tr>\n      <th>4</th>\n      <td>2019</td>\n      <td>26752</td>\n    </tr>\n  </tbody>\n</table>\n</div>"
     },
     "execution_count": 199,
     "metadata": {},
     "output_type": "execute_result"
    }
   ],
   "source": [
    "query = '''SELECT SurveyID, COUNT(1) AS TotalAnswers\n",
    " FROM Answer \n",
    " GROUP BY SurveyID;\n",
    " ''' \n",
    "\n",
    "answers_over_time = pd.read_sql_query(query, conn)\n",
    "answers_over_time"
   ],
   "metadata": {
    "collapsed": false,
    "ExecuteTime": {
     "end_time": "2024-04-22T19:21:53.990822Z",
     "start_time": "2024-04-22T19:21:53.490349Z"
    }
   },
   "id": "bdb827cc1044dfd0",
   "execution_count": 199
  },
  {
   "cell_type": "code",
   "outputs": [
    {
     "data": {
      "text/plain": "<Axes: xlabel='SurveyID', ylabel='TotalAnswers'>"
     },
     "execution_count": 200,
     "metadata": {},
     "output_type": "execute_result"
    },
    {
     "data": {
      "text/plain": "<Figure size 500x400 with 1 Axes>",
      "image/png": "[encoded data removed]"
     },
     "metadata": {},
     "output_type": "display_data"
    }
   ],
   "source": [
    "plt.figure(figsize=(5, 4))\n",
    "sns.set_style(style='whitegrid')\n",
    "sns.barplot(data=answers_over_time, x='SurveyID', y='TotalAnswers')"
   ],
   "metadata": {
    "collapsed": false,
    "ExecuteTime": {
     "end_time": "2024-04-22T19:21:55.323099Z",
     "start_time": "2024-04-22T19:21:53.996184Z"
    }
   },
   "id": "c804ff8f6c53ef2c",
   "execution_count": 200
  },
  {
   "cell_type": "markdown",
   "source": [
    "The number of replies started at 32760 in 2014, then at 2016, it reached its\n",
    " highest at 88238. The replies since then, have decreased reaching its \n",
    " lowest in 2019. \n",
    " Let's investigate what is happening with the number of replies. Is it the \n",
    " number of users going  down? Is it the number of questions per survey going \n",
    " down?"
   ],
   "metadata": {
    "collapsed": false
   },
   "id": "1625d40218e6aecf"
  },
  {
   "cell_type": "markdown",
   "source": [
    "2. How many users have replied for each survey? "
   ],
   "metadata": {
    "collapsed": false
   },
   "id": "ee4f8a9620575db1"
  },
  {
   "cell_type": "code",
   "outputs": [
    {
     "data": {
      "text/plain": "   SurveyID  TotalUsers\n0      2014        1260\n1      2016        1433\n2      2017         756\n3      2018         417\n4      2019         352",
      "text/html": "<div>\n<style scoped>\n    .dataframe tbody tr th:only-of-type {\n        vertical-align: middle;\n    }\n\n    .dataframe tbody tr th {\n        vertical-align: top;\n    }\n\n    .dataframe thead th {\n        text-align: right;\n    }\n</style>\n<table border=\"1\" class=\"dataframe\">\n  <thead>\n    <tr style=\"text-align: right;\">\n      <th></th>\n      <th>SurveyID</th>\n      <th>TotalUsers</th>\n    </tr>\n  </thead>\n  <tbody>\n    <tr>\n      <th>0</th>\n      <td>2014</td>\n      <td>1260</td>\n    </tr>\n    <tr>\n      <th>1</th>\n      <td>2016</td>\n      <td>1433</td>\n    </tr>\n    <tr>\n      <th>2</th>\n      <td>2017</td>\n      <td>756</td>\n    </tr>\n    <tr>\n      <th>3</th>\n      <td>2018</td>\n      <td>417</td>\n    </tr>\n    <tr>\n      <th>4</th>\n      <td>2019</td>\n      <td>352</td>\n    </tr>\n  </tbody>\n</table>\n</div>"
     },
     "execution_count": 201,
     "metadata": {},
     "output_type": "execute_result"
    }
   ],
   "source": [
    "query = '''SELECT SurveyID, COUNT(DISTINCT UserID) AS TotalUsers\n",
    " FROM Answer \n",
    " GROUP BY SurveyID;\n",
    " ''' \n",
    "\n",
    "users_over_time = pd.read_sql_query(query, conn)\n",
    "users_over_time"
   ],
   "metadata": {
    "collapsed": false,
    "ExecuteTime": {
     "end_time": "2024-04-22T19:21:56.153532Z",
     "start_time": "2024-04-22T19:21:55.337578Z"
    }
   },
   "id": "5bbbbaa85126ac0d",
   "execution_count": 201
  },
  {
   "cell_type": "code",
   "outputs": [
    {
     "data": {
      "text/plain": "<Axes: xlabel='SurveyID', ylabel='TotalUsers'>"
     },
     "execution_count": 202,
     "metadata": {},
     "output_type": "execute_result"
    },
    {
     "data": {
      "text/plain": "<Figure size 500x400 with 1 Axes>",
      "image/png": "[encoded data removed]"
     },
     "metadata": {},
     "output_type": "display_data"
    }
   ],
   "source": [
    "plt.figure(figsize=(5, 4))\n",
    "sns.set_style(style='whitegrid')\n",
    "sns.barplot(data=users_over_time, x='SurveyID', y='TotalUsers')"
   ],
   "metadata": {
    "collapsed": false,
    "ExecuteTime": {
     "end_time": "2024-04-22T19:21:57.400435Z",
     "start_time": "2024-04-22T19:21:56.163150Z"
    }
   },
   "id": "7d416df4a5ae78a6",
   "execution_count": 202
  },
  {
   "cell_type": "markdown",
   "source": [
    "The number of users (people that replied to the survey) are highest in 2016,\n",
    " 1433 users, and interestingly the second highest in 2014, with 2019 being the \n",
    " lowest with 352 users. \n",
    " The evolution of the number of users and number of replies is more consistent \n",
    " between 2016-2019. 2014 is an outlier."
   ],
   "metadata": {
    "collapsed": false
   },
   "id": "dd5c715c9bccc8d5"
  },
  {
   "cell_type": "markdown",
   "source": [
    "3. Did all the surveys have the same questions? And how many replies did \n",
    "each get?"
   ],
   "metadata": {
    "collapsed": false
   },
   "id": "97385fb633b20b20"
  },
  {
   "cell_type": "code",
   "outputs": [
    {
     "data": {
      "text/plain": "     SurveyID  QuestionID  TotalReplies\n0        2014           1          1260\n1        2014           2          1260\n2        2014           3          1260\n3        2014           4          1260\n4        2014           5          1260\n..        ...         ...           ...\n309      2019          85           352\n310      2019          86           352\n311      2019          87           352\n312      2019          88           352\n313      2019          89           352\n\n[314 rows x 3 columns]",
      "text/html": "<div>\n<style scoped>\n    .dataframe tbody tr th:only-of-type {\n        vertical-align: middle;\n    }\n\n    .dataframe tbody tr th {\n        vertical-align: top;\n    }\n\n    .dataframe thead th {\n        text-align: right;\n    }\n</style>\n<table border=\"1\" class=\"dataframe\">\n  <thead>\n    <tr style=\"text-align: right;\">\n      <th></th>\n      <th>SurveyID</th>\n      <th>QuestionID</th>\n      <th>TotalReplies</th>\n    </tr>\n  </thead>\n  <tbody>\n    <tr>\n      <th>0</th>\n      <td>2014</td>\n      <td>1</td>\n      <td>1260</td>\n    </tr>\n    <tr>\n      <th>1</th>\n      <td>2014</td>\n      <td>2</td>\n      <td>1260</td>\n    </tr>\n    <tr>\n      <th>2</th>\n      <td>2014</td>\n      <td>3</td>\n      <td>1260</td>\n    </tr>\n    <tr>\n      <th>3</th>\n      <td>2014</td>\n      <td>4</td>\n      <td>1260</td>\n    </tr>\n    <tr>\n      <th>4</th>\n      <td>2014</td>\n      <td>5</td>\n      <td>1260</td>\n    </tr>\n    <tr>\n      <th>...</th>\n      <td>...</td>\n      <td>...</td>\n      <td>...</td>\n    </tr>\n    <tr>\n      <th>309</th>\n      <td>2019</td>\n      <td>85</td>\n      <td>352</td>\n    </tr>\n    <tr>\n      <th>310</th>\n      <td>2019</td>\n      <td>86</td>\n      <td>352</td>\n    </tr>\n    <tr>\n      <th>311</th>\n      <td>2019</td>\n      <td>87</td>\n      <td>352</td>\n    </tr>\n    <tr>\n      <th>312</th>\n      <td>2019</td>\n      <td>88</td>\n      <td>352</td>\n    </tr>\n    <tr>\n      <th>313</th>\n      <td>2019</td>\n      <td>89</td>\n      <td>352</td>\n    </tr>\n  </tbody>\n</table>\n<p>314 rows × 3 columns</p>\n</div>"
     },
     "execution_count": 203,
     "metadata": {},
     "output_type": "execute_result"
    }
   ],
   "source": [
    "query = '''SELECT SurveyID, QuestionID, COUNT(1) AS TotalReplies\n",
    "FROM Answer\n",
    "GROUP BY SurveyID, QuestionID;\n",
    "'''\n",
    "\n",
    "questions_for_each_survey = pd.read_sql_query(query, conn)\n",
    "questions_for_each_survey"
   ],
   "metadata": {
    "collapsed": false,
    "ExecuteTime": {
     "end_time": "2024-04-22T19:21:58.001232Z",
     "start_time": "2024-04-22T19:21:57.404683Z"
    }
   },
   "id": "1fb8da0030d589a9",
   "execution_count": 203
  },
  {
   "cell_type": "markdown",
   "source": [
    "The Surveys do not all have the same questions, although some are in common."
   ],
   "metadata": {
    "collapsed": false
   },
   "id": "6b02a6645b3adfa0"
  },
  {
   "cell_type": "markdown",
   "source": [
    "4. Check if all questions had the same amount of replies as the number of \n",
    "users."
   ],
   "metadata": {
    "collapsed": false
   },
   "id": "38f0716804d2c9d6"
  },
  {
   "cell_type": "code",
   "outputs": [
    {
     "data": {
      "text/plain": "    SurveyID  QuestionID  TotalReplies  TotalUsers\n82      2016         115          2072        1433\n83      2016         116          1793        1433\n84      2016         117          2692        1433",
      "text/html": "<div>\n<style scoped>\n    .dataframe tbody tr th:only-of-type {\n        vertical-align: middle;\n    }\n\n    .dataframe tbody tr th {\n        vertical-align: top;\n    }\n\n    .dataframe thead th {\n        text-align: right;\n    }\n</style>\n<table border=\"1\" class=\"dataframe\">\n  <thead>\n    <tr style=\"text-align: right;\">\n      <th></th>\n      <th>SurveyID</th>\n      <th>QuestionID</th>\n      <th>TotalReplies</th>\n      <th>TotalUsers</th>\n    </tr>\n  </thead>\n  <tbody>\n    <tr>\n      <th>82</th>\n      <td>2016</td>\n      <td>115</td>\n      <td>2072</td>\n      <td>1433</td>\n    </tr>\n    <tr>\n      <th>83</th>\n      <td>2016</td>\n      <td>116</td>\n      <td>1793</td>\n      <td>1433</td>\n    </tr>\n    <tr>\n      <th>84</th>\n      <td>2016</td>\n      <td>117</td>\n      <td>2692</td>\n      <td>1433</td>\n    </tr>\n  </tbody>\n</table>\n</div>"
     },
     "execution_count": 204,
     "metadata": {},
     "output_type": "execute_result"
    }
   ],
   "source": [
    "merged_df = questions_for_each_survey.merge(users_over_time, on='SurveyID')\n",
    "odd_number_of_replies = merged_df[merged_df.TotalUsers != merged_df\n",
    ".TotalReplies]\n",
    "odd_number_of_replies"
   ],
   "metadata": {
    "collapsed": false,
    "ExecuteTime": {
     "end_time": "2024-04-22T19:21:58.043263Z",
     "start_time": "2024-04-22T19:21:58.005649Z"
    }
   },
   "id": "b36babc0126aa971",
   "execution_count": 204
  },
  {
   "cell_type": "code",
   "outputs": [
    {
     "data": {
      "text/plain": "                                             AnswerText  SurveyID  UserID  \\\n0                                                    -1      2016    1261   \n1     Anxiety Disorder (Generalized, Social, Phobia,...      2016    1262   \n2     Mood Disorder (Depression, Bipolar Disorder, etc)      2016    1262   \n3                                                    -1      2016    1263   \n4     Anxiety Disorder (Generalized, Social, Phobia,...      2016    1264   \n...                                                 ...       ...     ...   \n6552                                              Other      2016    2689   \n6553                                            Support      2016    2690   \n6554                                 Back-end Developer      2016    2691   \n6555                                    DevOps/SysAdmin      2016    2692   \n6556                                              Other      2016    2693   \n\n      QuestionID  \n0            115  \n1            115  \n2            115  \n3            115  \n4            115  \n...          ...  \n6552         117  \n6553         117  \n6554         117  \n6555         117  \n6556         117  \n\n[6557 rows x 4 columns]",
      "text/html": "<div>\n<style scoped>\n    .dataframe tbody tr th:only-of-type {\n        vertical-align: middle;\n    }\n\n    .dataframe tbody tr th {\n        vertical-align: top;\n    }\n\n    .dataframe thead th {\n        text-align: right;\n    }\n</style>\n<table border=\"1\" class=\"dataframe\">\n  <thead>\n    <tr style=\"text-align: right;\">\n      <th></th>\n      <th>AnswerText</th>\n      <th>SurveyID</th>\n      <th>UserID</th>\n      <th>QuestionID</th>\n    </tr>\n  </thead>\n  <tbody>\n    <tr>\n      <th>0</th>\n      <td>-1</td>\n      <td>2016</td>\n      <td>1261</td>\n      <td>115</td>\n    </tr>\n    <tr>\n      <th>1</th>\n      <td>Anxiety Disorder (Generalized, Social, Phobia,...</td>\n      <td>2016</td>\n      <td>1262</td>\n      <td>115</td>\n    </tr>\n    <tr>\n      <th>2</th>\n      <td>Mood Disorder (Depression, Bipolar Disorder, etc)</td>\n      <td>2016</td>\n      <td>1262</td>\n      <td>115</td>\n    </tr>\n    <tr>\n      <th>3</th>\n      <td>-1</td>\n      <td>2016</td>\n      <td>1263</td>\n      <td>115</td>\n    </tr>\n    <tr>\n      <th>4</th>\n      <td>Anxiety Disorder (Generalized, Social, Phobia,...</td>\n      <td>2016</td>\n      <td>1264</td>\n      <td>115</td>\n    </tr>\n    <tr>\n      <th>...</th>\n      <td>...</td>\n      <td>...</td>\n      <td>...</td>\n      <td>...</td>\n    </tr>\n    <tr>\n      <th>6552</th>\n      <td>Other</td>\n      <td>2016</td>\n      <td>2689</td>\n      <td>117</td>\n    </tr>\n    <tr>\n      <th>6553</th>\n      <td>Support</td>\n      <td>2016</td>\n      <td>2690</td>\n      <td>117</td>\n    </tr>\n    <tr>\n      <th>6554</th>\n      <td>Back-end Developer</td>\n      <td>2016</td>\n      <td>2691</td>\n      <td>117</td>\n    </tr>\n    <tr>\n      <th>6555</th>\n      <td>DevOps/SysAdmin</td>\n      <td>2016</td>\n      <td>2692</td>\n      <td>117</td>\n    </tr>\n    <tr>\n      <th>6556</th>\n      <td>Other</td>\n      <td>2016</td>\n      <td>2693</td>\n      <td>117</td>\n    </tr>\n  </tbody>\n</table>\n<p>6557 rows × 4 columns</p>\n</div>"
     },
     "execution_count": 205,
     "metadata": {},
     "output_type": "execute_result"
    }
   ],
   "source": [
    "query = '''SELECT *\n",
    "FROM Answer\n",
    "WHERE SurveyID=2016 AND QuestionID BETWEEN 115 AND 117;\n",
    "'''\n",
    "\n",
    "pd.read_sql_query(query, conn)"
   ],
   "metadata": {
    "collapsed": false,
    "ExecuteTime": {
     "end_time": "2024-04-22T19:21:58.235715Z",
     "start_time": "2024-04-22T19:21:58.052782Z"
    }
   },
   "id": "5c15d78e221b446",
   "execution_count": 205
  },
  {
   "cell_type": "markdown",
   "source": [
    "In the questions 115-117 from year 2016, several users answered more than \n",
    "one times."
   ],
   "metadata": {
    "collapsed": false
   },
   "id": "1371debfca81d4d8"
  },
  {
   "cell_type": "markdown",
   "source": [
    "5. How many questions did each survey have?"
   ],
   "metadata": {
    "collapsed": false
   },
   "id": "4b4e776c332a7240"
  },
  {
   "cell_type": "code",
   "outputs": [
    {
     "data": {
      "text/plain": "   SurveyID  count\n0      2014     26\n1      2016     60\n2      2017     76\n3      2018     76\n4      2019     76",
      "text/html": "<div>\n<style scoped>\n    .dataframe tbody tr th:only-of-type {\n        vertical-align: middle;\n    }\n\n    .dataframe tbody tr th {\n        vertical-align: top;\n    }\n\n    .dataframe thead th {\n        text-align: right;\n    }\n</style>\n<table border=\"1\" class=\"dataframe\">\n  <thead>\n    <tr style=\"text-align: right;\">\n      <th></th>\n      <th>SurveyID</th>\n      <th>count</th>\n    </tr>\n  </thead>\n  <tbody>\n    <tr>\n      <th>0</th>\n      <td>2014</td>\n      <td>26</td>\n    </tr>\n    <tr>\n      <th>1</th>\n      <td>2016</td>\n      <td>60</td>\n    </tr>\n    <tr>\n      <th>2</th>\n      <td>2017</td>\n      <td>76</td>\n    </tr>\n    <tr>\n      <th>3</th>\n      <td>2018</td>\n      <td>76</td>\n    </tr>\n    <tr>\n      <th>4</th>\n      <td>2019</td>\n      <td>76</td>\n    </tr>\n  </tbody>\n</table>\n</div>"
     },
     "execution_count": 206,
     "metadata": {},
     "output_type": "execute_result"
    }
   ],
   "source": [
    "questions_per_survey = questions_for_each_survey.groupby(by='SurveyID').size()\n",
    "questions_per_survey = questions_per_survey.reset_index()\n",
    "questions_per_survey.columns = ['SurveyID', 'count']\n",
    "questions_per_survey"
   ],
   "metadata": {
    "collapsed": false,
    "ExecuteTime": {
     "end_time": "2024-04-22T19:21:58.269320Z",
     "start_time": "2024-04-22T19:21:58.239763Z"
    }
   },
   "id": "9991a7fc3abaeab4",
   "execution_count": 206
  },
  {
   "cell_type": "code",
   "outputs": [
    {
     "data": {
      "text/plain": "<Axes: xlabel='SurveyID', ylabel='count'>"
     },
     "execution_count": 207,
     "metadata": {},
     "output_type": "execute_result"
    },
    {
     "data": {
      "text/plain": "<Figure size 500x400 with 1 Axes>",
      "image/png": "[encoded data removed]"
     },
     "metadata": {},
     "output_type": "display_data"
    }
   ],
   "source": [
    "plt.figure(figsize=(5, 4))\n",
    "sns.set_style(style='whitegrid')\n",
    "sns.barplot(data=questions_per_survey, x='SurveyID', y='count')"
   ],
   "metadata": {
    "collapsed": false,
    "ExecuteTime": {
     "end_time": "2024-04-22T19:21:59.170487Z",
     "start_time": "2024-04-22T19:21:58.273984Z"
    }
   },
   "id": "5a116e8c2cec0d17",
   "execution_count": 207
  },
  {
   "cell_type": "markdown",
   "source": [
    "2014 and 2016 both have less questions than the rest. \n",
    "Even though, 2014 had many users, it only had around 34% of number of questions \n",
    "compared to the surveys 2017-2019, which significantly decreased the amount of\n",
    "replies it was getting."
   ],
   "metadata": {
    "collapsed": false
   },
   "id": "73fd0d960d64960c"
  },
  {
   "cell_type": "markdown",
   "source": [
    "6. Which questions were repeated in the surveys throughout the years ?"
   ],
   "metadata": {
    "collapsed": false
   },
   "id": "1c6d86af93af699"
  },
  {
   "cell_type": "code",
   "outputs": [
    {
     "data": {
      "text/plain": "     QuestionID  RepeatedQuestions\n0             1                  5\n1             2                  5\n2             3                  5\n3             4                  5\n4             5                  5\n..          ...                ...\n100         114                  1\n101         115                  1\n102         116                  1\n103         117                  1\n104         118                  1\n\n[105 rows x 2 columns]",
      "text/html": "<div>\n<style scoped>\n    .dataframe tbody tr th:only-of-type {\n        vertical-align: middle;\n    }\n\n    .dataframe tbody tr th {\n        vertical-align: top;\n    }\n\n    .dataframe thead th {\n        text-align: right;\n    }\n</style>\n<table border=\"1\" class=\"dataframe\">\n  <thead>\n    <tr style=\"text-align: right;\">\n      <th></th>\n      <th>QuestionID</th>\n      <th>RepeatedQuestions</th>\n    </tr>\n  </thead>\n  <tbody>\n    <tr>\n      <th>0</th>\n      <td>1</td>\n      <td>5</td>\n    </tr>\n    <tr>\n      <th>1</th>\n      <td>2</td>\n      <td>5</td>\n    </tr>\n    <tr>\n      <th>2</th>\n      <td>3</td>\n      <td>5</td>\n    </tr>\n    <tr>\n      <th>3</th>\n      <td>4</td>\n      <td>5</td>\n    </tr>\n    <tr>\n      <th>4</th>\n      <td>5</td>\n      <td>5</td>\n    </tr>\n    <tr>\n      <th>...</th>\n      <td>...</td>\n      <td>...</td>\n    </tr>\n    <tr>\n      <th>100</th>\n      <td>114</td>\n      <td>1</td>\n    </tr>\n    <tr>\n      <th>101</th>\n      <td>115</td>\n      <td>1</td>\n    </tr>\n    <tr>\n      <th>102</th>\n      <td>116</td>\n      <td>1</td>\n    </tr>\n    <tr>\n      <th>103</th>\n      <td>117</td>\n      <td>1</td>\n    </tr>\n    <tr>\n      <th>104</th>\n      <td>118</td>\n      <td>1</td>\n    </tr>\n  </tbody>\n</table>\n<p>105 rows × 2 columns</p>\n</div>"
     },
     "execution_count": 208,
     "metadata": {},
     "output_type": "execute_result"
    }
   ],
   "source": [
    "query = '''SELECT QuestionID, COUNT(DISTINCT SurveyID) AS \n",
    "RepeatedQuestions\n",
    "FROM Answer\n",
    "GROUP BY QuestionID;\n",
    "'''\n",
    "\n",
    "repeated_questions = pd.read_sql_query(query, conn)\n",
    "repeated_questions"
   ],
   "metadata": {
    "collapsed": false,
    "ExecuteTime": {
     "end_time": "2024-04-22T19:21:59.627335Z",
     "start_time": "2024-04-22T19:21:59.175978Z"
    }
   },
   "id": "4c1468943d00b772",
   "execution_count": 208
  },
  {
   "cell_type": "markdown",
   "source": [
    "7. Are there any users who replied to several surveys ?"
   ],
   "metadata": {
    "collapsed": false
   },
   "id": "d847cdd3c11d2aa8"
  },
  {
   "cell_type": "code",
   "outputs": [
    {
     "data": {
      "text/plain": "Empty DataFrame\nColumns: [UserID, NumberOfSurveys]\nIndex: []",
      "text/html": "<div>\n<style scoped>\n    .dataframe tbody tr th:only-of-type {\n        vertical-align: middle;\n    }\n\n    .dataframe tbody tr th {\n        vertical-align: top;\n    }\n\n    .dataframe thead th {\n        text-align: right;\n    }\n</style>\n<table border=\"1\" class=\"dataframe\">\n  <thead>\n    <tr style=\"text-align: right;\">\n      <th></th>\n      <th>UserID</th>\n      <th>NumberOfSurveys</th>\n    </tr>\n  </thead>\n  <tbody>\n  </tbody>\n</table>\n</div>"
     },
     "execution_count": 213,
     "metadata": {},
     "output_type": "execute_result"
    }
   ],
   "source": [
    "query = '''SELECT UserID, COUNT(DISTINCT SurveyID) AS NumberOfSurveys\n",
    "FROM Answer\n",
    "GROUP BY UserID\n",
    "HAVING NumberOfSurveys>1;\n",
    "'''\n",
    "\n",
    "pd.read_sql_query(query, conn)"
   ],
   "metadata": {
    "collapsed": false,
    "ExecuteTime": {
     "end_time": "2024-04-22T19:38:15.759423Z",
     "start_time": "2024-04-22T19:38:15.294222Z"
    }
   },
   "id": "773b3d8a7b1d1558",
   "execution_count": 213
  },
  {
   "cell_type": "markdown",
   "source": [
    "No, all users only appear in one survey."
   ],
   "metadata": {
    "collapsed": false
   },
   "id": "a1e1fdddb5fff595"
  },
  {
   "cell_type": "markdown",
   "source": [
    "### 2.1.1 Insights\n",
    "The surveys are not the same over the years and the sampling population is \n",
    "also not the same. \n",
    "To analyze the survey replies changes throughout the years, restricting our \n",
    "analysis to questions that were repeatedly asked will help its accuracy."
   ],
   "metadata": {
    "collapsed": false
   },
   "id": "d595753a4a6d9e94"
  },
  {
   "cell_type": "code",
   "outputs": [],
   "source": [],
   "metadata": {
    "collapsed": false,
    "ExecuteTime": {
     "end_time": "2024-04-22T19:21:59.642661Z",
     "start_time": "2024-04-22T19:21:59.634673Z"
    }
   },
   "id": "45203c4d731a463a",
   "execution_count": 208
  }
 ],
 "metadata": {
  "kernelspec": {
   "display_name": "Python 3",
   "language": "python",
   "name": "python3"
  },
  "language_info": {
   "codemirror_mode": {
    "name": "ipython",
    "version": 2
   },
   "file_extension": ".py",
   "mimetype": "text/x-python",
   "name": "python",
   "nbconvert_exporter": "python",
   "pygments_lexer": "ipython2",
   "version": "2.7.6"
  }
 },
 "nbformat": 4,
 "nbformat_minor": 5
}
