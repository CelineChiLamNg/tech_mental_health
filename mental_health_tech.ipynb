{
 "cells": [
  {
   "cell_type": "markdown",
   "source": [
    "# Mental Health in Tech Industry Analysis 2014-2019\n",
    "### *author: Celine Ng*\n",
    "### *April 2024*"
   ],
   "metadata": {
    "collapsed": false
   },
   "id": "69181126df6336d4"
  },
  {
   "cell_type": "markdown",
   "source": [
    "# Table of Contents \n",
    "1. Notebook Preparation\n",
    "    1.1 Libraries Installation\n",
    "    1.2 Data Retrieval\n",
    "    1.3 Initial Data Cleaning\n",
    "2. Dataset 'Answer'\n",
    "    2.1 Overview of the Surveys Over the Years\n",
    "        2.1.1 Insights\n",
    "    2.2 Survey Questions\n",
    "        2.2.1 Insights\n",
    "3. Questions Available In All Surveys\n",
    "    3.1 Prepare Datasets\n",
    "        3.1.1 QuestionID 1\n",
    "        3.1.2 QuestionID 2\n",
    "        3.1.3 QuestionID 3\n",
    "        3.1.4 QuestionID 4\n",
    "        3.1.5 QuestionID 5\n",
    "        3.1.6 QuestionID 6\n",
    "        3.1.7 QuestionID 7\n",
    "        3.1.8 QuestionID 8\n",
    "        3.1.9 QuestionID 9\n",
    "        3.1.10 QuestionID 10\n",
    "        3.1.11 QuestionID 11\n",
    "        3.1.12 QuestionID 12\n",
    "    3.2 Available Data\n",
    "        3.2.1 Insights"
   ],
   "metadata": {
    "collapsed": false
   },
   "id": "681b1ea051fad5c1"
  },
  {
   "cell_type": "markdown",
   "source": [
    "# 1. Notebook preparation\n",
    "## 1.1 Libraries Installation"
   ],
   "metadata": {
    "collapsed": false
   },
   "id": "2cc065289896539a"
  },
  {
   "cell_type": "code",
   "outputs": [
    {
     "name": "stdout",
     "output_type": "stream",
     "text": [
      "Requirement already satisfied: pandas in c:\\users\\acer\\appdata\\local\\programs\\python\\python312\\lib\\site-packages (2.2.2)\n",
      "Requirement already satisfied: numpy>=1.26.0 in c:\\users\\acer\\appdata\\local\\programs\\python\\python312\\lib\\site-packages (from pandas) (1.26.4)\n",
      "Requirement already satisfied: python-dateutil>=2.8.2 in c:\\users\\acer\\appdata\\local\\programs\\python\\python312\\lib\\site-packages (from pandas) (2.9.0.post0)\n",
      "Requirement already satisfied: pytz>=2020.1 in c:\\users\\acer\\appdata\\local\\programs\\python\\python312\\lib\\site-packages (from pandas) (2024.1)\n",
      "Requirement already satisfied: tzdata>=2022.7 in c:\\users\\acer\\appdata\\local\\programs\\python\\python312\\lib\\site-packages (from pandas) (2024.1)\n",
      "Requirement already satisfied: six>=1.5 in c:\\users\\acer\\appdata\\local\\programs\\python\\python312\\lib\\site-packages (from python-dateutil>=2.8.2->pandas) (1.16.0)\n",
      "Requirement already satisfied: matplotlib in c:\\users\\acer\\appdata\\local\\programs\\python\\python312\\lib\\site-packages (3.8.4)\n",
      "Requirement already satisfied: contourpy>=1.0.1 in c:\\users\\acer\\appdata\\local\\programs\\python\\python312\\lib\\site-packages (from matplotlib) (1.2.1)\n",
      "Requirement already satisfied: cycler>=0.10 in c:\\users\\acer\\appdata\\local\\programs\\python\\python312\\lib\\site-packages (from matplotlib) (0.12.1)\n",
      "Requirement already satisfied: fonttools>=4.22.0 in c:\\users\\acer\\appdata\\local\\programs\\python\\python312\\lib\\site-packages (from matplotlib) (4.51.0)\n",
      "Requirement already satisfied: kiwisolver>=1.3.1 in c:\\users\\acer\\appdata\\local\\programs\\python\\python312\\lib\\site-packages (from matplotlib) (1.4.5)\n",
      "Requirement already satisfied: numpy>=1.21 in c:\\users\\acer\\appdata\\local\\programs\\python\\python312\\lib\\site-packages (from matplotlib) (1.26.4)\n",
      "Requirement already satisfied: packaging>=20.0 in c:\\users\\acer\\appdata\\local\\programs\\python\\python312\\lib\\site-packages (from matplotlib) (24.0)\n",
      "Requirement already satisfied: pillow>=8 in c:\\users\\acer\\appdata\\local\\programs\\python\\python312\\lib\\site-packages (from matplotlib) (10.3.0)\n",
      "Requirement already satisfied: pyparsing>=2.3.1 in c:\\users\\acer\\appdata\\local\\programs\\python\\python312\\lib\\site-packages (from matplotlib) (3.1.2)\n",
      "Requirement already satisfied: python-dateutil>=2.7 in c:\\users\\acer\\appdata\\local\\programs\\python\\python312\\lib\\site-packages (from matplotlib) (2.9.0.post0)\n",
      "Requirement already satisfied: six>=1.5 in c:\\users\\acer\\appdata\\local\\programs\\python\\python312\\lib\\site-packages (from python-dateutil>=2.7->matplotlib) (1.16.0)\n",
      "Requirement already satisfied: seaborn in c:\\users\\acer\\appdata\\local\\programs\\python\\python312\\lib\\site-packages (0.13.2)\n",
      "Requirement already satisfied: numpy!=1.24.0,>=1.20 in c:\\users\\acer\\appdata\\local\\programs\\python\\python312\\lib\\site-packages (from seaborn) (1.26.4)\n",
      "Requirement already satisfied: pandas>=1.2 in c:\\users\\acer\\appdata\\local\\programs\\python\\python312\\lib\\site-packages (from seaborn) (2.2.2)\n",
      "Requirement already satisfied: matplotlib!=3.6.1,>=3.4 in c:\\users\\acer\\appdata\\local\\programs\\python\\python312\\lib\\site-packages (from seaborn) (3.8.4)\n",
      "Requirement already satisfied: contourpy>=1.0.1 in c:\\users\\acer\\appdata\\local\\programs\\python\\python312\\lib\\site-packages (from matplotlib!=3.6.1,>=3.4->seaborn) (1.2.1)\n",
      "Requirement already satisfied: cycler>=0.10 in c:\\users\\acer\\appdata\\local\\programs\\python\\python312\\lib\\site-packages (from matplotlib!=3.6.1,>=3.4->seaborn) (0.12.1)\n",
      "Requirement already satisfied: fonttools>=4.22.0 in c:\\users\\acer\\appdata\\local\\programs\\python\\python312\\lib\\site-packages (from matplotlib!=3.6.1,>=3.4->seaborn) (4.51.0)\n",
      "Requirement already satisfied: kiwisolver>=1.3.1 in c:\\users\\acer\\appdata\\local\\programs\\python\\python312\\lib\\site-packages (from matplotlib!=3.6.1,>=3.4->seaborn) (1.4.5)\n",
      "Requirement already satisfied: packaging>=20.0 in c:\\users\\acer\\appdata\\local\\programs\\python\\python312\\lib\\site-packages (from matplotlib!=3.6.1,>=3.4->seaborn) (24.0)\n",
      "Requirement already satisfied: pillow>=8 in c:\\users\\acer\\appdata\\local\\programs\\python\\python312\\lib\\site-packages (from matplotlib!=3.6.1,>=3.4->seaborn) (10.3.0)\n",
      "Requirement already satisfied: pyparsing>=2.3.1 in c:\\users\\acer\\appdata\\local\\programs\\python\\python312\\lib\\site-packages (from matplotlib!=3.6.1,>=3.4->seaborn) (3.1.2)\n",
      "Requirement already satisfied: python-dateutil>=2.7 in c:\\users\\acer\\appdata\\local\\programs\\python\\python312\\lib\\site-packages (from matplotlib!=3.6.1,>=3.4->seaborn) (2.9.0.post0)\n",
      "Requirement already satisfied: pytz>=2020.1 in c:\\users\\acer\\appdata\\local\\programs\\python\\python312\\lib\\site-packages (from pandas>=1.2->seaborn) (2024.1)\n",
      "Requirement already satisfied: tzdata>=2022.7 in c:\\users\\acer\\appdata\\local\\programs\\python\\python312\\lib\\site-packages (from pandas>=1.2->seaborn) (2024.1)\n",
      "Requirement already satisfied: six>=1.5 in c:\\users\\acer\\appdata\\local\\programs\\python\\python312\\lib\\site-packages (from python-dateutil>=2.7->matplotlib!=3.6.1,>=3.4->seaborn) (1.16.0)\n"
     ]
    }
   ],
   "source": [
    "!pip install pandas\n",
    "!pip install matplotlib\n",
    "!pip install seaborn"
   ],
   "metadata": {
    "collapsed": false,
    "ExecuteTime": {
     "end_time": "2024-04-26T13:34:31.201029Z",
     "start_time": "2024-04-26T13:34:03.311963Z"
    }
   },
   "id": "fa4007094670e04e",
   "execution_count": 83
  },
  {
   "cell_type": "code",
   "outputs": [],
   "source": [
    "import pandas as pd\n",
    "import matplotlib.pyplot as plt\n",
    "import seaborn as sns\n",
    "import sqlite3 as sql"
   ],
   "metadata": {
    "collapsed": false,
    "ExecuteTime": {
     "end_time": "2024-04-26T13:34:31.211782Z",
     "start_time": "2024-04-26T13:34:31.205482Z"
    }
   },
   "id": "76fe65a61a98beeb",
   "execution_count": 84
  },
  {
   "cell_type": "markdown",
   "source": [
    "## 1.2 Data Retrieval\n",
    "Objective: Preview datasets and have a general understanding of each of the \n",
    "tables."
   ],
   "metadata": {
    "collapsed": false
   },
   "id": "d5d7a9407607afbb"
  },
  {
   "cell_type": "markdown",
   "source": [
    "Create a relative path to the SQLite database and connect to the SQLite \n",
    "database"
   ],
   "metadata": {
    "collapsed": false
   },
   "id": "290a2a0ad0cb267"
  },
  {
   "cell_type": "code",
   "outputs": [],
   "source": [
    "database_path = 'mental_health.sqlite'\n",
    "conn = sql.connect(database_path)"
   ],
   "metadata": {
    "collapsed": false,
    "ExecuteTime": {
     "end_time": "2024-04-26T13:34:31.231458Z",
     "start_time": "2024-04-26T13:34:31.216191Z"
    }
   },
   "id": "89cb3a937c75d279",
   "execution_count": 85
  },
  {
   "cell_type": "markdown",
   "source": [
    "Check how many tables is in the database and the names of them"
   ],
   "metadata": {
    "collapsed": false
   },
   "id": "7fef294b479dfb5f"
  },
  {
   "cell_type": "code",
   "outputs": [
    {
     "name": "stdout",
     "output_type": "stream",
     "text": [
      "       name\n",
      "0    Answer\n",
      "1  Question\n",
      "2    Survey\n"
     ]
    }
   ],
   "source": [
    "query = 'SELECT name FROM sqlite_master WHERE type=\"table\";'\n",
    "tables = pd.read_sql_query(query, conn)\n",
    "print(tables)"
   ],
   "metadata": {
    "collapsed": false,
    "ExecuteTime": {
     "end_time": "2024-04-26T13:34:31.246880Z",
     "start_time": "2024-04-26T13:34:31.236047Z"
    }
   },
   "id": "cd52b49b32b756d4",
   "execution_count": 86
  },
  {
   "cell_type": "markdown",
   "source": [
    "**Answer**"
   ],
   "metadata": {
    "collapsed": false
   },
   "id": "67fe2e0961898958"
  },
  {
   "cell_type": "code",
   "outputs": [
    {
     "data": {
      "text/plain": "                AnswerText  SurveyID  UserID  QuestionID\n0                       37      2014       1           1\n1                       44      2014       2           1\n2                       32      2014       3           1\n3                       31      2014       4           1\n4                       31      2014       5           1\n...                    ...       ...     ...         ...\n236893               Other      2016    2689         117\n236894             Support      2016    2690         117\n236895  Back-end Developer      2016    2691         117\n236896     DevOps/SysAdmin      2016    2692         117\n236897               Other      2016    2693         117\n\n[236898 rows x 4 columns]",
      "text/html": "<div>\n<style scoped>\n    .dataframe tbody tr th:only-of-type {\n        vertical-align: middle;\n    }\n\n    .dataframe tbody tr th {\n        vertical-align: top;\n    }\n\n    .dataframe thead th {\n        text-align: right;\n    }\n</style>\n<table border=\"1\" class=\"dataframe\">\n  <thead>\n    <tr style=\"text-align: right;\">\n      <th></th>\n      <th>AnswerText</th>\n      <th>SurveyID</th>\n      <th>UserID</th>\n      <th>QuestionID</th>\n    </tr>\n  </thead>\n  <tbody>\n    <tr>\n      <th>0</th>\n      <td>37</td>\n      <td>2014</td>\n      <td>1</td>\n      <td>1</td>\n    </tr>\n    <tr>\n      <th>1</th>\n      <td>44</td>\n      <td>2014</td>\n      <td>2</td>\n      <td>1</td>\n    </tr>\n    <tr>\n      <th>2</th>\n      <td>32</td>\n      <td>2014</td>\n      <td>3</td>\n      <td>1</td>\n    </tr>\n    <tr>\n      <th>3</th>\n      <td>31</td>\n      <td>2014</td>\n      <td>4</td>\n      <td>1</td>\n    </tr>\n    <tr>\n      <th>4</th>\n      <td>31</td>\n      <td>2014</td>\n      <td>5</td>\n      <td>1</td>\n    </tr>\n    <tr>\n      <th>...</th>\n      <td>...</td>\n      <td>...</td>\n      <td>...</td>\n      <td>...</td>\n    </tr>\n    <tr>\n      <th>236893</th>\n      <td>Other</td>\n      <td>2016</td>\n      <td>2689</td>\n      <td>117</td>\n    </tr>\n    <tr>\n      <th>236894</th>\n      <td>Support</td>\n      <td>2016</td>\n      <td>2690</td>\n      <td>117</td>\n    </tr>\n    <tr>\n      <th>236895</th>\n      <td>Back-end Developer</td>\n      <td>2016</td>\n      <td>2691</td>\n      <td>117</td>\n    </tr>\n    <tr>\n      <th>236896</th>\n      <td>DevOps/SysAdmin</td>\n      <td>2016</td>\n      <td>2692</td>\n      <td>117</td>\n    </tr>\n    <tr>\n      <th>236897</th>\n      <td>Other</td>\n      <td>2016</td>\n      <td>2693</td>\n      <td>117</td>\n    </tr>\n  </tbody>\n</table>\n<p>236898 rows × 4 columns</p>\n</div>"
     },
     "execution_count": 87,
     "metadata": {},
     "output_type": "execute_result"
    }
   ],
   "source": [
    "answer_df = pd.read_sql('SELECT * FROM Answer', conn)\n",
    "answer_df"
   ],
   "metadata": {
    "collapsed": false,
    "ExecuteTime": {
     "end_time": "2024-04-26T13:34:32.614102Z",
     "start_time": "2024-04-26T13:34:31.250321Z"
    }
   },
   "id": "3f0aeaead31c2200",
   "execution_count": 87
  },
  {
   "cell_type": "code",
   "outputs": [
    {
     "name": "stdout",
     "output_type": "stream",
     "text": [
      "<class 'pandas.core.frame.DataFrame'>\n",
      "RangeIndex: 236898 entries, 0 to 236897\n",
      "Data columns (total 4 columns):\n",
      " #   Column      Non-Null Count   Dtype \n",
      "---  ------      --------------   ----- \n",
      " 0   AnswerText  236898 non-null  object\n",
      " 1   SurveyID    236898 non-null  int64 \n",
      " 2   UserID      236898 non-null  int64 \n",
      " 3   QuestionID  236898 non-null  int64 \n",
      "dtypes: int64(3), object(1)\n",
      "memory usage: 7.2+ MB\n"
     ]
    }
   ],
   "source": [
    "answer_df.info()"
   ],
   "metadata": {
    "collapsed": false,
    "ExecuteTime": {
     "end_time": "2024-04-26T13:34:32.657133Z",
     "start_time": "2024-04-26T13:34:32.617452Z"
    }
   },
   "id": "1acb1e96f23c73b",
   "execution_count": 88
  },
  {
   "cell_type": "code",
   "outputs": [
    {
     "data": {
      "text/plain": "4218"
     },
     "execution_count": 89,
     "metadata": {},
     "output_type": "execute_result"
    }
   ],
   "source": [
    "answer_df.UserID.nunique()"
   ],
   "metadata": {
    "collapsed": false,
    "ExecuteTime": {
     "end_time": "2024-04-26T13:34:32.679661Z",
     "start_time": "2024-04-26T13:34:32.659443Z"
    }
   },
   "id": "42d5c8f5bf34d691",
   "execution_count": 89
  },
  {
   "cell_type": "markdown",
   "source": [
    "There are 236898 columns in the Answer dataset, with 2 foreign keys, \n",
    "SurveyID and QuestionID. \n",
    "In total, 4218 people answered the survey."
   ],
   "metadata": {
    "collapsed": false
   },
   "id": "71218f268d54cd68"
  },
  {
   "cell_type": "markdown",
   "source": [
    "**Question**"
   ],
   "metadata": {
    "collapsed": false
   },
   "id": "1d6258509922db4f"
  },
  {
   "cell_type": "code",
   "outputs": [
    {
     "data": {
      "text/plain": "                                          questiontext  questionid\n0                                    What is your age?           1\n1                                 What is your gender?           2\n2                         What country do you live in?           3\n3    If you live in the United States, which state ...           4\n4                               Are you self-employed?           5\n..                                                 ...         ...\n100  Do you think that team members/co-workers woul...         114\n101  If yes, what condition(s) have you been diagno...         115\n102  If maybe, what condition(s) do you believe you...         116\n103  Which of the following best describes your wor...         117\n104                              Do you work remotely?         118\n\n[105 rows x 2 columns]",
      "text/html": "<div>\n<style scoped>\n    .dataframe tbody tr th:only-of-type {\n        vertical-align: middle;\n    }\n\n    .dataframe tbody tr th {\n        vertical-align: top;\n    }\n\n    .dataframe thead th {\n        text-align: right;\n    }\n</style>\n<table border=\"1\" class=\"dataframe\">\n  <thead>\n    <tr style=\"text-align: right;\">\n      <th></th>\n      <th>questiontext</th>\n      <th>questionid</th>\n    </tr>\n  </thead>\n  <tbody>\n    <tr>\n      <th>0</th>\n      <td>What is your age?</td>\n      <td>1</td>\n    </tr>\n    <tr>\n      <th>1</th>\n      <td>What is your gender?</td>\n      <td>2</td>\n    </tr>\n    <tr>\n      <th>2</th>\n      <td>What country do you live in?</td>\n      <td>3</td>\n    </tr>\n    <tr>\n      <th>3</th>\n      <td>If you live in the United States, which state ...</td>\n      <td>4</td>\n    </tr>\n    <tr>\n      <th>4</th>\n      <td>Are you self-employed?</td>\n      <td>5</td>\n    </tr>\n    <tr>\n      <th>...</th>\n      <td>...</td>\n      <td>...</td>\n    </tr>\n    <tr>\n      <th>100</th>\n      <td>Do you think that team members/co-workers woul...</td>\n      <td>114</td>\n    </tr>\n    <tr>\n      <th>101</th>\n      <td>If yes, what condition(s) have you been diagno...</td>\n      <td>115</td>\n    </tr>\n    <tr>\n      <th>102</th>\n      <td>If maybe, what condition(s) do you believe you...</td>\n      <td>116</td>\n    </tr>\n    <tr>\n      <th>103</th>\n      <td>Which of the following best describes your wor...</td>\n      <td>117</td>\n    </tr>\n    <tr>\n      <th>104</th>\n      <td>Do you work remotely?</td>\n      <td>118</td>\n    </tr>\n  </tbody>\n</table>\n<p>105 rows × 2 columns</p>\n</div>"
     },
     "execution_count": 90,
     "metadata": {},
     "output_type": "execute_result"
    }
   ],
   "source": [
    "question_df = pd.read_sql('SELECT * FROM Question', conn)\n",
    "question_df"
   ],
   "metadata": {
    "collapsed": false,
    "ExecuteTime": {
     "end_time": "2024-04-26T13:34:32.703717Z",
     "start_time": "2024-04-26T13:34:32.682321Z"
    }
   },
   "id": "a838fb1714466380",
   "execution_count": 90
  },
  {
   "cell_type": "code",
   "outputs": [],
   "source": [
    "question_df.columns = ['questiontext', 'QuestionID']"
   ],
   "metadata": {
    "collapsed": false,
    "ExecuteTime": {
     "end_time": "2024-04-26T13:34:32.713903Z",
     "start_time": "2024-04-26T13:34:32.707781Z"
    }
   },
   "id": "d4de5fa84afbae79",
   "execution_count": 91
  },
  {
   "cell_type": "code",
   "outputs": [
    {
     "name": "stdout",
     "output_type": "stream",
     "text": [
      "<class 'pandas.core.frame.DataFrame'>\n",
      "RangeIndex: 105 entries, 0 to 104\n",
      "Data columns (total 2 columns):\n",
      " #   Column        Non-Null Count  Dtype \n",
      "---  ------        --------------  ----- \n",
      " 0   questiontext  105 non-null    object\n",
      " 1   QuestionID    105 non-null    int64 \n",
      "dtypes: int64(1), object(1)\n",
      "memory usage: 1.8+ KB\n"
     ]
    }
   ],
   "source": [
    "question_df.info()"
   ],
   "metadata": {
    "collapsed": false,
    "ExecuteTime": {
     "end_time": "2024-04-26T13:34:32.735031Z",
     "start_time": "2024-04-26T13:34:32.720992Z"
    }
   },
   "id": "c4783b5af5311bd5",
   "execution_count": 92
  },
  {
   "cell_type": "markdown",
   "source": [
    "There are 105 distinct questions. The dataset includes a primary key,\n",
    "questionID."
   ],
   "metadata": {
    "collapsed": false
   },
   "id": "8a041efd138ea6b"
  },
  {
   "cell_type": "markdown",
   "source": [
    "**Survey**"
   ],
   "metadata": {
    "collapsed": false
   },
   "id": "bf61458f4dc744e9"
  },
  {
   "cell_type": "code",
   "outputs": [
    {
     "data": {
      "text/plain": "   SurveyID                    Description\n0      2014  mental health survey for 2014\n1      2016  mental health survey for 2016\n2      2017  mental health survey for 2017\n3      2018  mental health survey for 2018\n4      2019  mental health survey for 2019",
      "text/html": "<div>\n<style scoped>\n    .dataframe tbody tr th:only-of-type {\n        vertical-align: middle;\n    }\n\n    .dataframe tbody tr th {\n        vertical-align: top;\n    }\n\n    .dataframe thead th {\n        text-align: right;\n    }\n</style>\n<table border=\"1\" class=\"dataframe\">\n  <thead>\n    <tr style=\"text-align: right;\">\n      <th></th>\n      <th>SurveyID</th>\n      <th>Description</th>\n    </tr>\n  </thead>\n  <tbody>\n    <tr>\n      <th>0</th>\n      <td>2014</td>\n      <td>mental health survey for 2014</td>\n    </tr>\n    <tr>\n      <th>1</th>\n      <td>2016</td>\n      <td>mental health survey for 2016</td>\n    </tr>\n    <tr>\n      <th>2</th>\n      <td>2017</td>\n      <td>mental health survey for 2017</td>\n    </tr>\n    <tr>\n      <th>3</th>\n      <td>2018</td>\n      <td>mental health survey for 2018</td>\n    </tr>\n    <tr>\n      <th>4</th>\n      <td>2019</td>\n      <td>mental health survey for 2019</td>\n    </tr>\n  </tbody>\n</table>\n</div>"
     },
     "execution_count": 93,
     "metadata": {},
     "output_type": "execute_result"
    }
   ],
   "source": [
    "survey_df = pd.read_sql('SELECT * FROM Survey', conn)\n",
    "survey_df"
   ],
   "metadata": {
    "collapsed": false,
    "ExecuteTime": {
     "end_time": "2024-04-26T13:34:32.757870Z",
     "start_time": "2024-04-26T13:34:32.738518Z"
    }
   },
   "id": "c58824fde465bf37",
   "execution_count": 93
  },
  {
   "cell_type": "code",
   "outputs": [
    {
     "name": "stdout",
     "output_type": "stream",
     "text": [
      "<class 'pandas.core.frame.DataFrame'>\n",
      "RangeIndex: 5 entries, 0 to 4\n",
      "Data columns (total 2 columns):\n",
      " #   Column       Non-Null Count  Dtype \n",
      "---  ------       --------------  ----- \n",
      " 0   SurveyID     5 non-null      int64 \n",
      " 1   Description  5 non-null      object\n",
      "dtypes: int64(1), object(1)\n",
      "memory usage: 212.0+ bytes\n"
     ]
    }
   ],
   "source": [
    "survey_df.info()"
   ],
   "metadata": {
    "collapsed": false,
    "ExecuteTime": {
     "end_time": "2024-04-26T13:34:32.897575Z",
     "start_time": "2024-04-26T13:34:32.762159Z"
    }
   },
   "id": "beab995b4addd58f",
   "execution_count": 94
  },
  {
   "cell_type": "markdown",
   "source": [
    "We have a missing year 2015. This dataset includes a primary key, SurveyID."
   ],
   "metadata": {
    "collapsed": false
   },
   "id": "9970959b1bbf5020"
  },
  {
   "cell_type": "markdown",
   "source": [
    "## 1.3 Initial Data Cleaning\n",
    "Objective: Check for missing values and duplicates "
   ],
   "metadata": {
    "collapsed": false
   },
   "id": "b7ae43fc340889bc"
  },
  {
   "cell_type": "code",
   "outputs": [],
   "source": [
    "datasets = [answer_df, question_df, survey_df]"
   ],
   "metadata": {
    "collapsed": false,
    "ExecuteTime": {
     "end_time": "2024-04-26T13:34:33.027733Z",
     "start_time": "2024-04-26T13:34:32.906162Z"
    }
   },
   "id": "fa5d487cfaa36cc1",
   "execution_count": 95
  },
  {
   "cell_type": "markdown",
   "source": [
    "1. Check for duplicates in each dataset."
   ],
   "metadata": {
    "collapsed": false
   },
   "id": "4cdd11aff6201c60"
  },
  {
   "cell_type": "code",
   "outputs": [
    {
     "name": "stdout",
     "output_type": "stream",
     "text": [
      "False\n",
      "False\n",
      "False\n"
     ]
    }
   ],
   "source": [
    "for dataset in datasets:\n",
    "    print(dataset.duplicated().any())"
   ],
   "metadata": {
    "collapsed": false,
    "ExecuteTime": {
     "end_time": "2024-04-26T13:34:33.188565Z",
     "start_time": "2024-04-26T13:34:33.037370Z"
    }
   },
   "id": "e4e6aae11267485e",
   "execution_count": 96
  },
  {
   "cell_type": "markdown",
   "source": [
    "2. Check for missing values in each dataset."
   ],
   "metadata": {
    "collapsed": false
   },
   "id": "abd31914a8408dae"
  },
  {
   "cell_type": "code",
   "outputs": [
    {
     "name": "stdout",
     "output_type": "stream",
     "text": [
      "False\n",
      "False\n",
      "False\n"
     ]
    }
   ],
   "source": [
    "for dataset in datasets:\n",
    "    print(dataset.isna().any().any())"
   ],
   "metadata": {
    "collapsed": false,
    "ExecuteTime": {
     "end_time": "2024-04-26T13:34:33.232407Z",
     "start_time": "2024-04-26T13:34:33.195556Z"
    }
   },
   "id": "7a352a362f29fd97",
   "execution_count": 97
  },
  {
   "cell_type": "markdown",
   "source": [
    "There is no missing values or duplicated rows in all 3 datasets."
   ],
   "metadata": {
    "collapsed": false
   },
   "id": "4db1ec8910dd9257"
  },
  {
   "cell_type": "markdown",
   "source": [
    "# 2. Dataset 'Answer'\n",
    "## 2.1 Overview of the Surveys Over the Years\n",
    "\n",
    "Objective: \n",
    "Have a better understanding of how the surveys were constructed over the \n",
    "years."
   ],
   "metadata": {
    "collapsed": false
   },
   "id": "aa0065a69a708953"
  },
  {
   "cell_type": "markdown",
   "source": [
    "1. How many total replies have there been over time?"
   ],
   "metadata": {
    "collapsed": false
   },
   "id": "7e182e0db4d14a0b"
  },
  {
   "cell_type": "code",
   "outputs": [
    {
     "data": {
      "text/plain": "   SurveyID  TotalAnswers\n0      2014         32760\n1      2016         88238\n2      2017         57456\n3      2018         31692\n4      2019         26752",
      "text/html": "<div>\n<style scoped>\n    .dataframe tbody tr th:only-of-type {\n        vertical-align: middle;\n    }\n\n    .dataframe tbody tr th {\n        vertical-align: top;\n    }\n\n    .dataframe thead th {\n        text-align: right;\n    }\n</style>\n<table border=\"1\" class=\"dataframe\">\n  <thead>\n    <tr style=\"text-align: right;\">\n      <th></th>\n      <th>SurveyID</th>\n      <th>TotalAnswers</th>\n    </tr>\n  </thead>\n  <tbody>\n    <tr>\n      <th>0</th>\n      <td>2014</td>\n      <td>32760</td>\n    </tr>\n    <tr>\n      <th>1</th>\n      <td>2016</td>\n      <td>88238</td>\n    </tr>\n    <tr>\n      <th>2</th>\n      <td>2017</td>\n      <td>57456</td>\n    </tr>\n    <tr>\n      <th>3</th>\n      <td>2018</td>\n      <td>31692</td>\n    </tr>\n    <tr>\n      <th>4</th>\n      <td>2019</td>\n      <td>26752</td>\n    </tr>\n  </tbody>\n</table>\n</div>"
     },
     "execution_count": 98,
     "metadata": {},
     "output_type": "execute_result"
    }
   ],
   "source": [
    "query = '''SELECT SurveyID, COUNT(1) AS TotalAnswers\n",
    " FROM Answer \n",
    " GROUP BY SurveyID;\n",
    " ''' \n",
    "\n",
    "answers_over_time = pd.read_sql_query(query, conn)\n",
    "answers_over_time"
   ],
   "metadata": {
    "collapsed": false,
    "ExecuteTime": {
     "end_time": "2024-04-26T13:34:33.454890Z",
     "start_time": "2024-04-26T13:34:33.235746Z"
    }
   },
   "id": "bdb827cc1044dfd0",
   "execution_count": 98
  },
  {
   "cell_type": "code",
   "outputs": [
    {
     "data": {
      "text/plain": "<Axes: xlabel='SurveyID', ylabel='TotalAnswers'>"
     },
     "execution_count": 99,
     "metadata": {},
     "output_type": "execute_result"
    },
    {
     "data": {
      "text/plain": "<Figure size 500x400 with 1 Axes>",
      "image/png": "[encoded data removed]"
     },
     "metadata": {},
     "output_type": "display_data"
    }
   ],
   "source": [
    "plt.figure(figsize=(5, 4))\n",
    "sns.set_style(style='whitegrid')\n",
    "sns.barplot(data=answers_over_time, x='SurveyID', y='TotalAnswers')"
   ],
   "metadata": {
    "collapsed": false,
    "ExecuteTime": {
     "end_time": "2024-04-26T13:34:34.001707Z",
     "start_time": "2024-04-26T13:34:33.459153Z"
    }
   },
   "id": "c804ff8f6c53ef2c",
   "execution_count": 99
  },
  {
   "cell_type": "markdown",
   "source": [
    "The number of replies started at 32760 in 2014, then at 2016, it reached its\n",
    " highest at 88238. The replies since then, have decreased reaching its \n",
    " lowest in 2019. \n",
    " Let's investigate what is happening with the number of replies. Is it the \n",
    " number of users going  down? Is it the number of questions per survey going \n",
    " down?"
   ],
   "metadata": {
    "collapsed": false
   },
   "id": "1625d40218e6aecf"
  },
  {
   "cell_type": "markdown",
   "source": [
    "2. How many users have replied for each survey? "
   ],
   "metadata": {
    "collapsed": false
   },
   "id": "ee4f8a9620575db1"
  },
  {
   "cell_type": "code",
   "outputs": [
    {
     "data": {
      "text/plain": "   SurveyID  TotalUsers\n0      2014        1260\n1      2016        1433\n2      2017         756\n3      2018         417\n4      2019         352",
      "text/html": "<div>\n<style scoped>\n    .dataframe tbody tr th:only-of-type {\n        vertical-align: middle;\n    }\n\n    .dataframe tbody tr th {\n        vertical-align: top;\n    }\n\n    .dataframe thead th {\n        text-align: right;\n    }\n</style>\n<table border=\"1\" class=\"dataframe\">\n  <thead>\n    <tr style=\"text-align: right;\">\n      <th></th>\n      <th>SurveyID</th>\n      <th>TotalUsers</th>\n    </tr>\n  </thead>\n  <tbody>\n    <tr>\n      <th>0</th>\n      <td>2014</td>\n      <td>1260</td>\n    </tr>\n    <tr>\n      <th>1</th>\n      <td>2016</td>\n      <td>1433</td>\n    </tr>\n    <tr>\n      <th>2</th>\n      <td>2017</td>\n      <td>756</td>\n    </tr>\n    <tr>\n      <th>3</th>\n      <td>2018</td>\n      <td>417</td>\n    </tr>\n    <tr>\n      <th>4</th>\n      <td>2019</td>\n      <td>352</td>\n    </tr>\n  </tbody>\n</table>\n</div>"
     },
     "execution_count": 100,
     "metadata": {},
     "output_type": "execute_result"
    }
   ],
   "source": [
    "query = '''SELECT SurveyID, COUNT(DISTINCT UserID) AS TotalUsers\n",
    " FROM Answer \n",
    " GROUP BY SurveyID;\n",
    " ''' \n",
    "\n",
    "users_over_time = pd.read_sql_query(query, conn)\n",
    "users_over_time"
   ],
   "metadata": {
    "collapsed": false,
    "ExecuteTime": {
     "end_time": "2024-04-26T13:34:34.334794Z",
     "start_time": "2024-04-26T13:34:34.006836Z"
    }
   },
   "id": "5bbbbaa85126ac0d",
   "execution_count": 100
  },
  {
   "cell_type": "code",
   "outputs": [
    {
     "data": {
      "text/plain": "<Axes: xlabel='SurveyID', ylabel='TotalUsers'>"
     },
     "execution_count": 101,
     "metadata": {},
     "output_type": "execute_result"
    },
    {
     "data": {
      "text/plain": "<Figure size 500x400 with 1 Axes>",
      "image/png": "[encoded data removed]"
     },
     "metadata": {},
     "output_type": "display_data"
    }
   ],
   "source": [
    "plt.figure(figsize=(5, 4))\n",
    "sns.set_style(style='whitegrid')\n",
    "sns.barplot(data=users_over_time, x='SurveyID', y='TotalUsers')"
   ],
   "metadata": {
    "collapsed": false,
    "ExecuteTime": {
     "end_time": "2024-04-26T13:34:35.014289Z",
     "start_time": "2024-04-26T13:34:34.338258Z"
    }
   },
   "id": "7d416df4a5ae78a6",
   "execution_count": 101
  },
  {
   "cell_type": "markdown",
   "source": [
    "The number of users (people that replied to the survey) are highest in 2016,\n",
    " 1433 users, and interestingly the second highest in 2014, with 2019 being the \n",
    " lowest with 352 users. \n",
    " The evolution of the number of users and number of replies is more consistent \n",
    " between 2016-2019. 2014 is an outlier."
   ],
   "metadata": {
    "collapsed": false
   },
   "id": "dd5c715c9bccc8d5"
  },
  {
   "cell_type": "markdown",
   "source": [
    "3. Did all the surveys have the same questions? And how many replies did \n",
    "each get?"
   ],
   "metadata": {
    "collapsed": false
   },
   "id": "97385fb633b20b20"
  },
  {
   "cell_type": "code",
   "outputs": [
    {
     "data": {
      "text/plain": "     SurveyID  QuestionID  TotalReplies\n0        2014           1          1260\n1        2014           2          1260\n2        2014           3          1260\n3        2014           4          1260\n4        2014           5          1260\n..        ...         ...           ...\n309      2019          85           352\n310      2019          86           352\n311      2019          87           352\n312      2019          88           352\n313      2019          89           352\n\n[314 rows x 3 columns]",
      "text/html": "<div>\n<style scoped>\n    .dataframe tbody tr th:only-of-type {\n        vertical-align: middle;\n    }\n\n    .dataframe tbody tr th {\n        vertical-align: top;\n    }\n\n    .dataframe thead th {\n        text-align: right;\n    }\n</style>\n<table border=\"1\" class=\"dataframe\">\n  <thead>\n    <tr style=\"text-align: right;\">\n      <th></th>\n      <th>SurveyID</th>\n      <th>QuestionID</th>\n      <th>TotalReplies</th>\n    </tr>\n  </thead>\n  <tbody>\n    <tr>\n      <th>0</th>\n      <td>2014</td>\n      <td>1</td>\n      <td>1260</td>\n    </tr>\n    <tr>\n      <th>1</th>\n      <td>2014</td>\n      <td>2</td>\n      <td>1260</td>\n    </tr>\n    <tr>\n      <th>2</th>\n      <td>2014</td>\n      <td>3</td>\n      <td>1260</td>\n    </tr>\n    <tr>\n      <th>3</th>\n      <td>2014</td>\n      <td>4</td>\n      <td>1260</td>\n    </tr>\n    <tr>\n      <th>4</th>\n      <td>2014</td>\n      <td>5</td>\n      <td>1260</td>\n    </tr>\n    <tr>\n      <th>...</th>\n      <td>...</td>\n      <td>...</td>\n      <td>...</td>\n    </tr>\n    <tr>\n      <th>309</th>\n      <td>2019</td>\n      <td>85</td>\n      <td>352</td>\n    </tr>\n    <tr>\n      <th>310</th>\n      <td>2019</td>\n      <td>86</td>\n      <td>352</td>\n    </tr>\n    <tr>\n      <th>311</th>\n      <td>2019</td>\n      <td>87</td>\n      <td>352</td>\n    </tr>\n    <tr>\n      <th>312</th>\n      <td>2019</td>\n      <td>88</td>\n      <td>352</td>\n    </tr>\n    <tr>\n      <th>313</th>\n      <td>2019</td>\n      <td>89</td>\n      <td>352</td>\n    </tr>\n  </tbody>\n</table>\n<p>314 rows × 3 columns</p>\n</div>"
     },
     "execution_count": 102,
     "metadata": {},
     "output_type": "execute_result"
    }
   ],
   "source": [
    "query = '''SELECT SurveyID, QuestionID, COUNT(1) AS TotalReplies\n",
    "FROM Answer\n",
    "GROUP BY SurveyID, QuestionID;\n",
    "'''\n",
    "\n",
    "questions_for_each_survey = pd.read_sql_query(query, conn)\n",
    "questions_for_each_survey"
   ],
   "metadata": {
    "collapsed": false,
    "ExecuteTime": {
     "end_time": "2024-04-26T13:34:35.416777Z",
     "start_time": "2024-04-26T13:34:35.018285Z"
    }
   },
   "id": "1fb8da0030d589a9",
   "execution_count": 102
  },
  {
   "cell_type": "markdown",
   "source": [
    "The Surveys do not all have the same questions, although some are in common."
   ],
   "metadata": {
    "collapsed": false
   },
   "id": "6b02a6645b3adfa0"
  },
  {
   "cell_type": "markdown",
   "source": [
    "4. Check if all questions had the same amount of replies as the number of \n",
    "users."
   ],
   "metadata": {
    "collapsed": false
   },
   "id": "38f0716804d2c9d6"
  },
  {
   "cell_type": "code",
   "outputs": [
    {
     "data": {
      "text/plain": "    SurveyID  QuestionID  TotalReplies  TotalUsers\n82      2016         115          2072        1433\n83      2016         116          1793        1433\n84      2016         117          2692        1433",
      "text/html": "<div>\n<style scoped>\n    .dataframe tbody tr th:only-of-type {\n        vertical-align: middle;\n    }\n\n    .dataframe tbody tr th {\n        vertical-align: top;\n    }\n\n    .dataframe thead th {\n        text-align: right;\n    }\n</style>\n<table border=\"1\" class=\"dataframe\">\n  <thead>\n    <tr style=\"text-align: right;\">\n      <th></th>\n      <th>SurveyID</th>\n      <th>QuestionID</th>\n      <th>TotalReplies</th>\n      <th>TotalUsers</th>\n    </tr>\n  </thead>\n  <tbody>\n    <tr>\n      <th>82</th>\n      <td>2016</td>\n      <td>115</td>\n      <td>2072</td>\n      <td>1433</td>\n    </tr>\n    <tr>\n      <th>83</th>\n      <td>2016</td>\n      <td>116</td>\n      <td>1793</td>\n      <td>1433</td>\n    </tr>\n    <tr>\n      <th>84</th>\n      <td>2016</td>\n      <td>117</td>\n      <td>2692</td>\n      <td>1433</td>\n    </tr>\n  </tbody>\n</table>\n</div>"
     },
     "execution_count": 103,
     "metadata": {},
     "output_type": "execute_result"
    }
   ],
   "source": [
    "merged_df = questions_for_each_survey.merge(users_over_time, on='SurveyID')\n",
    "odd_number_of_replies = merged_df[merged_df.TotalUsers != merged_df\n",
    ".TotalReplies]\n",
    "odd_number_of_replies"
   ],
   "metadata": {
    "collapsed": false,
    "ExecuteTime": {
     "end_time": "2024-04-26T13:34:35.451353Z",
     "start_time": "2024-04-26T13:34:35.421772Z"
    }
   },
   "id": "b36babc0126aa971",
   "execution_count": 103
  },
  {
   "cell_type": "code",
   "outputs": [
    {
     "data": {
      "text/plain": "                                             AnswerText  SurveyID  UserID  \\\n0                                                    -1      2016    1261   \n1     Anxiety Disorder (Generalized, Social, Phobia,...      2016    1262   \n2     Mood Disorder (Depression, Bipolar Disorder, etc)      2016    1262   \n3                                                    -1      2016    1263   \n4     Anxiety Disorder (Generalized, Social, Phobia,...      2016    1264   \n...                                                 ...       ...     ...   \n6552                                              Other      2016    2689   \n6553                                            Support      2016    2690   \n6554                                 Back-end Developer      2016    2691   \n6555                                    DevOps/SysAdmin      2016    2692   \n6556                                              Other      2016    2693   \n\n      QuestionID  \n0            115  \n1            115  \n2            115  \n3            115  \n4            115  \n...          ...  \n6552         117  \n6553         117  \n6554         117  \n6555         117  \n6556         117  \n\n[6557 rows x 4 columns]",
      "text/html": "<div>\n<style scoped>\n    .dataframe tbody tr th:only-of-type {\n        vertical-align: middle;\n    }\n\n    .dataframe tbody tr th {\n        vertical-align: top;\n    }\n\n    .dataframe thead th {\n        text-align: right;\n    }\n</style>\n<table border=\"1\" class=\"dataframe\">\n  <thead>\n    <tr style=\"text-align: right;\">\n      <th></th>\n      <th>AnswerText</th>\n      <th>SurveyID</th>\n      <th>UserID</th>\n      <th>QuestionID</th>\n    </tr>\n  </thead>\n  <tbody>\n    <tr>\n      <th>0</th>\n      <td>-1</td>\n      <td>2016</td>\n      <td>1261</td>\n      <td>115</td>\n    </tr>\n    <tr>\n      <th>1</th>\n      <td>Anxiety Disorder (Generalized, Social, Phobia,...</td>\n      <td>2016</td>\n      <td>1262</td>\n      <td>115</td>\n    </tr>\n    <tr>\n      <th>2</th>\n      <td>Mood Disorder (Depression, Bipolar Disorder, etc)</td>\n      <td>2016</td>\n      <td>1262</td>\n      <td>115</td>\n    </tr>\n    <tr>\n      <th>3</th>\n      <td>-1</td>\n      <td>2016</td>\n      <td>1263</td>\n      <td>115</td>\n    </tr>\n    <tr>\n      <th>4</th>\n      <td>Anxiety Disorder (Generalized, Social, Phobia,...</td>\n      <td>2016</td>\n      <td>1264</td>\n      <td>115</td>\n    </tr>\n    <tr>\n      <th>...</th>\n      <td>...</td>\n      <td>...</td>\n      <td>...</td>\n      <td>...</td>\n    </tr>\n    <tr>\n      <th>6552</th>\n      <td>Other</td>\n      <td>2016</td>\n      <td>2689</td>\n      <td>117</td>\n    </tr>\n    <tr>\n      <th>6553</th>\n      <td>Support</td>\n      <td>2016</td>\n      <td>2690</td>\n      <td>117</td>\n    </tr>\n    <tr>\n      <th>6554</th>\n      <td>Back-end Developer</td>\n      <td>2016</td>\n      <td>2691</td>\n      <td>117</td>\n    </tr>\n    <tr>\n      <th>6555</th>\n      <td>DevOps/SysAdmin</td>\n      <td>2016</td>\n      <td>2692</td>\n      <td>117</td>\n    </tr>\n    <tr>\n      <th>6556</th>\n      <td>Other</td>\n      <td>2016</td>\n      <td>2693</td>\n      <td>117</td>\n    </tr>\n  </tbody>\n</table>\n<p>6557 rows × 4 columns</p>\n</div>"
     },
     "execution_count": 104,
     "metadata": {},
     "output_type": "execute_result"
    }
   ],
   "source": [
    "query = '''SELECT *\n",
    "FROM Answer\n",
    "WHERE SurveyID=2016 AND QuestionID BETWEEN 115 AND 117;\n",
    "'''\n",
    "\n",
    "pd.read_sql_query(query, conn)"
   ],
   "metadata": {
    "collapsed": false,
    "ExecuteTime": {
     "end_time": "2024-04-26T13:34:35.597628Z",
     "start_time": "2024-04-26T13:34:35.454355Z"
    }
   },
   "id": "5c15d78e221b446",
   "execution_count": 104
  },
  {
   "cell_type": "markdown",
   "source": [
    "In the questions 115-117 from year 2016, several users answered more than \n",
    "one times."
   ],
   "metadata": {
    "collapsed": false
   },
   "id": "1371debfca81d4d8"
  },
  {
   "cell_type": "markdown",
   "source": [
    "5. How many questions did each survey have?"
   ],
   "metadata": {
    "collapsed": false
   },
   "id": "4b4e776c332a7240"
  },
  {
   "cell_type": "code",
   "outputs": [
    {
     "data": {
      "text/plain": "   SurveyID  count\n0      2014     26\n1      2016     60\n2      2017     76\n3      2018     76\n4      2019     76",
      "text/html": "<div>\n<style scoped>\n    .dataframe tbody tr th:only-of-type {\n        vertical-align: middle;\n    }\n\n    .dataframe tbody tr th {\n        vertical-align: top;\n    }\n\n    .dataframe thead th {\n        text-align: right;\n    }\n</style>\n<table border=\"1\" class=\"dataframe\">\n  <thead>\n    <tr style=\"text-align: right;\">\n      <th></th>\n      <th>SurveyID</th>\n      <th>count</th>\n    </tr>\n  </thead>\n  <tbody>\n    <tr>\n      <th>0</th>\n      <td>2014</td>\n      <td>26</td>\n    </tr>\n    <tr>\n      <th>1</th>\n      <td>2016</td>\n      <td>60</td>\n    </tr>\n    <tr>\n      <th>2</th>\n      <td>2017</td>\n      <td>76</td>\n    </tr>\n    <tr>\n      <th>3</th>\n      <td>2018</td>\n      <td>76</td>\n    </tr>\n    <tr>\n      <th>4</th>\n      <td>2019</td>\n      <td>76</td>\n    </tr>\n  </tbody>\n</table>\n</div>"
     },
     "execution_count": 105,
     "metadata": {},
     "output_type": "execute_result"
    }
   ],
   "source": [
    "questions_per_survey = questions_for_each_survey.groupby(by='SurveyID').size()\n",
    "questions_per_survey = questions_per_survey.reset_index()\n",
    "questions_per_survey.columns = ['SurveyID', 'count']\n",
    "questions_per_survey"
   ],
   "metadata": {
    "collapsed": false,
    "ExecuteTime": {
     "end_time": "2024-04-26T13:34:35.624899Z",
     "start_time": "2024-04-26T13:34:35.600628Z"
    }
   },
   "id": "9991a7fc3abaeab4",
   "execution_count": 105
  },
  {
   "cell_type": "code",
   "outputs": [
    {
     "data": {
      "text/plain": "<Axes: xlabel='SurveyID', ylabel='count'>"
     },
     "execution_count": 106,
     "metadata": {},
     "output_type": "execute_result"
    },
    {
     "data": {
      "text/plain": "<Figure size 500x400 with 1 Axes>",
      "image/png": "[encoded data removed]"
     },
     "metadata": {},
     "output_type": "display_data"
    }
   ],
   "source": [
    "plt.figure(figsize=(5, 4))\n",
    "sns.set_style(style='whitegrid')\n",
    "sns.barplot(data=questions_per_survey, x='SurveyID', y='count')"
   ],
   "metadata": {
    "collapsed": false,
    "ExecuteTime": {
     "end_time": "2024-04-26T13:34:36.514386Z",
     "start_time": "2024-04-26T13:34:35.627898Z"
    }
   },
   "id": "5a116e8c2cec0d17",
   "execution_count": 106
  },
  {
   "cell_type": "markdown",
   "source": [
    "2014 and 2016 both have less questions than the rest. \n",
    "Even though, 2014 had many users, it only had around 34% of number of questions \n",
    "compared to the surveys 2017-2019, which significantly decreased the amount of\n",
    "replies it was getting."
   ],
   "metadata": {
    "collapsed": false
   },
   "id": "73fd0d960d64960c"
  },
  {
   "cell_type": "markdown",
   "source": [
    "6. Any users replied to several surveys ?"
   ],
   "metadata": {
    "collapsed": false
   },
   "id": "d847cdd3c11d2aa8"
  },
  {
   "cell_type": "code",
   "outputs": [
    {
     "data": {
      "text/plain": "Empty DataFrame\nColumns: [UserID, NumberOfSurveys]\nIndex: []",
      "text/html": "<div>\n<style scoped>\n    .dataframe tbody tr th:only-of-type {\n        vertical-align: middle;\n    }\n\n    .dataframe tbody tr th {\n        vertical-align: top;\n    }\n\n    .dataframe thead th {\n        text-align: right;\n    }\n</style>\n<table border=\"1\" class=\"dataframe\">\n  <thead>\n    <tr style=\"text-align: right;\">\n      <th></th>\n      <th>UserID</th>\n      <th>NumberOfSurveys</th>\n    </tr>\n  </thead>\n  <tbody>\n  </tbody>\n</table>\n</div>"
     },
     "execution_count": 107,
     "metadata": {},
     "output_type": "execute_result"
    }
   ],
   "source": [
    "query = '''SELECT UserID, COUNT(DISTINCT SurveyID) AS NumberOfSurveys\n",
    "FROM Answer\n",
    "GROUP BY UserID\n",
    "HAVING NumberOfSurveys>1;\n",
    "'''\n",
    "\n",
    "pd.read_sql_query(query, conn)"
   ],
   "metadata": {
    "collapsed": false,
    "ExecuteTime": {
     "end_time": "2024-04-26T13:34:36.992568Z",
     "start_time": "2024-04-26T13:34:36.525364Z"
    }
   },
   "id": "773b3d8a7b1d1558",
   "execution_count": 107
  },
  {
   "cell_type": "markdown",
   "source": [
    "No, all users only appear in one survey."
   ],
   "metadata": {
    "collapsed": false
   },
   "id": "a1e1fdddb5fff595"
  },
  {
   "cell_type": "markdown",
   "source": [
    "### 2.1.1 Insights\n",
    "The surveys are not the same over the years and the sampling population is \n",
    "also not the same. \n",
    "To analyze the survey replies changes throughout the years, prioritizing our \n",
    "analysis to survey questions that were repeatedly asked will help its \n",
    "accuracy."
   ],
   "metadata": {
    "collapsed": false
   },
   "id": "d595753a4a6d9e94"
  },
  {
   "cell_type": "markdown",
   "source": [
    "## 2.2 Survey Questions\n",
    "Objective: \n",
    "Find questions that were asked repeatedly in different surveys."
   ],
   "metadata": {
    "collapsed": false
   },
   "id": "23a7d30454c09932"
  },
  {
   "cell_type": "markdown",
   "source": [
    "1. Join the table Answer with Question."
   ],
   "metadata": {
    "collapsed": false
   },
   "id": "76e0c21df9f2fc5"
  },
  {
   "cell_type": "code",
   "outputs": [
    {
     "data": {
      "text/plain": "                AnswerText  SurveyID  UserID  QuestionID  \\\n0                       37      2014       1           1   \n1                       44      2014       2           1   \n2                       32      2014       3           1   \n3                       31      2014       4           1   \n4                       31      2014       5           1   \n...                    ...       ...     ...         ...   \n236893               Other      2016    2689         117   \n236894             Support      2016    2690         117   \n236895  Back-end Developer      2016    2691         117   \n236896     DevOps/SysAdmin      2016    2692         117   \n236897               Other      2016    2693         117   \n\n                                             questiontext  questionid  \n0                                       What is your age?           1  \n1                                       What is your age?           1  \n2                                       What is your age?           1  \n3                                       What is your age?           1  \n4                                       What is your age?           1  \n...                                                   ...         ...  \n236893  Which of the following best describes your wor...         117  \n236894  Which of the following best describes your wor...         117  \n236895  Which of the following best describes your wor...         117  \n236896  Which of the following best describes your wor...         117  \n236897  Which of the following best describes your wor...         117  \n\n[236898 rows x 6 columns]",
      "text/html": "<div>\n<style scoped>\n    .dataframe tbody tr th:only-of-type {\n        vertical-align: middle;\n    }\n\n    .dataframe tbody tr th {\n        vertical-align: top;\n    }\n\n    .dataframe thead th {\n        text-align: right;\n    }\n</style>\n<table border=\"1\" class=\"dataframe\">\n  <thead>\n    <tr style=\"text-align: right;\">\n      <th></th>\n      <th>AnswerText</th>\n      <th>SurveyID</th>\n      <th>UserID</th>\n      <th>QuestionID</th>\n      <th>questiontext</th>\n      <th>questionid</th>\n    </tr>\n  </thead>\n  <tbody>\n    <tr>\n      <th>0</th>\n      <td>37</td>\n      <td>2014</td>\n      <td>1</td>\n      <td>1</td>\n      <td>What is your age?</td>\n      <td>1</td>\n    </tr>\n    <tr>\n      <th>1</th>\n      <td>44</td>\n      <td>2014</td>\n      <td>2</td>\n      <td>1</td>\n      <td>What is your age?</td>\n      <td>1</td>\n    </tr>\n    <tr>\n      <th>2</th>\n      <td>32</td>\n      <td>2014</td>\n      <td>3</td>\n      <td>1</td>\n      <td>What is your age?</td>\n      <td>1</td>\n    </tr>\n    <tr>\n      <th>3</th>\n      <td>31</td>\n      <td>2014</td>\n      <td>4</td>\n      <td>1</td>\n      <td>What is your age?</td>\n      <td>1</td>\n    </tr>\n    <tr>\n      <th>4</th>\n      <td>31</td>\n      <td>2014</td>\n      <td>5</td>\n      <td>1</td>\n      <td>What is your age?</td>\n      <td>1</td>\n    </tr>\n    <tr>\n      <th>...</th>\n      <td>...</td>\n      <td>...</td>\n      <td>...</td>\n      <td>...</td>\n      <td>...</td>\n      <td>...</td>\n    </tr>\n    <tr>\n      <th>236893</th>\n      <td>Other</td>\n      <td>2016</td>\n      <td>2689</td>\n      <td>117</td>\n      <td>Which of the following best describes your wor...</td>\n      <td>117</td>\n    </tr>\n    <tr>\n      <th>236894</th>\n      <td>Support</td>\n      <td>2016</td>\n      <td>2690</td>\n      <td>117</td>\n      <td>Which of the following best describes your wor...</td>\n      <td>117</td>\n    </tr>\n    <tr>\n      <th>236895</th>\n      <td>Back-end Developer</td>\n      <td>2016</td>\n      <td>2691</td>\n      <td>117</td>\n      <td>Which of the following best describes your wor...</td>\n      <td>117</td>\n    </tr>\n    <tr>\n      <th>236896</th>\n      <td>DevOps/SysAdmin</td>\n      <td>2016</td>\n      <td>2692</td>\n      <td>117</td>\n      <td>Which of the following best describes your wor...</td>\n      <td>117</td>\n    </tr>\n    <tr>\n      <th>236897</th>\n      <td>Other</td>\n      <td>2016</td>\n      <td>2693</td>\n      <td>117</td>\n      <td>Which of the following best describes your wor...</td>\n      <td>117</td>\n    </tr>\n  </tbody>\n</table>\n<p>236898 rows × 6 columns</p>\n</div>"
     },
     "execution_count": 108,
     "metadata": {},
     "output_type": "execute_result"
    }
   ],
   "source": [
    "query = '''SELECT *\n",
    "FROM Answer\n",
    "JOIN Question ON Answer.QuestionID = Question.questionid;\n",
    "'''\n",
    "\n",
    "answer_question_merged = pd.read_sql_query(query, conn)\n",
    "answer_question_merged"
   ],
   "metadata": {
    "collapsed": false,
    "ExecuteTime": {
     "end_time": "2024-04-26T13:34:39.499069Z",
     "start_time": "2024-04-26T13:34:37.003537Z"
    }
   },
   "id": "d4e253947335ed24",
   "execution_count": 108
  },
  {
   "cell_type": "markdown",
   "source": [
    "2. Which questions were repeated in the surveys throughout the years ?"
   ],
   "metadata": {
    "collapsed": false
   },
   "id": "63ae1ffbf2036ab3"
  },
  {
   "cell_type": "code",
   "outputs": [
    {
     "data": {
      "text/plain": "     QuestionID  RepeatedQuestions\n0             1                  5\n1             2                  5\n2             3                  5\n3             4                  5\n4             5                  5\n..          ...                ...\n100         114                  1\n101         115                  1\n102         116                  1\n103         117                  1\n104         118                  1\n\n[105 rows x 2 columns]",
      "text/html": "<div>\n<style scoped>\n    .dataframe tbody tr th:only-of-type {\n        vertical-align: middle;\n    }\n\n    .dataframe tbody tr th {\n        vertical-align: top;\n    }\n\n    .dataframe thead th {\n        text-align: right;\n    }\n</style>\n<table border=\"1\" class=\"dataframe\">\n  <thead>\n    <tr style=\"text-align: right;\">\n      <th></th>\n      <th>QuestionID</th>\n      <th>RepeatedQuestions</th>\n    </tr>\n  </thead>\n  <tbody>\n    <tr>\n      <th>0</th>\n      <td>1</td>\n      <td>5</td>\n    </tr>\n    <tr>\n      <th>1</th>\n      <td>2</td>\n      <td>5</td>\n    </tr>\n    <tr>\n      <th>2</th>\n      <td>3</td>\n      <td>5</td>\n    </tr>\n    <tr>\n      <th>3</th>\n      <td>4</td>\n      <td>5</td>\n    </tr>\n    <tr>\n      <th>4</th>\n      <td>5</td>\n      <td>5</td>\n    </tr>\n    <tr>\n      <th>...</th>\n      <td>...</td>\n      <td>...</td>\n    </tr>\n    <tr>\n      <th>100</th>\n      <td>114</td>\n      <td>1</td>\n    </tr>\n    <tr>\n      <th>101</th>\n      <td>115</td>\n      <td>1</td>\n    </tr>\n    <tr>\n      <th>102</th>\n      <td>116</td>\n      <td>1</td>\n    </tr>\n    <tr>\n      <th>103</th>\n      <td>117</td>\n      <td>1</td>\n    </tr>\n    <tr>\n      <th>104</th>\n      <td>118</td>\n      <td>1</td>\n    </tr>\n  </tbody>\n</table>\n<p>105 rows × 2 columns</p>\n</div>"
     },
     "execution_count": 109,
     "metadata": {},
     "output_type": "execute_result"
    }
   ],
   "source": [
    "query = '''SELECT QuestionID, COUNT(DISTINCT SurveyID) AS \n",
    "RepeatedQuestions\n",
    "FROM Answer\n",
    "GROUP BY QuestionID;\n",
    "'''\n",
    "\n",
    "repeated_questions = pd.read_sql_query(query, conn)\n",
    "repeated_questions"
   ],
   "metadata": {
    "collapsed": false,
    "ExecuteTime": {
     "end_time": "2024-04-26T13:34:39.759544Z",
     "start_time": "2024-04-26T13:34:39.502191Z"
    }
   },
   "id": "50525ec0fbfc1f67",
   "execution_count": 109
  },
  {
   "cell_type": "code",
   "outputs": [
    {
     "data": {
      "text/plain": "<Axes: xlabel='RepeatedQuestions', ylabel='count'>"
     },
     "execution_count": 110,
     "metadata": {},
     "output_type": "execute_result"
    },
    {
     "data": {
      "text/plain": "<Figure size 500x400 with 1 Axes>",
      "image/png": "[encoded data removed]"
     },
     "metadata": {},
     "output_type": "display_data"
    }
   ],
   "source": [
    "plt.figure(figsize=(5, 4))\n",
    "sns.set_style(style='whitegrid')\n",
    "sns.countplot(data=repeated_questions, x='RepeatedQuestions')"
   ],
   "metadata": {
    "collapsed": false,
    "ExecuteTime": {
     "end_time": "2024-04-26T13:34:40.294778Z",
     "start_time": "2024-04-26T13:34:39.770171Z"
    }
   },
   "id": "a4ba99dde99516b9",
   "execution_count": 110
  },
  {
   "cell_type": "markdown",
   "source": [
    "3. Which survey did these questions belong to?"
   ],
   "metadata": {
    "collapsed": false
   },
   "id": "e0faa99e45f2ee70"
  },
  {
   "cell_type": "code",
   "outputs": [
    {
     "data": {
      "text/plain": "    SurveyID  QuestionID  TotalReplies\n14      2014          92          1260\n15      2014          93          1260\n16      2014          94          1260\n17      2014          95          1260\n18      2014          96          1260\n19      2014          97          1260\n20      2014          98          1260\n21      2014          99          1260\n22      2014         100          1260\n23      2014         101          1260\n24      2014         102          1260\n25      2014         103          1260\n71      2016         104          1433\n72      2016         105          1433\n73      2016         106          1433\n74      2016         107          1433\n75      2016         108          1433\n76      2016         109          1433\n77      2016         110          1433\n78      2016         111          1433\n79      2016         112          1433\n80      2016         113          1433\n81      2016         114          1433\n82      2016         115          2072\n83      2016         116          1793\n84      2016         117          2692\n85      2016         118          1433",
      "text/html": "<div>\n<style scoped>\n    .dataframe tbody tr th:only-of-type {\n        vertical-align: middle;\n    }\n\n    .dataframe tbody tr th {\n        vertical-align: top;\n    }\n\n    .dataframe thead th {\n        text-align: right;\n    }\n</style>\n<table border=\"1\" class=\"dataframe\">\n  <thead>\n    <tr style=\"text-align: right;\">\n      <th></th>\n      <th>SurveyID</th>\n      <th>QuestionID</th>\n      <th>TotalReplies</th>\n    </tr>\n  </thead>\n  <tbody>\n    <tr>\n      <th>14</th>\n      <td>2014</td>\n      <td>92</td>\n      <td>1260</td>\n    </tr>\n    <tr>\n      <th>15</th>\n      <td>2014</td>\n      <td>93</td>\n      <td>1260</td>\n    </tr>\n    <tr>\n      <th>16</th>\n      <td>2014</td>\n      <td>94</td>\n      <td>1260</td>\n    </tr>\n    <tr>\n      <th>17</th>\n      <td>2014</td>\n      <td>95</td>\n      <td>1260</td>\n    </tr>\n    <tr>\n      <th>18</th>\n      <td>2014</td>\n      <td>96</td>\n      <td>1260</td>\n    </tr>\n    <tr>\n      <th>19</th>\n      <td>2014</td>\n      <td>97</td>\n      <td>1260</td>\n    </tr>\n    <tr>\n      <th>20</th>\n      <td>2014</td>\n      <td>98</td>\n      <td>1260</td>\n    </tr>\n    <tr>\n      <th>21</th>\n      <td>2014</td>\n      <td>99</td>\n      <td>1260</td>\n    </tr>\n    <tr>\n      <th>22</th>\n      <td>2014</td>\n      <td>100</td>\n      <td>1260</td>\n    </tr>\n    <tr>\n      <th>23</th>\n      <td>2014</td>\n      <td>101</td>\n      <td>1260</td>\n    </tr>\n    <tr>\n      <th>24</th>\n      <td>2014</td>\n      <td>102</td>\n      <td>1260</td>\n    </tr>\n    <tr>\n      <th>25</th>\n      <td>2014</td>\n      <td>103</td>\n      <td>1260</td>\n    </tr>\n    <tr>\n      <th>71</th>\n      <td>2016</td>\n      <td>104</td>\n      <td>1433</td>\n    </tr>\n    <tr>\n      <th>72</th>\n      <td>2016</td>\n      <td>105</td>\n      <td>1433</td>\n    </tr>\n    <tr>\n      <th>73</th>\n      <td>2016</td>\n      <td>106</td>\n      <td>1433</td>\n    </tr>\n    <tr>\n      <th>74</th>\n      <td>2016</td>\n      <td>107</td>\n      <td>1433</td>\n    </tr>\n    <tr>\n      <th>75</th>\n      <td>2016</td>\n      <td>108</td>\n      <td>1433</td>\n    </tr>\n    <tr>\n      <th>76</th>\n      <td>2016</td>\n      <td>109</td>\n      <td>1433</td>\n    </tr>\n    <tr>\n      <th>77</th>\n      <td>2016</td>\n      <td>110</td>\n      <td>1433</td>\n    </tr>\n    <tr>\n      <th>78</th>\n      <td>2016</td>\n      <td>111</td>\n      <td>1433</td>\n    </tr>\n    <tr>\n      <th>79</th>\n      <td>2016</td>\n      <td>112</td>\n      <td>1433</td>\n    </tr>\n    <tr>\n      <th>80</th>\n      <td>2016</td>\n      <td>113</td>\n      <td>1433</td>\n    </tr>\n    <tr>\n      <th>81</th>\n      <td>2016</td>\n      <td>114</td>\n      <td>1433</td>\n    </tr>\n    <tr>\n      <th>82</th>\n      <td>2016</td>\n      <td>115</td>\n      <td>2072</td>\n    </tr>\n    <tr>\n      <th>83</th>\n      <td>2016</td>\n      <td>116</td>\n      <td>1793</td>\n    </tr>\n    <tr>\n      <th>84</th>\n      <td>2016</td>\n      <td>117</td>\n      <td>2692</td>\n    </tr>\n    <tr>\n      <th>85</th>\n      <td>2016</td>\n      <td>118</td>\n      <td>1433</td>\n    </tr>\n  </tbody>\n</table>\n</div>"
     },
     "execution_count": 111,
     "metadata": {},
     "output_type": "execute_result"
    }
   ],
   "source": [
    "questions_for_each_survey[questions_for_each_survey.QuestionID>91]"
   ],
   "metadata": {
    "collapsed": false,
    "ExecuteTime": {
     "end_time": "2024-04-26T13:34:40.315006Z",
     "start_time": "2024-04-26T13:34:40.297005Z"
    }
   },
   "id": "3b2c82a6e86494ab",
   "execution_count": 111
  },
  {
   "cell_type": "code",
   "outputs": [
    {
     "data": {
      "text/plain": "array([2014, 2016], dtype=int64)"
     },
     "execution_count": 112,
     "metadata": {},
     "output_type": "execute_result"
    }
   ],
   "source": [
    "questions_for_each_survey.SurveyID[(questions_for_each_survey.QuestionID==90)|\n",
    "(questions_for_each_survey.QuestionID==91)].unique()"
   ],
   "metadata": {
    "collapsed": false,
    "ExecuteTime": {
     "end_time": "2024-04-26T13:34:40.344065Z",
     "start_time": "2024-04-26T13:34:40.318006Z"
    }
   },
   "id": "2d19e83ed1cff20",
   "execution_count": 112
  },
  {
   "cell_type": "code",
   "outputs": [
    {
     "data": {
      "text/plain": "array([2017, 2018, 2019], dtype=int64)"
     },
     "execution_count": 113,
     "metadata": {},
     "output_type": "execute_result"
    }
   ],
   "source": [
    "questions_for_each_survey.SurveyID[(questions_for_each_survey.QuestionID>=57)&\n",
    "(questions_for_each_survey.QuestionID<=89)].unique()"
   ],
   "metadata": {
    "collapsed": false,
    "ExecuteTime": {
     "end_time": "2024-04-26T13:34:40.360771Z",
     "start_time": "2024-04-26T13:34:40.347545Z"
    }
   },
   "id": "b961a4c113a640ba",
   "execution_count": 113
  },
  {
   "cell_type": "code",
   "outputs": [
    {
     "data": {
      "text/plain": "array([2016, 2017, 2018, 2019], dtype=int64)"
     },
     "execution_count": 114,
     "metadata": {},
     "output_type": "execute_result"
    }
   ],
   "source": [
    "questions_for_each_survey.SurveyID[(questions_for_each_survey.QuestionID>=13)&\n",
    "(questions_for_each_survey.QuestionID<=56)].unique()"
   ],
   "metadata": {
    "collapsed": false,
    "ExecuteTime": {
     "end_time": "2024-04-26T13:34:40.375794Z",
     "start_time": "2024-04-26T13:34:40.364093Z"
    }
   },
   "id": "4d28fcc26bdf9579",
   "execution_count": 114
  },
  {
   "cell_type": "markdown",
   "source": [
    "Some questions from 2014 lasted until the 2019 survey.\n",
    "However, a lot from 2014 and 2016 were removed or replaced by new questions. \n",
    "2017, 2018 and 2019 share a lot of same questions, let's see if they are the \n",
    "same."
   ],
   "metadata": {
    "collapsed": false
   },
   "id": "7c7c9193ebde9918"
  },
  {
   "cell_type": "markdown",
   "source": [
    "4. Did the last 3 surveys have exactly the same questions?"
   ],
   "metadata": {
    "collapsed": false
   },
   "id": "e7f8d1300ff2a053"
  },
  {
   "cell_type": "code",
   "outputs": [
    {
     "name": "stdout",
     "output_type": "stream",
     "text": [
      "Does 2017 have the same questions as 2018?: True\n",
      "Does 2017 have the same questions as 2018?: True\n"
     ]
    }
   ],
   "source": [
    "questions_2017 = questions_for_each_survey[questions_for_each_survey['SurveyID'] == \n",
    "                    2017]['QuestionID']\n",
    "questions_2018 = questions_for_each_survey[questions_for_each_survey['SurveyID'] == 2018]['QuestionID']\n",
    "questions_2019 = questions_for_each_survey[questions_for_each_survey['SurveyID'] == 2019]['QuestionID']\n",
    "\n",
    "\n",
    "same_questions1718 = set(questions_2017) == set(questions_2018)\n",
    "same_questions1719 = set(questions_2017) == set(questions_2019)\n",
    "\n",
    "\n",
    "print(\"Does 2017 have the same questions as 2018?:\", same_questions1718)\n",
    "print(\"Does 2017 have the same questions as 2018?:\", same_questions1719)"
   ],
   "metadata": {
    "collapsed": false,
    "ExecuteTime": {
     "end_time": "2024-04-26T13:34:40.400883Z",
     "start_time": "2024-04-26T13:34:40.379081Z"
    }
   },
   "id": "ae876d33367cfefd",
   "execution_count": 115
  },
  {
   "cell_type": "markdown",
   "source": [
    "The surveys are the same. This will help analysis."
   ],
   "metadata": {
    "collapsed": false
   },
   "id": "fc76cdb70b488894"
  },
  {
   "cell_type": "markdown",
   "source": [
    "### 2.2.1 Insights\n",
    "We have located the questions that were repeated in all surveys and the \n",
    "surveys 2017, 2018, 2019 are the same. The focus of our analysis will be \n",
    "these questions."
   ],
   "metadata": {
    "collapsed": false
   },
   "id": "37896241273e87ee"
  },
  {
   "cell_type": "markdown",
   "source": [
    "# 3. Questions Available In All Surveys - Data Cleaning"
   ],
   "metadata": {
    "collapsed": false
   },
   "id": "29fa09f80db934f9"
  },
  {
   "cell_type": "code",
   "outputs": [
    {
     "data": {
      "text/plain": "     QuestionID  RepeatedQuestions  \\\n0             1                  5   \n1             2                  5   \n2             3                  5   \n3             4                  5   \n4             5                  5   \n..          ...                ...   \n100         114                  1   \n101         115                  1   \n102         116                  1   \n103         117                  1   \n104         118                  1   \n\n                                          questiontext  \n0                                    What is your age?  \n1                                 What is your gender?  \n2                         What country do you live in?  \n3    If you live in the United States, which state ...  \n4                               Are you self-employed?  \n..                                                 ...  \n100  Do you think that team members/co-workers woul...  \n101  If yes, what condition(s) have you been diagno...  \n102  If maybe, what condition(s) do you believe you...  \n103  Which of the following best describes your wor...  \n104                              Do you work remotely?  \n\n[105 rows x 3 columns]",
      "text/html": "<div>\n<style scoped>\n    .dataframe tbody tr th:only-of-type {\n        vertical-align: middle;\n    }\n\n    .dataframe tbody tr th {\n        vertical-align: top;\n    }\n\n    .dataframe thead th {\n        text-align: right;\n    }\n</style>\n<table border=\"1\" class=\"dataframe\">\n  <thead>\n    <tr style=\"text-align: right;\">\n      <th></th>\n      <th>QuestionID</th>\n      <th>RepeatedQuestions</th>\n      <th>questiontext</th>\n    </tr>\n  </thead>\n  <tbody>\n    <tr>\n      <th>0</th>\n      <td>1</td>\n      <td>5</td>\n      <td>What is your age?</td>\n    </tr>\n    <tr>\n      <th>1</th>\n      <td>2</td>\n      <td>5</td>\n      <td>What is your gender?</td>\n    </tr>\n    <tr>\n      <th>2</th>\n      <td>3</td>\n      <td>5</td>\n      <td>What country do you live in?</td>\n    </tr>\n    <tr>\n      <th>3</th>\n      <td>4</td>\n      <td>5</td>\n      <td>If you live in the United States, which state ...</td>\n    </tr>\n    <tr>\n      <th>4</th>\n      <td>5</td>\n      <td>5</td>\n      <td>Are you self-employed?</td>\n    </tr>\n    <tr>\n      <th>...</th>\n      <td>...</td>\n      <td>...</td>\n      <td>...</td>\n    </tr>\n    <tr>\n      <th>100</th>\n      <td>114</td>\n      <td>1</td>\n      <td>Do you think that team members/co-workers woul...</td>\n    </tr>\n    <tr>\n      <th>101</th>\n      <td>115</td>\n      <td>1</td>\n      <td>If yes, what condition(s) have you been diagno...</td>\n    </tr>\n    <tr>\n      <th>102</th>\n      <td>116</td>\n      <td>1</td>\n      <td>If maybe, what condition(s) do you believe you...</td>\n    </tr>\n    <tr>\n      <th>103</th>\n      <td>117</td>\n      <td>1</td>\n      <td>Which of the following best describes your wor...</td>\n    </tr>\n    <tr>\n      <th>104</th>\n      <td>118</td>\n      <td>1</td>\n      <td>Do you work remotely?</td>\n    </tr>\n  </tbody>\n</table>\n<p>105 rows × 3 columns</p>\n</div>"
     },
     "execution_count": 116,
     "metadata": {},
     "output_type": "execute_result"
    }
   ],
   "source": [
    "combined_df = repeated_questions.merge(question_df, on='QuestionID')\n",
    "combined_df"
   ],
   "metadata": {
    "collapsed": false,
    "ExecuteTime": {
     "end_time": "2024-04-26T13:34:40.428926Z",
     "start_time": "2024-04-26T13:34:40.404398Z"
    }
   },
   "id": "57f4a476f6236da5",
   "execution_count": 116
  },
  {
   "cell_type": "code",
   "outputs": [
    {
     "data": {
      "text/plain": "    QuestionID  RepeatedQuestions  \\\n0            1                  5   \n1            2                  5   \n2            3                  5   \n3            4                  5   \n4            5                  5   \n5            6                  5   \n6            7                  5   \n7            8                  5   \n8            9                  5   \n9           10                  5   \n10          11                  5   \n11          12                  5   \n\n                                         questiontext  \n0                                   What is your age?  \n1                                What is your gender?  \n2                        What country do you live in?  \n3   If you live in the United States, which state ...  \n4                              Are you self-employed?  \n5     Do you have a family history of mental illness?  \n6   Have you ever sought treatment for a mental he...  \n7   How many employees does your company or organi...  \n8   Is your employer primarily a tech company/orga...  \n9   Does your employer provide mental health benef...  \n10  Is your anonymity protected if you choose to t...  \n11  Would you bring up a mental health issue with ...  ",
      "text/html": "<div>\n<style scoped>\n    .dataframe tbody tr th:only-of-type {\n        vertical-align: middle;\n    }\n\n    .dataframe tbody tr th {\n        vertical-align: top;\n    }\n\n    .dataframe thead th {\n        text-align: right;\n    }\n</style>\n<table border=\"1\" class=\"dataframe\">\n  <thead>\n    <tr style=\"text-align: right;\">\n      <th></th>\n      <th>QuestionID</th>\n      <th>RepeatedQuestions</th>\n      <th>questiontext</th>\n    </tr>\n  </thead>\n  <tbody>\n    <tr>\n      <th>0</th>\n      <td>1</td>\n      <td>5</td>\n      <td>What is your age?</td>\n    </tr>\n    <tr>\n      <th>1</th>\n      <td>2</td>\n      <td>5</td>\n      <td>What is your gender?</td>\n    </tr>\n    <tr>\n      <th>2</th>\n      <td>3</td>\n      <td>5</td>\n      <td>What country do you live in?</td>\n    </tr>\n    <tr>\n      <th>3</th>\n      <td>4</td>\n      <td>5</td>\n      <td>If you live in the United States, which state ...</td>\n    </tr>\n    <tr>\n      <th>4</th>\n      <td>5</td>\n      <td>5</td>\n      <td>Are you self-employed?</td>\n    </tr>\n    <tr>\n      <th>5</th>\n      <td>6</td>\n      <td>5</td>\n      <td>Do you have a family history of mental illness?</td>\n    </tr>\n    <tr>\n      <th>6</th>\n      <td>7</td>\n      <td>5</td>\n      <td>Have you ever sought treatment for a mental he...</td>\n    </tr>\n    <tr>\n      <th>7</th>\n      <td>8</td>\n      <td>5</td>\n      <td>How many employees does your company or organi...</td>\n    </tr>\n    <tr>\n      <th>8</th>\n      <td>9</td>\n      <td>5</td>\n      <td>Is your employer primarily a tech company/orga...</td>\n    </tr>\n    <tr>\n      <th>9</th>\n      <td>10</td>\n      <td>5</td>\n      <td>Does your employer provide mental health benef...</td>\n    </tr>\n    <tr>\n      <th>10</th>\n      <td>11</td>\n      <td>5</td>\n      <td>Is your anonymity protected if you choose to t...</td>\n    </tr>\n    <tr>\n      <th>11</th>\n      <td>12</td>\n      <td>5</td>\n      <td>Would you bring up a mental health issue with ...</td>\n    </tr>\n  </tbody>\n</table>\n</div>"
     },
     "execution_count": 117,
     "metadata": {},
     "output_type": "execute_result"
    }
   ],
   "source": [
    "questions_in_all_surveys = combined_df[combined_df.RepeatedQuestions==5]\n",
    "questions_in_all_surveys"
   ],
   "metadata": {
    "collapsed": false,
    "ExecuteTime": {
     "end_time": "2024-04-26T13:34:40.454373Z",
     "start_time": "2024-04-26T13:34:40.432363Z"
    }
   },
   "id": "61cf2ad2dcaa4c6b",
   "execution_count": 117
  },
  {
   "cell_type": "code",
   "outputs": [
    {
     "data": {
      "text/plain": "         AnswerText  SurveyID  UserID  QuestionID\n0                37      2014       1           1\n1                44      2014       2           1\n2                32      2014       3           1\n3                31      2014       4           1\n4                31      2014       5           1\n...             ...       ...     ...         ...\n46393  I don't know      2019    4214          11\n46394            -1      2019    4215          11\n46395            -1      2019    4216          11\n46396           Yes      2019    4217          11\n46397           Yes      2019    4218          11\n\n[46398 rows x 4 columns]",
      "text/html": "<div>\n<style scoped>\n    .dataframe tbody tr th:only-of-type {\n        vertical-align: middle;\n    }\n\n    .dataframe tbody tr th {\n        vertical-align: top;\n    }\n\n    .dataframe thead th {\n        text-align: right;\n    }\n</style>\n<table border=\"1\" class=\"dataframe\">\n  <thead>\n    <tr style=\"text-align: right;\">\n      <th></th>\n      <th>AnswerText</th>\n      <th>SurveyID</th>\n      <th>UserID</th>\n      <th>QuestionID</th>\n    </tr>\n  </thead>\n  <tbody>\n    <tr>\n      <th>0</th>\n      <td>37</td>\n      <td>2014</td>\n      <td>1</td>\n      <td>1</td>\n    </tr>\n    <tr>\n      <th>1</th>\n      <td>44</td>\n      <td>2014</td>\n      <td>2</td>\n      <td>1</td>\n    </tr>\n    <tr>\n      <th>2</th>\n      <td>32</td>\n      <td>2014</td>\n      <td>3</td>\n      <td>1</td>\n    </tr>\n    <tr>\n      <th>3</th>\n      <td>31</td>\n      <td>2014</td>\n      <td>4</td>\n      <td>1</td>\n    </tr>\n    <tr>\n      <th>4</th>\n      <td>31</td>\n      <td>2014</td>\n      <td>5</td>\n      <td>1</td>\n    </tr>\n    <tr>\n      <th>...</th>\n      <td>...</td>\n      <td>...</td>\n      <td>...</td>\n      <td>...</td>\n    </tr>\n    <tr>\n      <th>46393</th>\n      <td>I don't know</td>\n      <td>2019</td>\n      <td>4214</td>\n      <td>11</td>\n    </tr>\n    <tr>\n      <th>46394</th>\n      <td>-1</td>\n      <td>2019</td>\n      <td>4215</td>\n      <td>11</td>\n    </tr>\n    <tr>\n      <th>46395</th>\n      <td>-1</td>\n      <td>2019</td>\n      <td>4216</td>\n      <td>11</td>\n    </tr>\n    <tr>\n      <th>46396</th>\n      <td>Yes</td>\n      <td>2019</td>\n      <td>4217</td>\n      <td>11</td>\n    </tr>\n    <tr>\n      <th>46397</th>\n      <td>Yes</td>\n      <td>2019</td>\n      <td>4218</td>\n      <td>11</td>\n    </tr>\n  </tbody>\n</table>\n<p>46398 rows × 4 columns</p>\n</div>"
     },
     "execution_count": 118,
     "metadata": {},
     "output_type": "execute_result"
    }
   ],
   "source": [
    "query = '''SELECT *\n",
    "FROM Answer\n",
    "WHERE QuestionID<12;\n",
    "'''\n",
    "\n",
    "answer_df_questions_all_survey = pd.read_sql_query(query, conn)\n",
    "answer_df_questions_all_survey"
   ],
   "metadata": {
    "collapsed": false,
    "ExecuteTime": {
     "end_time": "2024-04-26T13:34:40.746480Z",
     "start_time": "2024-04-26T13:34:40.458368Z"
    }
   },
   "id": "366f0c7e3360059d",
   "execution_count": 118
  },
  {
   "cell_type": "markdown",
   "source": [
    "## 3.1 Prepare Datasets\n",
    "Objective:\n",
    "Separate the data into one dataset per survey question.\n",
    "Adjust data of each dataset depending on the type of AnswerText."
   ],
   "metadata": {
    "collapsed": false
   },
   "id": "ccc5697242e2aa8d"
  },
  {
   "cell_type": "markdown",
   "source": [
    "Create separate dataframes for each question, so each can be separately \n",
    "treated."
   ],
   "metadata": {
    "collapsed": false
   },
   "id": "e4e15d2137a52665"
  },
  {
   "cell_type": "code",
   "outputs": [],
   "source": [
    "questions = []\n",
    "\n",
    "for i in range(questions_in_all_surveys.QuestionID.size):\n",
    "                                   \n",
    "    query = f'''\n",
    "    SELECT *\n",
    "    FROM Answer\n",
    "    WHERE QuestionID={i+1};\n",
    "    '''\n",
    "    question = pd.read_sql_query(query, conn)\n",
    "    questions.append(question)"
   ],
   "metadata": {
    "collapsed": false,
    "ExecuteTime": {
     "end_time": "2024-04-26T13:34:41.743620Z",
     "start_time": "2024-04-26T13:34:40.751475Z"
    }
   },
   "id": "45ef5d74b0da0a00",
   "execution_count": 119
  },
  {
   "cell_type": "markdown",
   "source": [
    "### 3.1.1 QuestionID 1"
   ],
   "metadata": {
    "collapsed": false
   },
   "id": "174c9e66863c7fa8"
  },
  {
   "cell_type": "markdown",
   "source": [
    "Question 1 answers are numbers but are typed as object. Let's change it to \n",
    "numeric."
   ],
   "metadata": {
    "collapsed": false
   },
   "id": "2e0f7ba569a4c8b6"
  },
  {
   "cell_type": "code",
   "outputs": [],
   "source": [
    "questions[0]['AnswerText'] = pd.to_numeric(questions[0]['AnswerText'], \n",
    "                                            errors='coerce')"
   ],
   "metadata": {
    "collapsed": false,
    "ExecuteTime": {
     "end_time": "2024-04-26T13:34:41.764383Z",
     "start_time": "2024-04-26T13:34:41.748010Z"
    }
   },
   "id": "4f4b19114156d493",
   "execution_count": 120
  },
  {
   "cell_type": "markdown",
   "source": [
    "The age range is huge, with meaningless min and max values."
   ],
   "metadata": {
    "collapsed": false
   },
   "id": "e4261d7289fdda7e"
  },
  {
   "cell_type": "code",
   "outputs": [
    {
     "data": {
      "text/plain": "        AnswerText     SurveyID       UserID  QuestionID\ncount  4218.000000  4218.000000  4218.000000      4218.0\nmean     33.915363  2016.029872  2109.500000         1.0\nstd      10.478054     1.587555  1217.776047         0.0\nmin     -29.000000  2014.000000     1.000000         1.0\n25%      28.000000  2014.000000  1055.250000         1.0\n50%      33.000000  2016.000000  2109.500000         1.0\n75%      38.000000  2017.000000  3163.750000         1.0\nmax     329.000000  2019.000000  4218.000000         1.0",
      "text/html": "<div>\n<style scoped>\n    .dataframe tbody tr th:only-of-type {\n        vertical-align: middle;\n    }\n\n    .dataframe tbody tr th {\n        vertical-align: top;\n    }\n\n    .dataframe thead th {\n        text-align: right;\n    }\n</style>\n<table border=\"1\" class=\"dataframe\">\n  <thead>\n    <tr style=\"text-align: right;\">\n      <th></th>\n      <th>AnswerText</th>\n      <th>SurveyID</th>\n      <th>UserID</th>\n      <th>QuestionID</th>\n    </tr>\n  </thead>\n  <tbody>\n    <tr>\n      <th>count</th>\n      <td>4218.000000</td>\n      <td>4218.000000</td>\n      <td>4218.000000</td>\n      <td>4218.0</td>\n    </tr>\n    <tr>\n      <th>mean</th>\n      <td>33.915363</td>\n      <td>2016.029872</td>\n      <td>2109.500000</td>\n      <td>1.0</td>\n    </tr>\n    <tr>\n      <th>std</th>\n      <td>10.478054</td>\n      <td>1.587555</td>\n      <td>1217.776047</td>\n      <td>0.0</td>\n    </tr>\n    <tr>\n      <th>min</th>\n      <td>-29.000000</td>\n      <td>2014.000000</td>\n      <td>1.000000</td>\n      <td>1.0</td>\n    </tr>\n    <tr>\n      <th>25%</th>\n      <td>28.000000</td>\n      <td>2014.000000</td>\n      <td>1055.250000</td>\n      <td>1.0</td>\n    </tr>\n    <tr>\n      <th>50%</th>\n      <td>33.000000</td>\n      <td>2016.000000</td>\n      <td>2109.500000</td>\n      <td>1.0</td>\n    </tr>\n    <tr>\n      <th>75%</th>\n      <td>38.000000</td>\n      <td>2017.000000</td>\n      <td>3163.750000</td>\n      <td>1.0</td>\n    </tr>\n    <tr>\n      <th>max</th>\n      <td>329.000000</td>\n      <td>2019.000000</td>\n      <td>4218.000000</td>\n      <td>1.0</td>\n    </tr>\n  </tbody>\n</table>\n</div>"
     },
     "execution_count": 121,
     "metadata": {},
     "output_type": "execute_result"
    }
   ],
   "source": [
    "questions[0].describe()"
   ],
   "metadata": {
    "collapsed": false,
    "ExecuteTime": {
     "end_time": "2024-04-26T13:34:41.810613Z",
     "start_time": "2024-04-26T13:34:41.769375Z"
    }
   },
   "id": "2b682df24b15bbce",
   "execution_count": 121
  },
  {
   "cell_type": "markdown",
   "source": [
    "Since many countries worldwide allow only 14 or above years olds to work, \n",
    "any answers under 14 and over 85 are most likely typo or users refusing to \n",
    "reveal their age. Therefor are considered None. "
   ],
   "metadata": {
    "collapsed": false
   },
   "id": "915d95f32dfac223"
  },
  {
   "cell_type": "code",
   "outputs": [],
   "source": [
    "questions[0]['AnswerText'] = (questions[0]['AnswerText']\n",
    "                                      .apply(lambda x: x if 14<=x<=85 else \n",
    "None))"
   ],
   "metadata": {
    "collapsed": false,
    "ExecuteTime": {
     "end_time": "2024-04-26T13:34:41.824897Z",
     "start_time": "2024-04-26T13:34:41.813866Z"
    }
   },
   "id": "b41b8e961735a512",
   "execution_count": 122
  },
  {
   "cell_type": "markdown",
   "source": [
    "### 3.1.2 QuestionID 2"
   ],
   "metadata": {
    "collapsed": false
   },
   "id": "8fdd8b6aeeac8d8c"
  },
  {
   "cell_type": "markdown",
   "source": [
    "Answers for this question include 'female', 'male', '-1' and a variety of \n",
    "genders. \n",
    "Due to the wide range of different answers, '-1' is considered *None*\n",
    " and any other than 'female' and 'male' are 'other'."
   ],
   "metadata": {
    "collapsed": false
   },
   "id": "2614a94af6d7e2f7"
  },
  {
   "cell_type": "code",
   "outputs": [],
   "source": [
    "questions[1]['AnswerText'] = questions[1]['AnswerText'].str.lower()\n",
    "questions[1]['AnswerText'] = questions[1]['AnswerText'].apply(lambda x: None\n",
    "if x=='-1' else (x if x in ['female', 'male'] else 'other'))"
   ],
   "metadata": {
    "collapsed": false,
    "ExecuteTime": {
     "end_time": "2024-04-26T13:34:41.847163Z",
     "start_time": "2024-04-26T13:34:41.828150Z"
    }
   },
   "id": "19915b50a04baab",
   "execution_count": 123
  },
  {
   "cell_type": "markdown",
   "source": [
    "### 3.1.3 QuestionID 3"
   ],
   "metadata": {
    "collapsed": false
   },
   "id": "1067cbf1b1e0026a"
  },
  {
   "cell_type": "markdown",
   "source": [
    "Replaced repeated country name written in different formats and considered \n",
    "'-1' values as 'None'"
   ],
   "metadata": {
    "collapsed": false
   },
   "id": "4d81c0933989afcd"
  },
  {
   "cell_type": "code",
   "outputs": [],
   "source": [
    "questions[2]['AnswerText'] = questions[2]['AnswerText'].replace('-1', None)\n",
    "questions[2]['AnswerText'] = questions[2]['AnswerText'].replace('United '\n",
    "                                                                'States', 'United States of America')"
   ],
   "metadata": {
    "collapsed": false,
    "ExecuteTime": {
     "end_time": "2024-04-26T13:34:41.860865Z",
     "start_time": "2024-04-26T13:34:41.849351Z"
    }
   },
   "id": "5704b0fc8dd0e4ba",
   "execution_count": 124
  },
  {
   "cell_type": "markdown",
   "source": [
    "### 3.1.4 QuestionID 4"
   ],
   "metadata": {
    "collapsed": false
   },
   "id": "e425c3bf0a1d3ee5"
  },
  {
   "cell_type": "markdown",
   "source": [
    "Replaced repeated state names written in different formats and considered \n",
    "'-1' values as 'None'"
   ],
   "metadata": {
    "collapsed": false
   },
   "id": "4c6ad5a82e5269b1"
  },
  {
   "cell_type": "code",
   "outputs": [],
   "source": [
    "questions[3]['AnswerText'] = questions[3]['AnswerText'].replace('-1', None)\n",
    "questions[3]['AnswerText'] = questions[3]['AnswerText'].replace('DC', \n",
    "                                                                'District of Columbia')"
   ],
   "metadata": {
    "collapsed": false,
    "ExecuteTime": {
     "end_time": "2024-04-26T13:34:41.885194Z",
     "start_time": "2024-04-26T13:34:41.863875Z"
    }
   },
   "id": "d0e9626ad6cf6f43",
   "execution_count": 125
  },
  {
   "cell_type": "markdown",
   "source": [
    "### 3.1.5 QuestionID 5"
   ],
   "metadata": {
    "collapsed": false
   },
   "id": "57ef79fe69b1668e"
  },
  {
   "cell_type": "markdown",
   "source": [
    "Consider\n",
    "-1: None\n",
    "1: True\n",
    "0: False"
   ],
   "metadata": {
    "collapsed": false
   },
   "id": "3c672a2adb63ad81"
  },
  {
   "cell_type": "code",
   "outputs": [],
   "source": [
    "def to_boolean_none(x):\n",
    "    if x == -1:\n",
    "        return None \n",
    "    elif x == 1:\n",
    "        return True\n",
    "    elif x == 0:\n",
    "        return False\n",
    "    else:\n",
    "        return x\n",
    "\n",
    "questions[4]['AnswerText'] = pd.to_numeric(questions[4]['AnswerText'], \n",
    "                                            errors='coerce')\n",
    "questions[4]['AnswerText'] = (questions[4]['AnswerText'].apply\n",
    "                              (to_boolean_none))"
   ],
   "metadata": {
    "collapsed": false,
    "ExecuteTime": {
     "end_time": "2024-04-26T13:34:41.908271Z",
     "start_time": "2024-04-26T13:34:41.887197Z"
    }
   },
   "id": "9c4c56cf897332ad",
   "execution_count": 126
  },
  {
   "cell_type": "markdown",
   "source": [
    "### 3.1.6 QuestionID 6"
   ],
   "metadata": {
    "collapsed": false
   },
   "id": "cf783b6e28054ef2"
  },
  {
   "cell_type": "markdown",
   "source": [
    "Consider\n",
    "-1: None\n",
    "Yes: True\n",
    "No: False"
   ],
   "metadata": {
    "collapsed": false
   },
   "id": "1d2357d7c4144c02"
  },
  {
   "cell_type": "code",
   "outputs": [],
   "source": [
    "def yes_no_to_boolean(x):\n",
    "    if x == '-1':\n",
    "        return None \n",
    "    elif x == 'Yes':\n",
    "        return True\n",
    "    elif x == 'No':\n",
    "        return False\n",
    "    else:\n",
    "        return x\n",
    "    \n",
    "questions[5]['AnswerText'] = (questions[5]['AnswerText'].apply\n",
    "                              (yes_no_to_boolean))"
   ],
   "metadata": {
    "collapsed": false,
    "ExecuteTime": {
     "end_time": "2024-04-26T13:34:41.926451Z",
     "start_time": "2024-04-26T13:34:41.911407Z"
    }
   },
   "id": "9c9070f6a3b983fd",
   "execution_count": 127
  },
  {
   "cell_type": "markdown",
   "source": [
    "### 3.1.7 QuestionID 7"
   ],
   "metadata": {
    "collapsed": false
   },
   "id": "bd854e35b79da6de"
  },
  {
   "cell_type": "markdown",
   "source": [
    "Consider\n",
    "-1: None\n",
    "1: True\n",
    "0: False"
   ],
   "metadata": {
    "collapsed": false
   },
   "id": "79f1d8df273da197"
  },
  {
   "cell_type": "code",
   "outputs": [],
   "source": [
    "questions[6]['AnswerText'] = pd.to_numeric(questions[6]['AnswerText'], \n",
    "                                            errors='coerce')\n",
    "questions[6]['AnswerText'] = (questions[6]['AnswerText'].apply\n",
    "                              (to_boolean_none))"
   ],
   "metadata": {
    "collapsed": false,
    "ExecuteTime": {
     "end_time": "2024-04-26T13:34:41.954138Z",
     "start_time": "2024-04-26T13:34:41.930473Z"
    }
   },
   "id": "3694cc643372a743",
   "execution_count": 128
  },
  {
   "cell_type": "markdown",
   "source": [
    "### 3.1.8 QuestionID 8"
   ],
   "metadata": {
    "collapsed": false
   },
   "id": "88e0ac31f31aa797"
  },
  {
   "cell_type": "code",
   "outputs": [],
   "source": [
    "questions[7]['AnswerText'] = questions[7]['AnswerText'].replace('-1', None)"
   ],
   "metadata": {
    "collapsed": false,
    "ExecuteTime": {
     "end_time": "2024-04-26T13:34:41.966654Z",
     "start_time": "2024-04-26T13:34:41.957346Z"
    }
   },
   "id": "56efd258661a06d5",
   "execution_count": 129
  },
  {
   "cell_type": "markdown",
   "source": [
    "### 3.1.9 QuestionID 9"
   ],
   "metadata": {
    "collapsed": false
   },
   "id": "8d92a8873653a632"
  },
  {
   "cell_type": "markdown",
   "source": [
    "Consider\n",
    "-1: None\n",
    "1: True\n",
    "0: False"
   ],
   "metadata": {
    "collapsed": false
   },
   "id": "75fe8e48ad37a49f"
  },
  {
   "cell_type": "code",
   "outputs": [],
   "source": [
    "questions[8]['AnswerText'] = pd.to_numeric(questions[8]['AnswerText'], \n",
    "                                            errors='coerce')\n",
    "questions[8]['AnswerText'] = (questions[8]['AnswerText'].apply\n",
    "                              (to_boolean_none))"
   ],
   "metadata": {
    "collapsed": false,
    "ExecuteTime": {
     "end_time": "2024-04-26T13:34:41.994404Z",
     "start_time": "2024-04-26T13:34:41.971702Z"
    }
   },
   "id": "7cede1758a6faf0e",
   "execution_count": 130
  },
  {
   "cell_type": "markdown",
   "source": [
    "### 3.1.10 QuestionID 10"
   ],
   "metadata": {
    "collapsed": false
   },
   "id": "98b0054172e1ba8"
  },
  {
   "cell_type": "markdown",
   "source": [
    "Consider\n",
    "-1: None\n",
    "Yes: True\n",
    "No: False"
   ],
   "metadata": {
    "collapsed": false
   },
   "id": "487295c19282b286"
  },
  {
   "cell_type": "code",
   "outputs": [],
   "source": [
    "questions[9]['AnswerText'] = questions[9]['AnswerText'].replace(\"Don't \"\n",
    "                                                                \"know\", \"I don't know\")\n",
    "questions[9]['AnswerText'] = (questions[9]['AnswerText'].apply\n",
    "                              (yes_no_to_boolean))"
   ],
   "metadata": {
    "collapsed": false,
    "ExecuteTime": {
     "end_time": "2024-04-26T13:34:42.018463Z",
     "start_time": "2024-04-26T13:34:41.999550Z"
    }
   },
   "id": "4769e19244828c5b",
   "execution_count": 131
  },
  {
   "cell_type": "markdown",
   "source": [
    "### 3.1.11 QuestionID 11"
   ],
   "metadata": {
    "collapsed": false
   },
   "id": "4d9317f49ea22a6f"
  },
  {
   "cell_type": "markdown",
   "source": [
    "Consider\n",
    "-1: None\n",
    "Yes: True\n",
    "No: False"
   ],
   "metadata": {
    "collapsed": false
   },
   "id": "3cfe6d533676c620"
  },
  {
   "cell_type": "code",
   "outputs": [],
   "source": [
    "questions[10]['AnswerText'] = (questions[10]['AnswerText'].apply\n",
    "                              (yes_no_to_boolean))\n",
    "questions[10]['AnswerText'] = questions[10]['AnswerText'].replace(\"Don't \"\n",
    "                                                                \"know\", \"I don't know\")"
   ],
   "metadata": {
    "collapsed": false,
    "ExecuteTime": {
     "end_time": "2024-04-26T13:34:42.038649Z",
     "start_time": "2024-04-26T13:34:42.023459Z"
    }
   },
   "id": "4bb3764701037b07",
   "execution_count": 132
  },
  {
   "cell_type": "markdown",
   "source": [
    "### 3.1.12 QuestionID 12"
   ],
   "metadata": {
    "collapsed": false
   },
   "id": "93afdaa9a33e8fb1"
  },
  {
   "cell_type": "markdown",
   "source": [
    "Consider\n",
    "-1: None\n",
    "Yes: True\n",
    "No: False"
   ],
   "metadata": {
    "collapsed": false
   },
   "id": "14e72cdb57ce0ec5"
  },
  {
   "cell_type": "code",
   "outputs": [],
   "source": [
    "questions[11]['AnswerText'] = (questions[11]['AnswerText'].apply\n",
    "                              (yes_no_to_boolean))"
   ],
   "metadata": {
    "collapsed": false,
    "ExecuteTime": {
     "end_time": "2024-04-26T13:34:42.060104Z",
     "start_time": "2024-04-26T13:34:42.041807Z"
    }
   },
   "id": "cc27ae114fb49228",
   "execution_count": 133
  },
  {
   "cell_type": "markdown",
   "source": [
    "## 3.2 Available Data\n",
    "Objective: Calculate, visualize and understand available data for each \n",
    "question."
   ],
   "metadata": {
    "collapsed": false
   },
   "id": "61652400af82a9f3"
  },
  {
   "cell_type": "markdown",
   "source": [
    "Calculate available data(answers) for each question."
   ],
   "metadata": {
    "collapsed": false
   },
   "id": "f712601790ff5f47"
  },
  {
   "cell_type": "code",
   "outputs": [
    {
     "data": {
      "text/plain": "   QuestionID  Available Data (%)\n0           1           99.668089\n1           2           99.431010\n2           3           99.952584\n3           4           61.545756\n4           5           99.573257\n5           6          100.000000\n6           7          100.000000\n7           8           88.051209\n8           9           88.051209\n9          10           88.051209\n10         11           88.051209\n11         12          100.000000",
      "text/html": "<div>\n<style scoped>\n    .dataframe tbody tr th:only-of-type {\n        vertical-align: middle;\n    }\n\n    .dataframe tbody tr th {\n        vertical-align: top;\n    }\n\n    .dataframe thead th {\n        text-align: right;\n    }\n</style>\n<table border=\"1\" class=\"dataframe\">\n  <thead>\n    <tr style=\"text-align: right;\">\n      <th></th>\n      <th>QuestionID</th>\n      <th>Available Data (%)</th>\n    </tr>\n  </thead>\n  <tbody>\n    <tr>\n      <th>0</th>\n      <td>1</td>\n      <td>99.668089</td>\n    </tr>\n    <tr>\n      <th>1</th>\n      <td>2</td>\n      <td>99.431010</td>\n    </tr>\n    <tr>\n      <th>2</th>\n      <td>3</td>\n      <td>99.952584</td>\n    </tr>\n    <tr>\n      <th>3</th>\n      <td>4</td>\n      <td>61.545756</td>\n    </tr>\n    <tr>\n      <th>4</th>\n      <td>5</td>\n      <td>99.573257</td>\n    </tr>\n    <tr>\n      <th>5</th>\n      <td>6</td>\n      <td>100.000000</td>\n    </tr>\n    <tr>\n      <th>6</th>\n      <td>7</td>\n      <td>100.000000</td>\n    </tr>\n    <tr>\n      <th>7</th>\n      <td>8</td>\n      <td>88.051209</td>\n    </tr>\n    <tr>\n      <th>8</th>\n      <td>9</td>\n      <td>88.051209</td>\n    </tr>\n    <tr>\n      <th>9</th>\n      <td>10</td>\n      <td>88.051209</td>\n    </tr>\n    <tr>\n      <th>10</th>\n      <td>11</td>\n      <td>88.051209</td>\n    </tr>\n    <tr>\n      <th>11</th>\n      <td>12</td>\n      <td>100.000000</td>\n    </tr>\n  </tbody>\n</table>\n</div>"
     },
     "execution_count": 134,
     "metadata": {},
     "output_type": "execute_result"
    }
   ],
   "source": [
    "available_data = [(1 - questions[i]['AnswerText'].isnull().mean()) * 100 for i in range(len(questions))]\n",
    "\n",
    "QuestionID = [f'{i+1}' for i in range(len(questions))]\n",
    "\n",
    "available_data_df = pd.DataFrame({\n",
    "    'QuestionID': QuestionID,\n",
    "    'Available Data (%)': available_data\n",
    "})\n",
    "available_data_df"
   ],
   "metadata": {
    "collapsed": false,
    "ExecuteTime": {
     "end_time": "2024-04-26T13:34:42.128588Z",
     "start_time": "2024-04-26T13:34:42.078208Z"
    }
   },
   "id": "389ae1c00caad9f2",
   "execution_count": 134
  },
  {
   "cell_type": "markdown",
   "source": [
    "Plot available data"
   ],
   "metadata": {
    "collapsed": false
   },
   "id": "16495ad5a129c558"
  },
  {
   "cell_type": "code",
   "outputs": [
    {
     "data": {
      "text/plain": "Text(0.5, 1.0, 'Percentage of Available Data by Question')"
     },
     "execution_count": 135,
     "metadata": {},
     "output_type": "execute_result"
    },
    {
     "data": {
      "text/plain": "<Figure size 500x400 with 1 Axes>",
      "image/png": "[encoded data removed]"
     },
     "metadata": {},
     "output_type": "display_data"
    }
   ],
   "source": [
    "plt.figure(figsize=(5, 4))\n",
    "sns.set_style(style='whitegrid')\n",
    "sns.barplot(data=available_data_df, x='Available Data (%)', \n",
    "            y='QuestionID')\n",
    "plt.title('Percentage of Available Data by Question')"
   ],
   "metadata": {
    "collapsed": false,
    "ExecuteTime": {
     "end_time": "2024-04-26T13:34:43.124231Z",
     "start_time": "2024-04-26T13:34:42.133391Z"
    }
   },
   "id": "16ef6cb75486ba7",
   "execution_count": 135
  },
  {
   "cell_type": "markdown",
   "source": [
    "### 3.2.1 Insights"
   ],
   "metadata": {
    "collapsed": false
   },
   "id": "b69774d27059236c"
  },
  {
   "cell_type": "markdown",
   "source": [
    "QuestionID 4 has the most missing data, which is possible due to the nature \n",
    "of the question 'If you live in the United States, which state or territory \n",
    "do you live in?'. Users who do not live in the US, would have avoided the \n",
    "question. \n",
    "For the purpose of exploratory data analysis and to avoid bias, missing data\n",
    "will be preserved in our dataset."
   ],
   "metadata": {
    "collapsed": false
   },
   "id": "317ee24857c231ec"
  },
  {
   "cell_type": "markdown",
   "source": [
    "## 3.3 User Description\n",
    "Objective: \n",
    "Understand who is answering these surveys, the background of our \n",
    "users, from questions ID 1-9."
   ],
   "metadata": {
    "collapsed": false
   },
   "id": "ba46382779eb6bd1"
  },
  {
   "cell_type": "markdown",
   "source": [
    "**QuestionID 1: What is your age?**"
   ],
   "metadata": {
    "collapsed": false
   },
   "id": "ca14845162d50864"
  },
  {
   "cell_type": "code",
   "outputs": [
    {
     "data": {
      "text/plain": "        AnswerText     SurveyID       UserID  QuestionID\ncount  4204.000000  4218.000000  4218.000000      4218.0\nmean     33.851332  2016.029872  2109.500000         1.0\nstd       8.072537     1.587555  1217.776047         0.0\nmin      15.000000  2014.000000     1.000000         1.0\n25%      28.000000  2014.000000  1055.250000         1.0\n50%      33.000000  2016.000000  2109.500000         1.0\n75%      38.000000  2017.000000  3163.750000         1.0\nmax      74.000000  2019.000000  4218.000000         1.0",
      "text/html": "<div>\n<style scoped>\n    .dataframe tbody tr th:only-of-type {\n        vertical-align: middle;\n    }\n\n    .dataframe tbody tr th {\n        vertical-align: top;\n    }\n\n    .dataframe thead th {\n        text-align: right;\n    }\n</style>\n<table border=\"1\" class=\"dataframe\">\n  <thead>\n    <tr style=\"text-align: right;\">\n      <th></th>\n      <th>AnswerText</th>\n      <th>SurveyID</th>\n      <th>UserID</th>\n      <th>QuestionID</th>\n    </tr>\n  </thead>\n  <tbody>\n    <tr>\n      <th>count</th>\n      <td>4204.000000</td>\n      <td>4218.000000</td>\n      <td>4218.000000</td>\n      <td>4218.0</td>\n    </tr>\n    <tr>\n      <th>mean</th>\n      <td>33.851332</td>\n      <td>2016.029872</td>\n      <td>2109.500000</td>\n      <td>1.0</td>\n    </tr>\n    <tr>\n      <th>std</th>\n      <td>8.072537</td>\n      <td>1.587555</td>\n      <td>1217.776047</td>\n      <td>0.0</td>\n    </tr>\n    <tr>\n      <th>min</th>\n      <td>15.000000</td>\n      <td>2014.000000</td>\n      <td>1.000000</td>\n      <td>1.0</td>\n    </tr>\n    <tr>\n      <th>25%</th>\n      <td>28.000000</td>\n      <td>2014.000000</td>\n      <td>1055.250000</td>\n      <td>1.0</td>\n    </tr>\n    <tr>\n      <th>50%</th>\n      <td>33.000000</td>\n      <td>2016.000000</td>\n      <td>2109.500000</td>\n      <td>1.0</td>\n    </tr>\n    <tr>\n      <th>75%</th>\n      <td>38.000000</td>\n      <td>2017.000000</td>\n      <td>3163.750000</td>\n      <td>1.0</td>\n    </tr>\n    <tr>\n      <th>max</th>\n      <td>74.000000</td>\n      <td>2019.000000</td>\n      <td>4218.000000</td>\n      <td>1.0</td>\n    </tr>\n  </tbody>\n</table>\n</div>"
     },
     "execution_count": 139,
     "metadata": {},
     "output_type": "execute_result"
    }
   ],
   "source": [
    "questions[0].describe()"
   ],
   "metadata": {
    "collapsed": false,
    "ExecuteTime": {
     "end_time": "2024-04-26T13:58:09.511729Z",
     "start_time": "2024-04-26T13:58:09.475109Z"
    }
   },
   "id": "93131f326b44c415",
   "execution_count": 139
  },
  {
   "cell_type": "markdown",
   "source": [
    "Visualize the age of our Users in a normalized histogram. Making the shape \n",
    "easier to compare between different surveys."
   ],
   "metadata": {
    "collapsed": false
   },
   "id": "a4cb06c9bbb4233a"
  },
  {
   "cell_type": "code",
   "outputs": [
    {
     "data": {
      "text/plain": "<Axes: xlabel='AnswerText', ylabel='Density'>"
     },
     "execution_count": 137,
     "metadata": {},
     "output_type": "execute_result"
    },
    {
     "data": {
      "text/plain": "<Figure size 500x400 with 1 Axes>",
      "image/png": "[encoded data removed]"
     },
     "metadata": {},
     "output_type": "display_data"
    }
   ],
   "source": [
    "plt.figure(figsize=(5, 4))\n",
    "sns.set_style(style='whitegrid')\n",
    "palette = sns.color_palette('deep', n_colors=len(questions[0]['SurveyID']\n",
    "                                              .unique()))\n",
    "sns.histplot(data=questions[0], x='AnswerText', hue='SurveyID', \n",
    "             palette=palette, element='step', stat='density', common_norm=False)"
   ],
   "metadata": {
    "collapsed": false,
    "ExecuteTime": {
     "end_time": "2024-04-26T13:34:46.289937Z",
     "start_time": "2024-04-26T13:34:45.348603Z"
    }
   },
   "id": "2528db478ee2a882",
   "execution_count": 137
  },
  {
   "cell_type": "markdown",
   "source": [
    "General distribution are similar across different surveys, with median \n",
    "around 33 years old."
   ],
   "metadata": {
    "collapsed": false
   },
   "id": "dc68b81a834e7b5"
  },
  {
   "cell_type": "markdown",
   "source": [
    "**QuestionID 2: What is your gender?**"
   ],
   "metadata": {
    "collapsed": false
   },
   "id": "5644a5faf85515ed"
  },
  {
   "cell_type": "code",
   "outputs": [],
   "source": [
    "def categorical_bar_plot():"
   ],
   "metadata": {
    "collapsed": false
   },
   "id": "6c4168802fbb2dc9"
  },
  {
   "cell_type": "code",
   "outputs": [],
   "source": [
    "plt.figure(figsize=(5, 4))\n",
    "sns.set_style(style='whitegrid')\n",
    "palette = sns.color_palette('deep', n_colors=len(questions[1]['SurveyID']\n",
    "                                              .unique()))\n",
    "sns.histplot(data=questions[0], x='AnswerText', hue='SurveyID', \n",
    "             palette=palette, element='step', stat='density', common_norm=False)"
   ],
   "metadata": {
    "collapsed": false
   },
   "id": "11e77af1d2c44fa4"
  },
  {
   "cell_type": "markdown",
   "source": [
    "## 3.4 Mental Health in Companies\n",
    "Objective:\n",
    "1. Mental health policies in companies.\n",
    "2. Understand the general population's perception of their company's stance on \n",
    "mental health related topics."
   ],
   "metadata": {
    "collapsed": false
   },
   "id": "ed464d7c0026c378"
  },
  {
   "cell_type": "markdown",
   "source": [
    "**QuestionID 1. 'What is your age?'**"
   ],
   "metadata": {
    "collapsed": false
   },
   "id": "e37ec08d8a6a3aa"
  },
  {
   "cell_type": "code",
   "outputs": [
    {
     "ename": "NameError",
     "evalue": "name 'answer_to_question_1' is not defined",
     "output_type": "error",
     "traceback": [
      "\u001B[1;31m---------------------------------------------------------------------------\u001B[0m",
      "\u001B[1;31mNameError\u001B[0m                                 Traceback (most recent call last)",
      "Cell \u001B[1;32mIn[138], line 1\u001B[0m\n\u001B[1;32m----> 1\u001B[0m \u001B[43manswer_to_question_1\u001B[49m\u001B[38;5;241m.\u001B[39mdescribe()\n",
      "\u001B[1;31mNameError\u001B[0m: name 'answer_to_question_1' is not defined"
     ]
    }
   ],
   "source": [
    "answer_to_question_1.describe()"
   ],
   "metadata": {
    "collapsed": false,
    "ExecuteTime": {
     "end_time": "2024-04-26T13:34:46.349500Z",
     "start_time": "2024-04-26T13:34:46.295207Z"
    }
   },
   "id": "ce1f42d1d4418244",
   "execution_count": 138
  },
  {
   "cell_type": "markdown",
   "source": [
    "1. Data Cleaning - treating outliers"
   ],
   "metadata": {
    "collapsed": false
   },
   "id": "7a3939aac920560b"
  },
  {
   "cell_type": "code",
   "outputs": [],
   "source": [
    "answer_to_question_1['AnswerText'] = (answer_to_question_1['AnswerText']\n",
    "                                      .apply(lambda x: x if 14<=x<=100 else \n",
    "pd.NA))"
   ],
   "metadata": {
    "collapsed": false,
    "ExecuteTime": {
     "end_time": "2024-04-26T13:34:46.357487Z",
     "start_time": "2024-04-26T13:34:46.354494Z"
    }
   },
   "id": "f5cf5491b6adecbb",
   "execution_count": null
  },
  {
   "cell_type": "code",
   "outputs": [],
   "source": [
    "available_data = (1-answer_to_question_1.isna().mean())*100"
   ],
   "metadata": {
    "collapsed": false
   },
   "id": "29ca3d915964c2a6",
   "execution_count": null
  },
  {
   "cell_type": "code",
   "outputs": [],
   "source": [
    "available_data = (1-answer_to_question_1.isna().mean())*100\n",
    "plt.figure(figsize=(5, 4))\n",
    "sns.set_style(style='whitegrid')\n",
    "sns.barplot(x=available_data.index, y=available_data\n",
    "            .values)"
   ],
   "metadata": {
    "collapsed": false,
    "ExecuteTime": {
     "end_time": "2024-04-26T13:34:46.368619Z",
     "start_time": "2024-04-26T13:34:46.367622Z"
    }
   },
   "id": "bb8341cdc56ee97e",
   "execution_count": null
  },
  {
   "cell_type": "code",
   "outputs": [],
   "source": [
    "plt.figure(figsize=(8, 5))\n",
    "sns.set_style(style='whitegrid')\n",
    "sns.histplot(data=answer_to_question_1, x='AnswerText', hue='SurveyID',  element='step', stat='count', common_norm=False)"
   ],
   "metadata": {
    "collapsed": false,
    "ExecuteTime": {
     "end_time": "2024-04-26T13:34:46.374602Z",
     "start_time": "2024-04-26T13:34:46.374602Z"
    }
   },
   "id": "d9fbc3c3bfddc7c6",
   "execution_count": null
  },
  {
   "cell_type": "code",
   "outputs": [],
   "source": [],
   "metadata": {
    "collapsed": false
   },
   "id": "7708b75bfcb47e3d",
   "execution_count": null
  }
 ],
 "metadata": {
  "kernelspec": {
   "display_name": "Python 3",
   "language": "python",
   "name": "python3"
  },
  "language_info": {
   "codemirror_mode": {
    "name": "ipython",
    "version": 2
   },
   "file_extension": ".py",
   "mimetype": "text/x-python",
   "name": "python",
   "nbconvert_exporter": "python",
   "pygments_lexer": "ipython2",
   "version": "2.7.6"
  }
 },
 "nbformat": 4,
 "nbformat_minor": 5
}
